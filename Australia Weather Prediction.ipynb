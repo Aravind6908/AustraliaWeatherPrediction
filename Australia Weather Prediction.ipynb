{
 "cells": [
  {
   "cell_type": "code",
   "execution_count": 1,
   "metadata": {},
   "outputs": [],
   "source": [
    "import os"
   ]
  },
  {
   "cell_type": "code",
   "execution_count": 2,
   "metadata": {},
   "outputs": [],
   "source": [
    "os.chdir('C:/Users/PERSANAL/Desktop/Datasets')"
   ]
  },
  {
   "cell_type": "code",
   "execution_count": 3,
   "metadata": {},
   "outputs": [
    {
     "data": {
      "text/plain": [
       "'C:\\\\Users\\\\PERSANAL\\\\Desktop\\\\Datasets'"
      ]
     },
     "execution_count": 3,
     "metadata": {},
     "output_type": "execute_result"
    }
   ],
   "source": [
    "os.getcwd()"
   ]
  },
  {
   "cell_type": "markdown",
   "metadata": {},
   "source": [
    "# Importing Libraries"
   ]
  },
  {
   "cell_type": "code",
   "execution_count": 4,
   "metadata": {},
   "outputs": [],
   "source": [
    "import pandas as pd\n",
    "import numpy as np\n",
    "import matplotlib.pyplot as plt\n",
    "%matplotlib inline"
   ]
  },
  {
   "cell_type": "code",
   "execution_count": 5,
   "metadata": {},
   "outputs": [],
   "source": [
    "weather = pd.read_csv('weather.csv')"
   ]
  },
  {
   "cell_type": "code",
   "execution_count": 6,
   "metadata": {},
   "outputs": [
    {
     "data": {
      "text/html": [
       "<div>\n",
       "<style scoped>\n",
       "    .dataframe tbody tr th:only-of-type {\n",
       "        vertical-align: middle;\n",
       "    }\n",
       "\n",
       "    .dataframe tbody tr th {\n",
       "        vertical-align: top;\n",
       "    }\n",
       "\n",
       "    .dataframe thead th {\n",
       "        text-align: right;\n",
       "    }\n",
       "</style>\n",
       "<table border=\"1\" class=\"dataframe\">\n",
       "  <thead>\n",
       "    <tr style=\"text-align: right;\">\n",
       "      <th></th>\n",
       "      <th>Date</th>\n",
       "      <th>Location</th>\n",
       "      <th>MinTemp</th>\n",
       "      <th>MaxTemp</th>\n",
       "      <th>Rainfall</th>\n",
       "      <th>Evaporation</th>\n",
       "      <th>Sunshine</th>\n",
       "      <th>WindGustDir</th>\n",
       "      <th>WindGustSpeed</th>\n",
       "      <th>WindDir9am</th>\n",
       "      <th>...</th>\n",
       "      <th>Humidity3pm</th>\n",
       "      <th>Pressure9am</th>\n",
       "      <th>Pressure3pm</th>\n",
       "      <th>Cloud9am</th>\n",
       "      <th>Cloud3pm</th>\n",
       "      <th>Temp9am</th>\n",
       "      <th>Temp3pm</th>\n",
       "      <th>RainToday</th>\n",
       "      <th>RISK_MM</th>\n",
       "      <th>RainTomorrow</th>\n",
       "    </tr>\n",
       "  </thead>\n",
       "  <tbody>\n",
       "    <tr>\n",
       "      <th>0</th>\n",
       "      <td>2008-12-01</td>\n",
       "      <td>Albury</td>\n",
       "      <td>13.4</td>\n",
       "      <td>22.9</td>\n",
       "      <td>0.6</td>\n",
       "      <td>NaN</td>\n",
       "      <td>NaN</td>\n",
       "      <td>W</td>\n",
       "      <td>44.0</td>\n",
       "      <td>W</td>\n",
       "      <td>...</td>\n",
       "      <td>22.0</td>\n",
       "      <td>1007.7</td>\n",
       "      <td>1007.1</td>\n",
       "      <td>8.0</td>\n",
       "      <td>NaN</td>\n",
       "      <td>16.9</td>\n",
       "      <td>21.8</td>\n",
       "      <td>No</td>\n",
       "      <td>0.0</td>\n",
       "      <td>No</td>\n",
       "    </tr>\n",
       "    <tr>\n",
       "      <th>1</th>\n",
       "      <td>2008-12-02</td>\n",
       "      <td>Albury</td>\n",
       "      <td>7.4</td>\n",
       "      <td>25.1</td>\n",
       "      <td>0.0</td>\n",
       "      <td>NaN</td>\n",
       "      <td>NaN</td>\n",
       "      <td>WNW</td>\n",
       "      <td>44.0</td>\n",
       "      <td>NNW</td>\n",
       "      <td>...</td>\n",
       "      <td>25.0</td>\n",
       "      <td>1010.6</td>\n",
       "      <td>1007.8</td>\n",
       "      <td>NaN</td>\n",
       "      <td>NaN</td>\n",
       "      <td>17.2</td>\n",
       "      <td>24.3</td>\n",
       "      <td>No</td>\n",
       "      <td>0.0</td>\n",
       "      <td>No</td>\n",
       "    </tr>\n",
       "    <tr>\n",
       "      <th>2</th>\n",
       "      <td>2008-12-03</td>\n",
       "      <td>Albury</td>\n",
       "      <td>12.9</td>\n",
       "      <td>25.7</td>\n",
       "      <td>0.0</td>\n",
       "      <td>NaN</td>\n",
       "      <td>NaN</td>\n",
       "      <td>WSW</td>\n",
       "      <td>46.0</td>\n",
       "      <td>W</td>\n",
       "      <td>...</td>\n",
       "      <td>30.0</td>\n",
       "      <td>1007.6</td>\n",
       "      <td>1008.7</td>\n",
       "      <td>NaN</td>\n",
       "      <td>2.0</td>\n",
       "      <td>21.0</td>\n",
       "      <td>23.2</td>\n",
       "      <td>No</td>\n",
       "      <td>0.0</td>\n",
       "      <td>No</td>\n",
       "    </tr>\n",
       "    <tr>\n",
       "      <th>3</th>\n",
       "      <td>2008-12-04</td>\n",
       "      <td>Albury</td>\n",
       "      <td>9.2</td>\n",
       "      <td>28.0</td>\n",
       "      <td>0.0</td>\n",
       "      <td>NaN</td>\n",
       "      <td>NaN</td>\n",
       "      <td>NE</td>\n",
       "      <td>24.0</td>\n",
       "      <td>SE</td>\n",
       "      <td>...</td>\n",
       "      <td>16.0</td>\n",
       "      <td>1017.6</td>\n",
       "      <td>1012.8</td>\n",
       "      <td>NaN</td>\n",
       "      <td>NaN</td>\n",
       "      <td>18.1</td>\n",
       "      <td>26.5</td>\n",
       "      <td>No</td>\n",
       "      <td>1.0</td>\n",
       "      <td>No</td>\n",
       "    </tr>\n",
       "    <tr>\n",
       "      <th>4</th>\n",
       "      <td>2008-12-05</td>\n",
       "      <td>Albury</td>\n",
       "      <td>17.5</td>\n",
       "      <td>32.3</td>\n",
       "      <td>1.0</td>\n",
       "      <td>NaN</td>\n",
       "      <td>NaN</td>\n",
       "      <td>W</td>\n",
       "      <td>41.0</td>\n",
       "      <td>ENE</td>\n",
       "      <td>...</td>\n",
       "      <td>33.0</td>\n",
       "      <td>1010.8</td>\n",
       "      <td>1006.0</td>\n",
       "      <td>7.0</td>\n",
       "      <td>8.0</td>\n",
       "      <td>17.8</td>\n",
       "      <td>29.7</td>\n",
       "      <td>No</td>\n",
       "      <td>0.2</td>\n",
       "      <td>No</td>\n",
       "    </tr>\n",
       "    <tr>\n",
       "      <th>5</th>\n",
       "      <td>2008-12-06</td>\n",
       "      <td>Albury</td>\n",
       "      <td>14.6</td>\n",
       "      <td>29.7</td>\n",
       "      <td>0.2</td>\n",
       "      <td>NaN</td>\n",
       "      <td>NaN</td>\n",
       "      <td>WNW</td>\n",
       "      <td>56.0</td>\n",
       "      <td>W</td>\n",
       "      <td>...</td>\n",
       "      <td>23.0</td>\n",
       "      <td>1009.2</td>\n",
       "      <td>1005.4</td>\n",
       "      <td>NaN</td>\n",
       "      <td>NaN</td>\n",
       "      <td>20.6</td>\n",
       "      <td>28.9</td>\n",
       "      <td>No</td>\n",
       "      <td>0.0</td>\n",
       "      <td>No</td>\n",
       "    </tr>\n",
       "    <tr>\n",
       "      <th>6</th>\n",
       "      <td>2008-12-07</td>\n",
       "      <td>Albury</td>\n",
       "      <td>14.3</td>\n",
       "      <td>25.0</td>\n",
       "      <td>0.0</td>\n",
       "      <td>NaN</td>\n",
       "      <td>NaN</td>\n",
       "      <td>W</td>\n",
       "      <td>50.0</td>\n",
       "      <td>SW</td>\n",
       "      <td>...</td>\n",
       "      <td>19.0</td>\n",
       "      <td>1009.6</td>\n",
       "      <td>1008.2</td>\n",
       "      <td>1.0</td>\n",
       "      <td>NaN</td>\n",
       "      <td>18.1</td>\n",
       "      <td>24.6</td>\n",
       "      <td>No</td>\n",
       "      <td>0.0</td>\n",
       "      <td>No</td>\n",
       "    </tr>\n",
       "    <tr>\n",
       "      <th>7</th>\n",
       "      <td>2008-12-08</td>\n",
       "      <td>Albury</td>\n",
       "      <td>7.7</td>\n",
       "      <td>26.7</td>\n",
       "      <td>0.0</td>\n",
       "      <td>NaN</td>\n",
       "      <td>NaN</td>\n",
       "      <td>W</td>\n",
       "      <td>35.0</td>\n",
       "      <td>SSE</td>\n",
       "      <td>...</td>\n",
       "      <td>19.0</td>\n",
       "      <td>1013.4</td>\n",
       "      <td>1010.1</td>\n",
       "      <td>NaN</td>\n",
       "      <td>NaN</td>\n",
       "      <td>16.3</td>\n",
       "      <td>25.5</td>\n",
       "      <td>No</td>\n",
       "      <td>0.0</td>\n",
       "      <td>No</td>\n",
       "    </tr>\n",
       "    <tr>\n",
       "      <th>8</th>\n",
       "      <td>2008-12-09</td>\n",
       "      <td>Albury</td>\n",
       "      <td>9.7</td>\n",
       "      <td>31.9</td>\n",
       "      <td>0.0</td>\n",
       "      <td>NaN</td>\n",
       "      <td>NaN</td>\n",
       "      <td>NNW</td>\n",
       "      <td>80.0</td>\n",
       "      <td>SE</td>\n",
       "      <td>...</td>\n",
       "      <td>9.0</td>\n",
       "      <td>1008.9</td>\n",
       "      <td>1003.6</td>\n",
       "      <td>NaN</td>\n",
       "      <td>NaN</td>\n",
       "      <td>18.3</td>\n",
       "      <td>30.2</td>\n",
       "      <td>No</td>\n",
       "      <td>1.4</td>\n",
       "      <td>Yes</td>\n",
       "    </tr>\n",
       "    <tr>\n",
       "      <th>9</th>\n",
       "      <td>2008-12-10</td>\n",
       "      <td>Albury</td>\n",
       "      <td>13.1</td>\n",
       "      <td>30.1</td>\n",
       "      <td>1.4</td>\n",
       "      <td>NaN</td>\n",
       "      <td>NaN</td>\n",
       "      <td>W</td>\n",
       "      <td>28.0</td>\n",
       "      <td>S</td>\n",
       "      <td>...</td>\n",
       "      <td>27.0</td>\n",
       "      <td>1007.0</td>\n",
       "      <td>1005.7</td>\n",
       "      <td>NaN</td>\n",
       "      <td>NaN</td>\n",
       "      <td>20.1</td>\n",
       "      <td>28.2</td>\n",
       "      <td>Yes</td>\n",
       "      <td>0.0</td>\n",
       "      <td>No</td>\n",
       "    </tr>\n",
       "    <tr>\n",
       "      <th>10</th>\n",
       "      <td>2008-12-11</td>\n",
       "      <td>Albury</td>\n",
       "      <td>13.4</td>\n",
       "      <td>30.4</td>\n",
       "      <td>0.0</td>\n",
       "      <td>NaN</td>\n",
       "      <td>NaN</td>\n",
       "      <td>N</td>\n",
       "      <td>30.0</td>\n",
       "      <td>SSE</td>\n",
       "      <td>...</td>\n",
       "      <td>22.0</td>\n",
       "      <td>1011.8</td>\n",
       "      <td>1008.7</td>\n",
       "      <td>NaN</td>\n",
       "      <td>NaN</td>\n",
       "      <td>20.4</td>\n",
       "      <td>28.8</td>\n",
       "      <td>No</td>\n",
       "      <td>2.2</td>\n",
       "      <td>Yes</td>\n",
       "    </tr>\n",
       "    <tr>\n",
       "      <th>11</th>\n",
       "      <td>2008-12-12</td>\n",
       "      <td>Albury</td>\n",
       "      <td>15.9</td>\n",
       "      <td>21.7</td>\n",
       "      <td>2.2</td>\n",
       "      <td>NaN</td>\n",
       "      <td>NaN</td>\n",
       "      <td>NNE</td>\n",
       "      <td>31.0</td>\n",
       "      <td>NE</td>\n",
       "      <td>...</td>\n",
       "      <td>91.0</td>\n",
       "      <td>1010.5</td>\n",
       "      <td>1004.2</td>\n",
       "      <td>8.0</td>\n",
       "      <td>8.0</td>\n",
       "      <td>15.9</td>\n",
       "      <td>17.0</td>\n",
       "      <td>Yes</td>\n",
       "      <td>15.6</td>\n",
       "      <td>Yes</td>\n",
       "    </tr>\n",
       "    <tr>\n",
       "      <th>12</th>\n",
       "      <td>2008-12-13</td>\n",
       "      <td>Albury</td>\n",
       "      <td>15.9</td>\n",
       "      <td>18.6</td>\n",
       "      <td>15.6</td>\n",
       "      <td>NaN</td>\n",
       "      <td>NaN</td>\n",
       "      <td>W</td>\n",
       "      <td>61.0</td>\n",
       "      <td>NNW</td>\n",
       "      <td>...</td>\n",
       "      <td>93.0</td>\n",
       "      <td>994.3</td>\n",
       "      <td>993.0</td>\n",
       "      <td>8.0</td>\n",
       "      <td>8.0</td>\n",
       "      <td>17.4</td>\n",
       "      <td>15.8</td>\n",
       "      <td>Yes</td>\n",
       "      <td>3.6</td>\n",
       "      <td>Yes</td>\n",
       "    </tr>\n",
       "    <tr>\n",
       "      <th>13</th>\n",
       "      <td>2008-12-14</td>\n",
       "      <td>Albury</td>\n",
       "      <td>12.6</td>\n",
       "      <td>21.0</td>\n",
       "      <td>3.6</td>\n",
       "      <td>NaN</td>\n",
       "      <td>NaN</td>\n",
       "      <td>SW</td>\n",
       "      <td>44.0</td>\n",
       "      <td>W</td>\n",
       "      <td>...</td>\n",
       "      <td>43.0</td>\n",
       "      <td>1001.2</td>\n",
       "      <td>1001.8</td>\n",
       "      <td>NaN</td>\n",
       "      <td>7.0</td>\n",
       "      <td>15.8</td>\n",
       "      <td>19.8</td>\n",
       "      <td>Yes</td>\n",
       "      <td>0.0</td>\n",
       "      <td>No</td>\n",
       "    </tr>\n",
       "    <tr>\n",
       "      <th>14</th>\n",
       "      <td>2008-12-16</td>\n",
       "      <td>Albury</td>\n",
       "      <td>9.8</td>\n",
       "      <td>27.7</td>\n",
       "      <td>NaN</td>\n",
       "      <td>NaN</td>\n",
       "      <td>NaN</td>\n",
       "      <td>WNW</td>\n",
       "      <td>50.0</td>\n",
       "      <td>NaN</td>\n",
       "      <td>...</td>\n",
       "      <td>28.0</td>\n",
       "      <td>1013.4</td>\n",
       "      <td>1010.3</td>\n",
       "      <td>0.0</td>\n",
       "      <td>NaN</td>\n",
       "      <td>17.3</td>\n",
       "      <td>26.2</td>\n",
       "      <td>NaN</td>\n",
       "      <td>0.0</td>\n",
       "      <td>No</td>\n",
       "    </tr>\n",
       "    <tr>\n",
       "      <th>15</th>\n",
       "      <td>2008-12-17</td>\n",
       "      <td>Albury</td>\n",
       "      <td>14.1</td>\n",
       "      <td>20.9</td>\n",
       "      <td>0.0</td>\n",
       "      <td>NaN</td>\n",
       "      <td>NaN</td>\n",
       "      <td>ENE</td>\n",
       "      <td>22.0</td>\n",
       "      <td>SSW</td>\n",
       "      <td>...</td>\n",
       "      <td>82.0</td>\n",
       "      <td>1012.2</td>\n",
       "      <td>1010.4</td>\n",
       "      <td>8.0</td>\n",
       "      <td>1.0</td>\n",
       "      <td>17.2</td>\n",
       "      <td>18.1</td>\n",
       "      <td>No</td>\n",
       "      <td>16.8</td>\n",
       "      <td>Yes</td>\n",
       "    </tr>\n",
       "    <tr>\n",
       "      <th>16</th>\n",
       "      <td>2008-12-18</td>\n",
       "      <td>Albury</td>\n",
       "      <td>13.5</td>\n",
       "      <td>22.9</td>\n",
       "      <td>16.8</td>\n",
       "      <td>NaN</td>\n",
       "      <td>NaN</td>\n",
       "      <td>W</td>\n",
       "      <td>63.0</td>\n",
       "      <td>N</td>\n",
       "      <td>...</td>\n",
       "      <td>65.0</td>\n",
       "      <td>1005.8</td>\n",
       "      <td>1002.2</td>\n",
       "      <td>8.0</td>\n",
       "      <td>1.0</td>\n",
       "      <td>18.0</td>\n",
       "      <td>21.5</td>\n",
       "      <td>Yes</td>\n",
       "      <td>10.6</td>\n",
       "      <td>Yes</td>\n",
       "    </tr>\n",
       "    <tr>\n",
       "      <th>17</th>\n",
       "      <td>2008-12-19</td>\n",
       "      <td>Albury</td>\n",
       "      <td>11.2</td>\n",
       "      <td>22.5</td>\n",
       "      <td>10.6</td>\n",
       "      <td>NaN</td>\n",
       "      <td>NaN</td>\n",
       "      <td>SSE</td>\n",
       "      <td>43.0</td>\n",
       "      <td>WSW</td>\n",
       "      <td>...</td>\n",
       "      <td>32.0</td>\n",
       "      <td>1009.4</td>\n",
       "      <td>1009.7</td>\n",
       "      <td>NaN</td>\n",
       "      <td>2.0</td>\n",
       "      <td>15.5</td>\n",
       "      <td>21.0</td>\n",
       "      <td>Yes</td>\n",
       "      <td>0.0</td>\n",
       "      <td>No</td>\n",
       "    </tr>\n",
       "    <tr>\n",
       "      <th>18</th>\n",
       "      <td>2008-12-20</td>\n",
       "      <td>Albury</td>\n",
       "      <td>9.8</td>\n",
       "      <td>25.6</td>\n",
       "      <td>0.0</td>\n",
       "      <td>NaN</td>\n",
       "      <td>NaN</td>\n",
       "      <td>SSE</td>\n",
       "      <td>26.0</td>\n",
       "      <td>SE</td>\n",
       "      <td>...</td>\n",
       "      <td>26.0</td>\n",
       "      <td>1019.2</td>\n",
       "      <td>1017.1</td>\n",
       "      <td>NaN</td>\n",
       "      <td>NaN</td>\n",
       "      <td>15.8</td>\n",
       "      <td>23.2</td>\n",
       "      <td>No</td>\n",
       "      <td>0.0</td>\n",
       "      <td>No</td>\n",
       "    </tr>\n",
       "    <tr>\n",
       "      <th>19</th>\n",
       "      <td>2008-12-21</td>\n",
       "      <td>Albury</td>\n",
       "      <td>11.5</td>\n",
       "      <td>29.3</td>\n",
       "      <td>0.0</td>\n",
       "      <td>NaN</td>\n",
       "      <td>NaN</td>\n",
       "      <td>S</td>\n",
       "      <td>24.0</td>\n",
       "      <td>SE</td>\n",
       "      <td>...</td>\n",
       "      <td>28.0</td>\n",
       "      <td>1019.3</td>\n",
       "      <td>1014.8</td>\n",
       "      <td>NaN</td>\n",
       "      <td>NaN</td>\n",
       "      <td>19.1</td>\n",
       "      <td>27.3</td>\n",
       "      <td>No</td>\n",
       "      <td>0.0</td>\n",
       "      <td>No</td>\n",
       "    </tr>\n",
       "    <tr>\n",
       "      <th>20</th>\n",
       "      <td>2008-12-22</td>\n",
       "      <td>Albury</td>\n",
       "      <td>17.1</td>\n",
       "      <td>33.0</td>\n",
       "      <td>0.0</td>\n",
       "      <td>NaN</td>\n",
       "      <td>NaN</td>\n",
       "      <td>NE</td>\n",
       "      <td>43.0</td>\n",
       "      <td>NE</td>\n",
       "      <td>...</td>\n",
       "      <td>28.0</td>\n",
       "      <td>1013.6</td>\n",
       "      <td>1008.1</td>\n",
       "      <td>NaN</td>\n",
       "      <td>1.0</td>\n",
       "      <td>24.5</td>\n",
       "      <td>31.6</td>\n",
       "      <td>No</td>\n",
       "      <td>0.0</td>\n",
       "      <td>No</td>\n",
       "    </tr>\n",
       "    <tr>\n",
       "      <th>21</th>\n",
       "      <td>2008-12-23</td>\n",
       "      <td>Albury</td>\n",
       "      <td>20.5</td>\n",
       "      <td>31.8</td>\n",
       "      <td>0.0</td>\n",
       "      <td>NaN</td>\n",
       "      <td>NaN</td>\n",
       "      <td>WNW</td>\n",
       "      <td>41.0</td>\n",
       "      <td>W</td>\n",
       "      <td>...</td>\n",
       "      <td>24.0</td>\n",
       "      <td>1007.8</td>\n",
       "      <td>1005.7</td>\n",
       "      <td>NaN</td>\n",
       "      <td>NaN</td>\n",
       "      <td>23.8</td>\n",
       "      <td>30.8</td>\n",
       "      <td>No</td>\n",
       "      <td>0.0</td>\n",
       "      <td>No</td>\n",
       "    </tr>\n",
       "    <tr>\n",
       "      <th>22</th>\n",
       "      <td>2008-12-24</td>\n",
       "      <td>Albury</td>\n",
       "      <td>15.3</td>\n",
       "      <td>30.9</td>\n",
       "      <td>0.0</td>\n",
       "      <td>NaN</td>\n",
       "      <td>NaN</td>\n",
       "      <td>N</td>\n",
       "      <td>33.0</td>\n",
       "      <td>ESE</td>\n",
       "      <td>...</td>\n",
       "      <td>23.0</td>\n",
       "      <td>1011.0</td>\n",
       "      <td>1008.2</td>\n",
       "      <td>5.0</td>\n",
       "      <td>NaN</td>\n",
       "      <td>20.9</td>\n",
       "      <td>29.0</td>\n",
       "      <td>No</td>\n",
       "      <td>0.0</td>\n",
       "      <td>No</td>\n",
       "    </tr>\n",
       "    <tr>\n",
       "      <th>23</th>\n",
       "      <td>2008-12-25</td>\n",
       "      <td>Albury</td>\n",
       "      <td>12.6</td>\n",
       "      <td>32.4</td>\n",
       "      <td>0.0</td>\n",
       "      <td>NaN</td>\n",
       "      <td>NaN</td>\n",
       "      <td>W</td>\n",
       "      <td>43.0</td>\n",
       "      <td>E</td>\n",
       "      <td>...</td>\n",
       "      <td>17.0</td>\n",
       "      <td>1012.9</td>\n",
       "      <td>1010.1</td>\n",
       "      <td>NaN</td>\n",
       "      <td>NaN</td>\n",
       "      <td>21.5</td>\n",
       "      <td>31.2</td>\n",
       "      <td>No</td>\n",
       "      <td>0.0</td>\n",
       "      <td>No</td>\n",
       "    </tr>\n",
       "    <tr>\n",
       "      <th>24</th>\n",
       "      <td>2008-12-26</td>\n",
       "      <td>Albury</td>\n",
       "      <td>16.2</td>\n",
       "      <td>33.9</td>\n",
       "      <td>0.0</td>\n",
       "      <td>NaN</td>\n",
       "      <td>NaN</td>\n",
       "      <td>WSW</td>\n",
       "      <td>35.0</td>\n",
       "      <td>SE</td>\n",
       "      <td>...</td>\n",
       "      <td>19.0</td>\n",
       "      <td>1010.9</td>\n",
       "      <td>1007.6</td>\n",
       "      <td>NaN</td>\n",
       "      <td>1.0</td>\n",
       "      <td>23.2</td>\n",
       "      <td>33.0</td>\n",
       "      <td>No</td>\n",
       "      <td>0.0</td>\n",
       "      <td>No</td>\n",
       "    </tr>\n",
       "    <tr>\n",
       "      <th>25</th>\n",
       "      <td>2008-12-27</td>\n",
       "      <td>Albury</td>\n",
       "      <td>16.9</td>\n",
       "      <td>33.0</td>\n",
       "      <td>0.0</td>\n",
       "      <td>NaN</td>\n",
       "      <td>NaN</td>\n",
       "      <td>WSW</td>\n",
       "      <td>57.0</td>\n",
       "      <td>NaN</td>\n",
       "      <td>...</td>\n",
       "      <td>28.0</td>\n",
       "      <td>1006.8</td>\n",
       "      <td>1003.6</td>\n",
       "      <td>NaN</td>\n",
       "      <td>1.0</td>\n",
       "      <td>26.6</td>\n",
       "      <td>31.2</td>\n",
       "      <td>No</td>\n",
       "      <td>0.0</td>\n",
       "      <td>No</td>\n",
       "    </tr>\n",
       "    <tr>\n",
       "      <th>26</th>\n",
       "      <td>2008-12-28</td>\n",
       "      <td>Albury</td>\n",
       "      <td>20.1</td>\n",
       "      <td>32.7</td>\n",
       "      <td>0.0</td>\n",
       "      <td>NaN</td>\n",
       "      <td>NaN</td>\n",
       "      <td>WNW</td>\n",
       "      <td>48.0</td>\n",
       "      <td>N</td>\n",
       "      <td>...</td>\n",
       "      <td>15.0</td>\n",
       "      <td>1005.2</td>\n",
       "      <td>1001.7</td>\n",
       "      <td>NaN</td>\n",
       "      <td>NaN</td>\n",
       "      <td>24.6</td>\n",
       "      <td>32.1</td>\n",
       "      <td>No</td>\n",
       "      <td>0.0</td>\n",
       "      <td>No</td>\n",
       "    </tr>\n",
       "    <tr>\n",
       "      <th>27</th>\n",
       "      <td>2008-12-29</td>\n",
       "      <td>Albury</td>\n",
       "      <td>19.7</td>\n",
       "      <td>27.2</td>\n",
       "      <td>0.0</td>\n",
       "      <td>NaN</td>\n",
       "      <td>NaN</td>\n",
       "      <td>WNW</td>\n",
       "      <td>46.0</td>\n",
       "      <td>NW</td>\n",
       "      <td>...</td>\n",
       "      <td>22.0</td>\n",
       "      <td>1004.8</td>\n",
       "      <td>1004.2</td>\n",
       "      <td>NaN</td>\n",
       "      <td>NaN</td>\n",
       "      <td>21.6</td>\n",
       "      <td>26.1</td>\n",
       "      <td>No</td>\n",
       "      <td>1.2</td>\n",
       "      <td>Yes</td>\n",
       "    </tr>\n",
       "    <tr>\n",
       "      <th>28</th>\n",
       "      <td>2008-12-30</td>\n",
       "      <td>Albury</td>\n",
       "      <td>12.5</td>\n",
       "      <td>24.2</td>\n",
       "      <td>1.2</td>\n",
       "      <td>NaN</td>\n",
       "      <td>NaN</td>\n",
       "      <td>WNW</td>\n",
       "      <td>50.0</td>\n",
       "      <td>WSW</td>\n",
       "      <td>...</td>\n",
       "      <td>70.0</td>\n",
       "      <td>1005.6</td>\n",
       "      <td>1003.4</td>\n",
       "      <td>8.0</td>\n",
       "      <td>8.0</td>\n",
       "      <td>12.5</td>\n",
       "      <td>18.2</td>\n",
       "      <td>Yes</td>\n",
       "      <td>0.8</td>\n",
       "      <td>No</td>\n",
       "    </tr>\n",
       "    <tr>\n",
       "      <th>29</th>\n",
       "      <td>2008-12-31</td>\n",
       "      <td>Albury</td>\n",
       "      <td>12.0</td>\n",
       "      <td>24.4</td>\n",
       "      <td>0.8</td>\n",
       "      <td>NaN</td>\n",
       "      <td>NaN</td>\n",
       "      <td>W</td>\n",
       "      <td>39.0</td>\n",
       "      <td>WNW</td>\n",
       "      <td>...</td>\n",
       "      <td>28.0</td>\n",
       "      <td>1006.1</td>\n",
       "      <td>1005.1</td>\n",
       "      <td>1.0</td>\n",
       "      <td>NaN</td>\n",
       "      <td>16.9</td>\n",
       "      <td>22.7</td>\n",
       "      <td>No</td>\n",
       "      <td>0.0</td>\n",
       "      <td>No</td>\n",
       "    </tr>\n",
       "    <tr>\n",
       "      <th>...</th>\n",
       "      <td>...</td>\n",
       "      <td>...</td>\n",
       "      <td>...</td>\n",
       "      <td>...</td>\n",
       "      <td>...</td>\n",
       "      <td>...</td>\n",
       "      <td>...</td>\n",
       "      <td>...</td>\n",
       "      <td>...</td>\n",
       "      <td>...</td>\n",
       "      <td>...</td>\n",
       "      <td>...</td>\n",
       "      <td>...</td>\n",
       "      <td>...</td>\n",
       "      <td>...</td>\n",
       "      <td>...</td>\n",
       "      <td>...</td>\n",
       "      <td>...</td>\n",
       "      <td>...</td>\n",
       "      <td>...</td>\n",
       "      <td>...</td>\n",
       "    </tr>\n",
       "    <tr>\n",
       "      <th>142163</th>\n",
       "      <td>2017-05-26</td>\n",
       "      <td>Uluru</td>\n",
       "      <td>14.3</td>\n",
       "      <td>27.6</td>\n",
       "      <td>0.4</td>\n",
       "      <td>NaN</td>\n",
       "      <td>NaN</td>\n",
       "      <td>WNW</td>\n",
       "      <td>39.0</td>\n",
       "      <td>NaN</td>\n",
       "      <td>...</td>\n",
       "      <td>27.0</td>\n",
       "      <td>1020.5</td>\n",
       "      <td>1016.1</td>\n",
       "      <td>4.0</td>\n",
       "      <td>7.0</td>\n",
       "      <td>16.1</td>\n",
       "      <td>27.2</td>\n",
       "      <td>No</td>\n",
       "      <td>0.0</td>\n",
       "      <td>No</td>\n",
       "    </tr>\n",
       "    <tr>\n",
       "      <th>142164</th>\n",
       "      <td>2017-05-27</td>\n",
       "      <td>Uluru</td>\n",
       "      <td>9.3</td>\n",
       "      <td>28.0</td>\n",
       "      <td>0.0</td>\n",
       "      <td>NaN</td>\n",
       "      <td>NaN</td>\n",
       "      <td>W</td>\n",
       "      <td>28.0</td>\n",
       "      <td>SSW</td>\n",
       "      <td>...</td>\n",
       "      <td>16.0</td>\n",
       "      <td>1019.9</td>\n",
       "      <td>1016.9</td>\n",
       "      <td>NaN</td>\n",
       "      <td>NaN</td>\n",
       "      <td>16.6</td>\n",
       "      <td>27.3</td>\n",
       "      <td>No</td>\n",
       "      <td>0.0</td>\n",
       "      <td>No</td>\n",
       "    </tr>\n",
       "    <tr>\n",
       "      <th>142165</th>\n",
       "      <td>2017-05-28</td>\n",
       "      <td>Uluru</td>\n",
       "      <td>8.0</td>\n",
       "      <td>24.6</td>\n",
       "      <td>0.0</td>\n",
       "      <td>NaN</td>\n",
       "      <td>NaN</td>\n",
       "      <td>E</td>\n",
       "      <td>33.0</td>\n",
       "      <td>SE</td>\n",
       "      <td>...</td>\n",
       "      <td>25.0</td>\n",
       "      <td>1021.7</td>\n",
       "      <td>1018.8</td>\n",
       "      <td>4.0</td>\n",
       "      <td>NaN</td>\n",
       "      <td>13.8</td>\n",
       "      <td>23.5</td>\n",
       "      <td>No</td>\n",
       "      <td>0.0</td>\n",
       "      <td>No</td>\n",
       "    </tr>\n",
       "    <tr>\n",
       "      <th>142166</th>\n",
       "      <td>2017-05-29</td>\n",
       "      <td>Uluru</td>\n",
       "      <td>12.7</td>\n",
       "      <td>22.2</td>\n",
       "      <td>0.0</td>\n",
       "      <td>NaN</td>\n",
       "      <td>NaN</td>\n",
       "      <td>E</td>\n",
       "      <td>37.0</td>\n",
       "      <td>E</td>\n",
       "      <td>...</td>\n",
       "      <td>34.0</td>\n",
       "      <td>1024.3</td>\n",
       "      <td>1021.7</td>\n",
       "      <td>8.0</td>\n",
       "      <td>8.0</td>\n",
       "      <td>13.9</td>\n",
       "      <td>21.0</td>\n",
       "      <td>No</td>\n",
       "      <td>0.0</td>\n",
       "      <td>No</td>\n",
       "    </tr>\n",
       "    <tr>\n",
       "      <th>142167</th>\n",
       "      <td>2017-05-30</td>\n",
       "      <td>Uluru</td>\n",
       "      <td>9.4</td>\n",
       "      <td>22.7</td>\n",
       "      <td>0.0</td>\n",
       "      <td>NaN</td>\n",
       "      <td>NaN</td>\n",
       "      <td>E</td>\n",
       "      <td>35.0</td>\n",
       "      <td>SE</td>\n",
       "      <td>...</td>\n",
       "      <td>32.0</td>\n",
       "      <td>1026.6</td>\n",
       "      <td>1023.6</td>\n",
       "      <td>8.0</td>\n",
       "      <td>4.0</td>\n",
       "      <td>11.8</td>\n",
       "      <td>22.3</td>\n",
       "      <td>No</td>\n",
       "      <td>0.0</td>\n",
       "      <td>No</td>\n",
       "    </tr>\n",
       "    <tr>\n",
       "      <th>142168</th>\n",
       "      <td>2017-05-31</td>\n",
       "      <td>Uluru</td>\n",
       "      <td>5.4</td>\n",
       "      <td>20.5</td>\n",
       "      <td>0.0</td>\n",
       "      <td>NaN</td>\n",
       "      <td>NaN</td>\n",
       "      <td>E</td>\n",
       "      <td>46.0</td>\n",
       "      <td>E</td>\n",
       "      <td>...</td>\n",
       "      <td>32.0</td>\n",
       "      <td>1029.2</td>\n",
       "      <td>1025.3</td>\n",
       "      <td>NaN</td>\n",
       "      <td>NaN</td>\n",
       "      <td>11.1</td>\n",
       "      <td>20.2</td>\n",
       "      <td>No</td>\n",
       "      <td>0.0</td>\n",
       "      <td>No</td>\n",
       "    </tr>\n",
       "    <tr>\n",
       "      <th>142169</th>\n",
       "      <td>2017-06-01</td>\n",
       "      <td>Uluru</td>\n",
       "      <td>5.6</td>\n",
       "      <td>19.4</td>\n",
       "      <td>0.0</td>\n",
       "      <td>NaN</td>\n",
       "      <td>NaN</td>\n",
       "      <td>E</td>\n",
       "      <td>43.0</td>\n",
       "      <td>E</td>\n",
       "      <td>...</td>\n",
       "      <td>22.0</td>\n",
       "      <td>1029.6</td>\n",
       "      <td>1027.1</td>\n",
       "      <td>NaN</td>\n",
       "      <td>NaN</td>\n",
       "      <td>9.7</td>\n",
       "      <td>18.3</td>\n",
       "      <td>No</td>\n",
       "      <td>0.0</td>\n",
       "      <td>No</td>\n",
       "    </tr>\n",
       "    <tr>\n",
       "      <th>142170</th>\n",
       "      <td>2017-06-02</td>\n",
       "      <td>Uluru</td>\n",
       "      <td>1.5</td>\n",
       "      <td>19.2</td>\n",
       "      <td>0.0</td>\n",
       "      <td>NaN</td>\n",
       "      <td>NaN</td>\n",
       "      <td>E</td>\n",
       "      <td>37.0</td>\n",
       "      <td>ESE</td>\n",
       "      <td>...</td>\n",
       "      <td>18.0</td>\n",
       "      <td>1030.7</td>\n",
       "      <td>1026.7</td>\n",
       "      <td>NaN</td>\n",
       "      <td>NaN</td>\n",
       "      <td>6.8</td>\n",
       "      <td>17.6</td>\n",
       "      <td>No</td>\n",
       "      <td>0.0</td>\n",
       "      <td>No</td>\n",
       "    </tr>\n",
       "    <tr>\n",
       "      <th>142171</th>\n",
       "      <td>2017-06-03</td>\n",
       "      <td>Uluru</td>\n",
       "      <td>3.8</td>\n",
       "      <td>19.8</td>\n",
       "      <td>0.0</td>\n",
       "      <td>NaN</td>\n",
       "      <td>NaN</td>\n",
       "      <td>ENE</td>\n",
       "      <td>39.0</td>\n",
       "      <td>ESE</td>\n",
       "      <td>...</td>\n",
       "      <td>22.0</td>\n",
       "      <td>1028.7</td>\n",
       "      <td>1024.1</td>\n",
       "      <td>NaN</td>\n",
       "      <td>NaN</td>\n",
       "      <td>8.6</td>\n",
       "      <td>18.9</td>\n",
       "      <td>No</td>\n",
       "      <td>0.0</td>\n",
       "      <td>No</td>\n",
       "    </tr>\n",
       "    <tr>\n",
       "      <th>142172</th>\n",
       "      <td>2017-06-04</td>\n",
       "      <td>Uluru</td>\n",
       "      <td>4.5</td>\n",
       "      <td>18.8</td>\n",
       "      <td>0.0</td>\n",
       "      <td>NaN</td>\n",
       "      <td>NaN</td>\n",
       "      <td>E</td>\n",
       "      <td>31.0</td>\n",
       "      <td>ESE</td>\n",
       "      <td>...</td>\n",
       "      <td>26.0</td>\n",
       "      <td>1026.9</td>\n",
       "      <td>1022.4</td>\n",
       "      <td>NaN</td>\n",
       "      <td>NaN</td>\n",
       "      <td>9.5</td>\n",
       "      <td>18.6</td>\n",
       "      <td>No</td>\n",
       "      <td>0.0</td>\n",
       "      <td>No</td>\n",
       "    </tr>\n",
       "    <tr>\n",
       "      <th>142173</th>\n",
       "      <td>2017-06-05</td>\n",
       "      <td>Uluru</td>\n",
       "      <td>4.9</td>\n",
       "      <td>20.7</td>\n",
       "      <td>0.0</td>\n",
       "      <td>NaN</td>\n",
       "      <td>NaN</td>\n",
       "      <td>E</td>\n",
       "      <td>37.0</td>\n",
       "      <td>ESE</td>\n",
       "      <td>...</td>\n",
       "      <td>11.0</td>\n",
       "      <td>1027.1</td>\n",
       "      <td>1023.9</td>\n",
       "      <td>NaN</td>\n",
       "      <td>NaN</td>\n",
       "      <td>10.3</td>\n",
       "      <td>19.8</td>\n",
       "      <td>No</td>\n",
       "      <td>0.0</td>\n",
       "      <td>No</td>\n",
       "    </tr>\n",
       "    <tr>\n",
       "      <th>142174</th>\n",
       "      <td>2017-06-06</td>\n",
       "      <td>Uluru</td>\n",
       "      <td>1.2</td>\n",
       "      <td>20.8</td>\n",
       "      <td>0.0</td>\n",
       "      <td>NaN</td>\n",
       "      <td>NaN</td>\n",
       "      <td>E</td>\n",
       "      <td>43.0</td>\n",
       "      <td>ESE</td>\n",
       "      <td>...</td>\n",
       "      <td>6.0</td>\n",
       "      <td>1029.8</td>\n",
       "      <td>1025.9</td>\n",
       "      <td>NaN</td>\n",
       "      <td>NaN</td>\n",
       "      <td>7.9</td>\n",
       "      <td>19.9</td>\n",
       "      <td>No</td>\n",
       "      <td>0.0</td>\n",
       "      <td>No</td>\n",
       "    </tr>\n",
       "    <tr>\n",
       "      <th>142175</th>\n",
       "      <td>2017-06-07</td>\n",
       "      <td>Uluru</td>\n",
       "      <td>0.5</td>\n",
       "      <td>21.7</td>\n",
       "      <td>0.0</td>\n",
       "      <td>NaN</td>\n",
       "      <td>NaN</td>\n",
       "      <td>E</td>\n",
       "      <td>43.0</td>\n",
       "      <td>ESE</td>\n",
       "      <td>...</td>\n",
       "      <td>19.0</td>\n",
       "      <td>1029.0</td>\n",
       "      <td>1025.0</td>\n",
       "      <td>NaN</td>\n",
       "      <td>NaN</td>\n",
       "      <td>9.5</td>\n",
       "      <td>20.5</td>\n",
       "      <td>No</td>\n",
       "      <td>0.0</td>\n",
       "      <td>No</td>\n",
       "    </tr>\n",
       "    <tr>\n",
       "      <th>142176</th>\n",
       "      <td>2017-06-08</td>\n",
       "      <td>Uluru</td>\n",
       "      <td>4.0</td>\n",
       "      <td>20.0</td>\n",
       "      <td>0.0</td>\n",
       "      <td>NaN</td>\n",
       "      <td>NaN</td>\n",
       "      <td>SE</td>\n",
       "      <td>39.0</td>\n",
       "      <td>ESE</td>\n",
       "      <td>...</td>\n",
       "      <td>26.0</td>\n",
       "      <td>1030.2</td>\n",
       "      <td>1026.7</td>\n",
       "      <td>NaN</td>\n",
       "      <td>NaN</td>\n",
       "      <td>9.1</td>\n",
       "      <td>19.0</td>\n",
       "      <td>No</td>\n",
       "      <td>0.0</td>\n",
       "      <td>No</td>\n",
       "    </tr>\n",
       "    <tr>\n",
       "      <th>142177</th>\n",
       "      <td>2017-06-09</td>\n",
       "      <td>Uluru</td>\n",
       "      <td>3.4</td>\n",
       "      <td>19.8</td>\n",
       "      <td>0.0</td>\n",
       "      <td>NaN</td>\n",
       "      <td>NaN</td>\n",
       "      <td>E</td>\n",
       "      <td>43.0</td>\n",
       "      <td>ESE</td>\n",
       "      <td>...</td>\n",
       "      <td>23.0</td>\n",
       "      <td>1031.8</td>\n",
       "      <td>1027.7</td>\n",
       "      <td>NaN</td>\n",
       "      <td>NaN</td>\n",
       "      <td>8.7</td>\n",
       "      <td>18.9</td>\n",
       "      <td>No</td>\n",
       "      <td>0.0</td>\n",
       "      <td>No</td>\n",
       "    </tr>\n",
       "    <tr>\n",
       "      <th>142178</th>\n",
       "      <td>2017-06-10</td>\n",
       "      <td>Uluru</td>\n",
       "      <td>3.2</td>\n",
       "      <td>18.6</td>\n",
       "      <td>0.0</td>\n",
       "      <td>NaN</td>\n",
       "      <td>NaN</td>\n",
       "      <td>E</td>\n",
       "      <td>46.0</td>\n",
       "      <td>ESE</td>\n",
       "      <td>...</td>\n",
       "      <td>29.0</td>\n",
       "      <td>1031.0</td>\n",
       "      <td>1027.2</td>\n",
       "      <td>NaN</td>\n",
       "      <td>NaN</td>\n",
       "      <td>8.2</td>\n",
       "      <td>17.4</td>\n",
       "      <td>No</td>\n",
       "      <td>0.0</td>\n",
       "      <td>No</td>\n",
       "    </tr>\n",
       "    <tr>\n",
       "      <th>142179</th>\n",
       "      <td>2017-06-11</td>\n",
       "      <td>Uluru</td>\n",
       "      <td>2.4</td>\n",
       "      <td>19.1</td>\n",
       "      <td>0.0</td>\n",
       "      <td>NaN</td>\n",
       "      <td>NaN</td>\n",
       "      <td>E</td>\n",
       "      <td>33.0</td>\n",
       "      <td>SE</td>\n",
       "      <td>...</td>\n",
       "      <td>24.0</td>\n",
       "      <td>1030.0</td>\n",
       "      <td>1026.2</td>\n",
       "      <td>NaN</td>\n",
       "      <td>NaN</td>\n",
       "      <td>8.0</td>\n",
       "      <td>18.8</td>\n",
       "      <td>No</td>\n",
       "      <td>0.0</td>\n",
       "      <td>No</td>\n",
       "    </tr>\n",
       "    <tr>\n",
       "      <th>142180</th>\n",
       "      <td>2017-06-12</td>\n",
       "      <td>Uluru</td>\n",
       "      <td>5.1</td>\n",
       "      <td>19.7</td>\n",
       "      <td>0.0</td>\n",
       "      <td>NaN</td>\n",
       "      <td>NaN</td>\n",
       "      <td>E</td>\n",
       "      <td>46.0</td>\n",
       "      <td>ESE</td>\n",
       "      <td>...</td>\n",
       "      <td>29.0</td>\n",
       "      <td>1028.5</td>\n",
       "      <td>1025.8</td>\n",
       "      <td>NaN</td>\n",
       "      <td>NaN</td>\n",
       "      <td>8.5</td>\n",
       "      <td>19.2</td>\n",
       "      <td>No</td>\n",
       "      <td>0.0</td>\n",
       "      <td>No</td>\n",
       "    </tr>\n",
       "    <tr>\n",
       "      <th>142181</th>\n",
       "      <td>2017-06-13</td>\n",
       "      <td>Uluru</td>\n",
       "      <td>2.5</td>\n",
       "      <td>21.2</td>\n",
       "      <td>0.0</td>\n",
       "      <td>NaN</td>\n",
       "      <td>NaN</td>\n",
       "      <td>ENE</td>\n",
       "      <td>35.0</td>\n",
       "      <td>ESE</td>\n",
       "      <td>...</td>\n",
       "      <td>32.0</td>\n",
       "      <td>1027.2</td>\n",
       "      <td>1023.0</td>\n",
       "      <td>NaN</td>\n",
       "      <td>NaN</td>\n",
       "      <td>10.3</td>\n",
       "      <td>20.3</td>\n",
       "      <td>No</td>\n",
       "      <td>0.0</td>\n",
       "      <td>No</td>\n",
       "    </tr>\n",
       "    <tr>\n",
       "      <th>142182</th>\n",
       "      <td>2017-06-14</td>\n",
       "      <td>Uluru</td>\n",
       "      <td>2.3</td>\n",
       "      <td>21.4</td>\n",
       "      <td>0.0</td>\n",
       "      <td>NaN</td>\n",
       "      <td>NaN</td>\n",
       "      <td>SE</td>\n",
       "      <td>22.0</td>\n",
       "      <td>SE</td>\n",
       "      <td>...</td>\n",
       "      <td>28.0</td>\n",
       "      <td>1026.9</td>\n",
       "      <td>1022.8</td>\n",
       "      <td>NaN</td>\n",
       "      <td>NaN</td>\n",
       "      <td>8.9</td>\n",
       "      <td>20.3</td>\n",
       "      <td>No</td>\n",
       "      <td>0.0</td>\n",
       "      <td>No</td>\n",
       "    </tr>\n",
       "    <tr>\n",
       "      <th>142183</th>\n",
       "      <td>2017-06-15</td>\n",
       "      <td>Uluru</td>\n",
       "      <td>2.6</td>\n",
       "      <td>22.5</td>\n",
       "      <td>0.0</td>\n",
       "      <td>NaN</td>\n",
       "      <td>NaN</td>\n",
       "      <td>S</td>\n",
       "      <td>19.0</td>\n",
       "      <td>S</td>\n",
       "      <td>...</td>\n",
       "      <td>24.0</td>\n",
       "      <td>1025.0</td>\n",
       "      <td>1021.4</td>\n",
       "      <td>NaN</td>\n",
       "      <td>NaN</td>\n",
       "      <td>8.8</td>\n",
       "      <td>22.1</td>\n",
       "      <td>No</td>\n",
       "      <td>0.0</td>\n",
       "      <td>No</td>\n",
       "    </tr>\n",
       "    <tr>\n",
       "      <th>142184</th>\n",
       "      <td>2017-06-16</td>\n",
       "      <td>Uluru</td>\n",
       "      <td>5.2</td>\n",
       "      <td>24.3</td>\n",
       "      <td>0.0</td>\n",
       "      <td>NaN</td>\n",
       "      <td>NaN</td>\n",
       "      <td>E</td>\n",
       "      <td>24.0</td>\n",
       "      <td>SE</td>\n",
       "      <td>...</td>\n",
       "      <td>24.0</td>\n",
       "      <td>1023.8</td>\n",
       "      <td>1020.0</td>\n",
       "      <td>NaN</td>\n",
       "      <td>NaN</td>\n",
       "      <td>12.3</td>\n",
       "      <td>23.3</td>\n",
       "      <td>No</td>\n",
       "      <td>0.0</td>\n",
       "      <td>No</td>\n",
       "    </tr>\n",
       "    <tr>\n",
       "      <th>142185</th>\n",
       "      <td>2017-06-17</td>\n",
       "      <td>Uluru</td>\n",
       "      <td>6.4</td>\n",
       "      <td>23.4</td>\n",
       "      <td>0.0</td>\n",
       "      <td>NaN</td>\n",
       "      <td>NaN</td>\n",
       "      <td>ESE</td>\n",
       "      <td>31.0</td>\n",
       "      <td>S</td>\n",
       "      <td>...</td>\n",
       "      <td>25.0</td>\n",
       "      <td>1025.8</td>\n",
       "      <td>1023.0</td>\n",
       "      <td>NaN</td>\n",
       "      <td>NaN</td>\n",
       "      <td>11.2</td>\n",
       "      <td>23.1</td>\n",
       "      <td>No</td>\n",
       "      <td>0.0</td>\n",
       "      <td>No</td>\n",
       "    </tr>\n",
       "    <tr>\n",
       "      <th>142186</th>\n",
       "      <td>2017-06-18</td>\n",
       "      <td>Uluru</td>\n",
       "      <td>8.0</td>\n",
       "      <td>20.7</td>\n",
       "      <td>0.0</td>\n",
       "      <td>NaN</td>\n",
       "      <td>NaN</td>\n",
       "      <td>ESE</td>\n",
       "      <td>41.0</td>\n",
       "      <td>SE</td>\n",
       "      <td>...</td>\n",
       "      <td>32.0</td>\n",
       "      <td>1028.1</td>\n",
       "      <td>1024.3</td>\n",
       "      <td>NaN</td>\n",
       "      <td>7.0</td>\n",
       "      <td>11.6</td>\n",
       "      <td>20.0</td>\n",
       "      <td>No</td>\n",
       "      <td>0.0</td>\n",
       "      <td>No</td>\n",
       "    </tr>\n",
       "    <tr>\n",
       "      <th>142187</th>\n",
       "      <td>2017-06-19</td>\n",
       "      <td>Uluru</td>\n",
       "      <td>7.4</td>\n",
       "      <td>20.6</td>\n",
       "      <td>0.0</td>\n",
       "      <td>NaN</td>\n",
       "      <td>NaN</td>\n",
       "      <td>E</td>\n",
       "      <td>35.0</td>\n",
       "      <td>ESE</td>\n",
       "      <td>...</td>\n",
       "      <td>33.0</td>\n",
       "      <td>1027.2</td>\n",
       "      <td>1023.3</td>\n",
       "      <td>NaN</td>\n",
       "      <td>NaN</td>\n",
       "      <td>11.0</td>\n",
       "      <td>20.3</td>\n",
       "      <td>No</td>\n",
       "      <td>0.0</td>\n",
       "      <td>No</td>\n",
       "    </tr>\n",
       "    <tr>\n",
       "      <th>142188</th>\n",
       "      <td>2017-06-20</td>\n",
       "      <td>Uluru</td>\n",
       "      <td>3.5</td>\n",
       "      <td>21.8</td>\n",
       "      <td>0.0</td>\n",
       "      <td>NaN</td>\n",
       "      <td>NaN</td>\n",
       "      <td>E</td>\n",
       "      <td>31.0</td>\n",
       "      <td>ESE</td>\n",
       "      <td>...</td>\n",
       "      <td>27.0</td>\n",
       "      <td>1024.7</td>\n",
       "      <td>1021.2</td>\n",
       "      <td>NaN</td>\n",
       "      <td>NaN</td>\n",
       "      <td>9.4</td>\n",
       "      <td>20.9</td>\n",
       "      <td>No</td>\n",
       "      <td>0.0</td>\n",
       "      <td>No</td>\n",
       "    </tr>\n",
       "    <tr>\n",
       "      <th>142189</th>\n",
       "      <td>2017-06-21</td>\n",
       "      <td>Uluru</td>\n",
       "      <td>2.8</td>\n",
       "      <td>23.4</td>\n",
       "      <td>0.0</td>\n",
       "      <td>NaN</td>\n",
       "      <td>NaN</td>\n",
       "      <td>E</td>\n",
       "      <td>31.0</td>\n",
       "      <td>SE</td>\n",
       "      <td>...</td>\n",
       "      <td>24.0</td>\n",
       "      <td>1024.6</td>\n",
       "      <td>1020.3</td>\n",
       "      <td>NaN</td>\n",
       "      <td>NaN</td>\n",
       "      <td>10.1</td>\n",
       "      <td>22.4</td>\n",
       "      <td>No</td>\n",
       "      <td>0.0</td>\n",
       "      <td>No</td>\n",
       "    </tr>\n",
       "    <tr>\n",
       "      <th>142190</th>\n",
       "      <td>2017-06-22</td>\n",
       "      <td>Uluru</td>\n",
       "      <td>3.6</td>\n",
       "      <td>25.3</td>\n",
       "      <td>0.0</td>\n",
       "      <td>NaN</td>\n",
       "      <td>NaN</td>\n",
       "      <td>NNW</td>\n",
       "      <td>22.0</td>\n",
       "      <td>SE</td>\n",
       "      <td>...</td>\n",
       "      <td>21.0</td>\n",
       "      <td>1023.5</td>\n",
       "      <td>1019.1</td>\n",
       "      <td>NaN</td>\n",
       "      <td>NaN</td>\n",
       "      <td>10.9</td>\n",
       "      <td>24.5</td>\n",
       "      <td>No</td>\n",
       "      <td>0.0</td>\n",
       "      <td>No</td>\n",
       "    </tr>\n",
       "    <tr>\n",
       "      <th>142191</th>\n",
       "      <td>2017-06-23</td>\n",
       "      <td>Uluru</td>\n",
       "      <td>5.4</td>\n",
       "      <td>26.9</td>\n",
       "      <td>0.0</td>\n",
       "      <td>NaN</td>\n",
       "      <td>NaN</td>\n",
       "      <td>N</td>\n",
       "      <td>37.0</td>\n",
       "      <td>SE</td>\n",
       "      <td>...</td>\n",
       "      <td>24.0</td>\n",
       "      <td>1021.0</td>\n",
       "      <td>1016.8</td>\n",
       "      <td>NaN</td>\n",
       "      <td>NaN</td>\n",
       "      <td>12.5</td>\n",
       "      <td>26.1</td>\n",
       "      <td>No</td>\n",
       "      <td>0.0</td>\n",
       "      <td>No</td>\n",
       "    </tr>\n",
       "    <tr>\n",
       "      <th>142192</th>\n",
       "      <td>2017-06-24</td>\n",
       "      <td>Uluru</td>\n",
       "      <td>7.8</td>\n",
       "      <td>27.0</td>\n",
       "      <td>0.0</td>\n",
       "      <td>NaN</td>\n",
       "      <td>NaN</td>\n",
       "      <td>SE</td>\n",
       "      <td>28.0</td>\n",
       "      <td>SSE</td>\n",
       "      <td>...</td>\n",
       "      <td>24.0</td>\n",
       "      <td>1019.4</td>\n",
       "      <td>1016.5</td>\n",
       "      <td>3.0</td>\n",
       "      <td>2.0</td>\n",
       "      <td>15.1</td>\n",
       "      <td>26.0</td>\n",
       "      <td>No</td>\n",
       "      <td>0.0</td>\n",
       "      <td>No</td>\n",
       "    </tr>\n",
       "  </tbody>\n",
       "</table>\n",
       "<p>142193 rows × 24 columns</p>\n",
       "</div>"
      ],
      "text/plain": [
       "              Date Location  MinTemp  MaxTemp  Rainfall  Evaporation  \\\n",
       "0       2008-12-01   Albury     13.4     22.9       0.6          NaN   \n",
       "1       2008-12-02   Albury      7.4     25.1       0.0          NaN   \n",
       "2       2008-12-03   Albury     12.9     25.7       0.0          NaN   \n",
       "3       2008-12-04   Albury      9.2     28.0       0.0          NaN   \n",
       "4       2008-12-05   Albury     17.5     32.3       1.0          NaN   \n",
       "5       2008-12-06   Albury     14.6     29.7       0.2          NaN   \n",
       "6       2008-12-07   Albury     14.3     25.0       0.0          NaN   \n",
       "7       2008-12-08   Albury      7.7     26.7       0.0          NaN   \n",
       "8       2008-12-09   Albury      9.7     31.9       0.0          NaN   \n",
       "9       2008-12-10   Albury     13.1     30.1       1.4          NaN   \n",
       "10      2008-12-11   Albury     13.4     30.4       0.0          NaN   \n",
       "11      2008-12-12   Albury     15.9     21.7       2.2          NaN   \n",
       "12      2008-12-13   Albury     15.9     18.6      15.6          NaN   \n",
       "13      2008-12-14   Albury     12.6     21.0       3.6          NaN   \n",
       "14      2008-12-16   Albury      9.8     27.7       NaN          NaN   \n",
       "15      2008-12-17   Albury     14.1     20.9       0.0          NaN   \n",
       "16      2008-12-18   Albury     13.5     22.9      16.8          NaN   \n",
       "17      2008-12-19   Albury     11.2     22.5      10.6          NaN   \n",
       "18      2008-12-20   Albury      9.8     25.6       0.0          NaN   \n",
       "19      2008-12-21   Albury     11.5     29.3       0.0          NaN   \n",
       "20      2008-12-22   Albury     17.1     33.0       0.0          NaN   \n",
       "21      2008-12-23   Albury     20.5     31.8       0.0          NaN   \n",
       "22      2008-12-24   Albury     15.3     30.9       0.0          NaN   \n",
       "23      2008-12-25   Albury     12.6     32.4       0.0          NaN   \n",
       "24      2008-12-26   Albury     16.2     33.9       0.0          NaN   \n",
       "25      2008-12-27   Albury     16.9     33.0       0.0          NaN   \n",
       "26      2008-12-28   Albury     20.1     32.7       0.0          NaN   \n",
       "27      2008-12-29   Albury     19.7     27.2       0.0          NaN   \n",
       "28      2008-12-30   Albury     12.5     24.2       1.2          NaN   \n",
       "29      2008-12-31   Albury     12.0     24.4       0.8          NaN   \n",
       "...            ...      ...      ...      ...       ...          ...   \n",
       "142163  2017-05-26    Uluru     14.3     27.6       0.4          NaN   \n",
       "142164  2017-05-27    Uluru      9.3     28.0       0.0          NaN   \n",
       "142165  2017-05-28    Uluru      8.0     24.6       0.0          NaN   \n",
       "142166  2017-05-29    Uluru     12.7     22.2       0.0          NaN   \n",
       "142167  2017-05-30    Uluru      9.4     22.7       0.0          NaN   \n",
       "142168  2017-05-31    Uluru      5.4     20.5       0.0          NaN   \n",
       "142169  2017-06-01    Uluru      5.6     19.4       0.0          NaN   \n",
       "142170  2017-06-02    Uluru      1.5     19.2       0.0          NaN   \n",
       "142171  2017-06-03    Uluru      3.8     19.8       0.0          NaN   \n",
       "142172  2017-06-04    Uluru      4.5     18.8       0.0          NaN   \n",
       "142173  2017-06-05    Uluru      4.9     20.7       0.0          NaN   \n",
       "142174  2017-06-06    Uluru      1.2     20.8       0.0          NaN   \n",
       "142175  2017-06-07    Uluru      0.5     21.7       0.0          NaN   \n",
       "142176  2017-06-08    Uluru      4.0     20.0       0.0          NaN   \n",
       "142177  2017-06-09    Uluru      3.4     19.8       0.0          NaN   \n",
       "142178  2017-06-10    Uluru      3.2     18.6       0.0          NaN   \n",
       "142179  2017-06-11    Uluru      2.4     19.1       0.0          NaN   \n",
       "142180  2017-06-12    Uluru      5.1     19.7       0.0          NaN   \n",
       "142181  2017-06-13    Uluru      2.5     21.2       0.0          NaN   \n",
       "142182  2017-06-14    Uluru      2.3     21.4       0.0          NaN   \n",
       "142183  2017-06-15    Uluru      2.6     22.5       0.0          NaN   \n",
       "142184  2017-06-16    Uluru      5.2     24.3       0.0          NaN   \n",
       "142185  2017-06-17    Uluru      6.4     23.4       0.0          NaN   \n",
       "142186  2017-06-18    Uluru      8.0     20.7       0.0          NaN   \n",
       "142187  2017-06-19    Uluru      7.4     20.6       0.0          NaN   \n",
       "142188  2017-06-20    Uluru      3.5     21.8       0.0          NaN   \n",
       "142189  2017-06-21    Uluru      2.8     23.4       0.0          NaN   \n",
       "142190  2017-06-22    Uluru      3.6     25.3       0.0          NaN   \n",
       "142191  2017-06-23    Uluru      5.4     26.9       0.0          NaN   \n",
       "142192  2017-06-24    Uluru      7.8     27.0       0.0          NaN   \n",
       "\n",
       "        Sunshine WindGustDir  WindGustSpeed WindDir9am  ... Humidity3pm  \\\n",
       "0            NaN           W           44.0          W  ...        22.0   \n",
       "1            NaN         WNW           44.0        NNW  ...        25.0   \n",
       "2            NaN         WSW           46.0          W  ...        30.0   \n",
       "3            NaN          NE           24.0         SE  ...        16.0   \n",
       "4            NaN           W           41.0        ENE  ...        33.0   \n",
       "5            NaN         WNW           56.0          W  ...        23.0   \n",
       "6            NaN           W           50.0         SW  ...        19.0   \n",
       "7            NaN           W           35.0        SSE  ...        19.0   \n",
       "8            NaN         NNW           80.0         SE  ...         9.0   \n",
       "9            NaN           W           28.0          S  ...        27.0   \n",
       "10           NaN           N           30.0        SSE  ...        22.0   \n",
       "11           NaN         NNE           31.0         NE  ...        91.0   \n",
       "12           NaN           W           61.0        NNW  ...        93.0   \n",
       "13           NaN          SW           44.0          W  ...        43.0   \n",
       "14           NaN         WNW           50.0        NaN  ...        28.0   \n",
       "15           NaN         ENE           22.0        SSW  ...        82.0   \n",
       "16           NaN           W           63.0          N  ...        65.0   \n",
       "17           NaN         SSE           43.0        WSW  ...        32.0   \n",
       "18           NaN         SSE           26.0         SE  ...        26.0   \n",
       "19           NaN           S           24.0         SE  ...        28.0   \n",
       "20           NaN          NE           43.0         NE  ...        28.0   \n",
       "21           NaN         WNW           41.0          W  ...        24.0   \n",
       "22           NaN           N           33.0        ESE  ...        23.0   \n",
       "23           NaN           W           43.0          E  ...        17.0   \n",
       "24           NaN         WSW           35.0         SE  ...        19.0   \n",
       "25           NaN         WSW           57.0        NaN  ...        28.0   \n",
       "26           NaN         WNW           48.0          N  ...        15.0   \n",
       "27           NaN         WNW           46.0         NW  ...        22.0   \n",
       "28           NaN         WNW           50.0        WSW  ...        70.0   \n",
       "29           NaN           W           39.0        WNW  ...        28.0   \n",
       "...          ...         ...            ...        ...  ...         ...   \n",
       "142163       NaN         WNW           39.0        NaN  ...        27.0   \n",
       "142164       NaN           W           28.0        SSW  ...        16.0   \n",
       "142165       NaN           E           33.0         SE  ...        25.0   \n",
       "142166       NaN           E           37.0          E  ...        34.0   \n",
       "142167       NaN           E           35.0         SE  ...        32.0   \n",
       "142168       NaN           E           46.0          E  ...        32.0   \n",
       "142169       NaN           E           43.0          E  ...        22.0   \n",
       "142170       NaN           E           37.0        ESE  ...        18.0   \n",
       "142171       NaN         ENE           39.0        ESE  ...        22.0   \n",
       "142172       NaN           E           31.0        ESE  ...        26.0   \n",
       "142173       NaN           E           37.0        ESE  ...        11.0   \n",
       "142174       NaN           E           43.0        ESE  ...         6.0   \n",
       "142175       NaN           E           43.0        ESE  ...        19.0   \n",
       "142176       NaN          SE           39.0        ESE  ...        26.0   \n",
       "142177       NaN           E           43.0        ESE  ...        23.0   \n",
       "142178       NaN           E           46.0        ESE  ...        29.0   \n",
       "142179       NaN           E           33.0         SE  ...        24.0   \n",
       "142180       NaN           E           46.0        ESE  ...        29.0   \n",
       "142181       NaN         ENE           35.0        ESE  ...        32.0   \n",
       "142182       NaN          SE           22.0         SE  ...        28.0   \n",
       "142183       NaN           S           19.0          S  ...        24.0   \n",
       "142184       NaN           E           24.0         SE  ...        24.0   \n",
       "142185       NaN         ESE           31.0          S  ...        25.0   \n",
       "142186       NaN         ESE           41.0         SE  ...        32.0   \n",
       "142187       NaN           E           35.0        ESE  ...        33.0   \n",
       "142188       NaN           E           31.0        ESE  ...        27.0   \n",
       "142189       NaN           E           31.0         SE  ...        24.0   \n",
       "142190       NaN         NNW           22.0         SE  ...        21.0   \n",
       "142191       NaN           N           37.0         SE  ...        24.0   \n",
       "142192       NaN          SE           28.0        SSE  ...        24.0   \n",
       "\n",
       "        Pressure9am  Pressure3pm  Cloud9am  Cloud3pm  Temp9am  Temp3pm  \\\n",
       "0            1007.7       1007.1       8.0       NaN     16.9     21.8   \n",
       "1            1010.6       1007.8       NaN       NaN     17.2     24.3   \n",
       "2            1007.6       1008.7       NaN       2.0     21.0     23.2   \n",
       "3            1017.6       1012.8       NaN       NaN     18.1     26.5   \n",
       "4            1010.8       1006.0       7.0       8.0     17.8     29.7   \n",
       "5            1009.2       1005.4       NaN       NaN     20.6     28.9   \n",
       "6            1009.6       1008.2       1.0       NaN     18.1     24.6   \n",
       "7            1013.4       1010.1       NaN       NaN     16.3     25.5   \n",
       "8            1008.9       1003.6       NaN       NaN     18.3     30.2   \n",
       "9            1007.0       1005.7       NaN       NaN     20.1     28.2   \n",
       "10           1011.8       1008.7       NaN       NaN     20.4     28.8   \n",
       "11           1010.5       1004.2       8.0       8.0     15.9     17.0   \n",
       "12            994.3        993.0       8.0       8.0     17.4     15.8   \n",
       "13           1001.2       1001.8       NaN       7.0     15.8     19.8   \n",
       "14           1013.4       1010.3       0.0       NaN     17.3     26.2   \n",
       "15           1012.2       1010.4       8.0       1.0     17.2     18.1   \n",
       "16           1005.8       1002.2       8.0       1.0     18.0     21.5   \n",
       "17           1009.4       1009.7       NaN       2.0     15.5     21.0   \n",
       "18           1019.2       1017.1       NaN       NaN     15.8     23.2   \n",
       "19           1019.3       1014.8       NaN       NaN     19.1     27.3   \n",
       "20           1013.6       1008.1       NaN       1.0     24.5     31.6   \n",
       "21           1007.8       1005.7       NaN       NaN     23.8     30.8   \n",
       "22           1011.0       1008.2       5.0       NaN     20.9     29.0   \n",
       "23           1012.9       1010.1       NaN       NaN     21.5     31.2   \n",
       "24           1010.9       1007.6       NaN       1.0     23.2     33.0   \n",
       "25           1006.8       1003.6       NaN       1.0     26.6     31.2   \n",
       "26           1005.2       1001.7       NaN       NaN     24.6     32.1   \n",
       "27           1004.8       1004.2       NaN       NaN     21.6     26.1   \n",
       "28           1005.6       1003.4       8.0       8.0     12.5     18.2   \n",
       "29           1006.1       1005.1       1.0       NaN     16.9     22.7   \n",
       "...             ...          ...       ...       ...      ...      ...   \n",
       "142163       1020.5       1016.1       4.0       7.0     16.1     27.2   \n",
       "142164       1019.9       1016.9       NaN       NaN     16.6     27.3   \n",
       "142165       1021.7       1018.8       4.0       NaN     13.8     23.5   \n",
       "142166       1024.3       1021.7       8.0       8.0     13.9     21.0   \n",
       "142167       1026.6       1023.6       8.0       4.0     11.8     22.3   \n",
       "142168       1029.2       1025.3       NaN       NaN     11.1     20.2   \n",
       "142169       1029.6       1027.1       NaN       NaN      9.7     18.3   \n",
       "142170       1030.7       1026.7       NaN       NaN      6.8     17.6   \n",
       "142171       1028.7       1024.1       NaN       NaN      8.6     18.9   \n",
       "142172       1026.9       1022.4       NaN       NaN      9.5     18.6   \n",
       "142173       1027.1       1023.9       NaN       NaN     10.3     19.8   \n",
       "142174       1029.8       1025.9       NaN       NaN      7.9     19.9   \n",
       "142175       1029.0       1025.0       NaN       NaN      9.5     20.5   \n",
       "142176       1030.2       1026.7       NaN       NaN      9.1     19.0   \n",
       "142177       1031.8       1027.7       NaN       NaN      8.7     18.9   \n",
       "142178       1031.0       1027.2       NaN       NaN      8.2     17.4   \n",
       "142179       1030.0       1026.2       NaN       NaN      8.0     18.8   \n",
       "142180       1028.5       1025.8       NaN       NaN      8.5     19.2   \n",
       "142181       1027.2       1023.0       NaN       NaN     10.3     20.3   \n",
       "142182       1026.9       1022.8       NaN       NaN      8.9     20.3   \n",
       "142183       1025.0       1021.4       NaN       NaN      8.8     22.1   \n",
       "142184       1023.8       1020.0       NaN       NaN     12.3     23.3   \n",
       "142185       1025.8       1023.0       NaN       NaN     11.2     23.1   \n",
       "142186       1028.1       1024.3       NaN       7.0     11.6     20.0   \n",
       "142187       1027.2       1023.3       NaN       NaN     11.0     20.3   \n",
       "142188       1024.7       1021.2       NaN       NaN      9.4     20.9   \n",
       "142189       1024.6       1020.3       NaN       NaN     10.1     22.4   \n",
       "142190       1023.5       1019.1       NaN       NaN     10.9     24.5   \n",
       "142191       1021.0       1016.8       NaN       NaN     12.5     26.1   \n",
       "142192       1019.4       1016.5       3.0       2.0     15.1     26.0   \n",
       "\n",
       "        RainToday  RISK_MM  RainTomorrow  \n",
       "0              No      0.0            No  \n",
       "1              No      0.0            No  \n",
       "2              No      0.0            No  \n",
       "3              No      1.0            No  \n",
       "4              No      0.2            No  \n",
       "5              No      0.0            No  \n",
       "6              No      0.0            No  \n",
       "7              No      0.0            No  \n",
       "8              No      1.4           Yes  \n",
       "9             Yes      0.0            No  \n",
       "10             No      2.2           Yes  \n",
       "11            Yes     15.6           Yes  \n",
       "12            Yes      3.6           Yes  \n",
       "13            Yes      0.0            No  \n",
       "14            NaN      0.0            No  \n",
       "15             No     16.8           Yes  \n",
       "16            Yes     10.6           Yes  \n",
       "17            Yes      0.0            No  \n",
       "18             No      0.0            No  \n",
       "19             No      0.0            No  \n",
       "20             No      0.0            No  \n",
       "21             No      0.0            No  \n",
       "22             No      0.0            No  \n",
       "23             No      0.0            No  \n",
       "24             No      0.0            No  \n",
       "25             No      0.0            No  \n",
       "26             No      0.0            No  \n",
       "27             No      1.2           Yes  \n",
       "28            Yes      0.8            No  \n",
       "29             No      0.0            No  \n",
       "...           ...      ...           ...  \n",
       "142163         No      0.0            No  \n",
       "142164         No      0.0            No  \n",
       "142165         No      0.0            No  \n",
       "142166         No      0.0            No  \n",
       "142167         No      0.0            No  \n",
       "142168         No      0.0            No  \n",
       "142169         No      0.0            No  \n",
       "142170         No      0.0            No  \n",
       "142171         No      0.0            No  \n",
       "142172         No      0.0            No  \n",
       "142173         No      0.0            No  \n",
       "142174         No      0.0            No  \n",
       "142175         No      0.0            No  \n",
       "142176         No      0.0            No  \n",
       "142177         No      0.0            No  \n",
       "142178         No      0.0            No  \n",
       "142179         No      0.0            No  \n",
       "142180         No      0.0            No  \n",
       "142181         No      0.0            No  \n",
       "142182         No      0.0            No  \n",
       "142183         No      0.0            No  \n",
       "142184         No      0.0            No  \n",
       "142185         No      0.0            No  \n",
       "142186         No      0.0            No  \n",
       "142187         No      0.0            No  \n",
       "142188         No      0.0            No  \n",
       "142189         No      0.0            No  \n",
       "142190         No      0.0            No  \n",
       "142191         No      0.0            No  \n",
       "142192         No      0.0            No  \n",
       "\n",
       "[142193 rows x 24 columns]"
      ]
     },
     "execution_count": 6,
     "metadata": {},
     "output_type": "execute_result"
    }
   ],
   "source": [
    "weather"
   ]
  },
  {
   "cell_type": "markdown",
   "metadata": {},
   "source": [
    "# Checking whether there are any missing values"
   ]
  },
  {
   "cell_type": "code",
   "execution_count": 7,
   "metadata": {},
   "outputs": [
    {
     "data": {
      "text/plain": [
       "Date                 0\n",
       "Location             0\n",
       "MinTemp            637\n",
       "MaxTemp            322\n",
       "Rainfall          1406\n",
       "Evaporation      60843\n",
       "Sunshine         67816\n",
       "WindGustDir       9330\n",
       "WindGustSpeed     9270\n",
       "WindDir9am       10013\n",
       "WindDir3pm        3778\n",
       "WindSpeed9am      1348\n",
       "WindSpeed3pm      2630\n",
       "Humidity9am       1774\n",
       "Humidity3pm       3610\n",
       "Pressure9am      14014\n",
       "Pressure3pm      13981\n",
       "Cloud9am         53657\n",
       "Cloud3pm         57094\n",
       "Temp9am            904\n",
       "Temp3pm           2726\n",
       "RainToday         1406\n",
       "RISK_MM              0\n",
       "RainTomorrow         0\n",
       "dtype: int64"
      ]
     },
     "execution_count": 7,
     "metadata": {},
     "output_type": "execute_result"
    }
   ],
   "source": [
    "weather.apply(lambda x:sum(x.isnull()),axis =0)"
   ]
  },
  {
   "cell_type": "code",
   "execution_count": 8,
   "metadata": {},
   "outputs": [
    {
     "data": {
      "text/plain": [
       "Date              object\n",
       "Location          object\n",
       "MinTemp          float64\n",
       "MaxTemp          float64\n",
       "Rainfall         float64\n",
       "Evaporation      float64\n",
       "Sunshine         float64\n",
       "WindGustDir       object\n",
       "WindGustSpeed    float64\n",
       "WindDir9am        object\n",
       "WindDir3pm        object\n",
       "WindSpeed9am     float64\n",
       "WindSpeed3pm     float64\n",
       "Humidity9am      float64\n",
       "Humidity3pm      float64\n",
       "Pressure9am      float64\n",
       "Pressure3pm      float64\n",
       "Cloud9am         float64\n",
       "Cloud3pm         float64\n",
       "Temp9am          float64\n",
       "Temp3pm          float64\n",
       "RainToday         object\n",
       "RISK_MM          float64\n",
       "RainTomorrow      object\n",
       "dtype: object"
      ]
     },
     "execution_count": 8,
     "metadata": {},
     "output_type": "execute_result"
    }
   ],
   "source": [
    "weather.dtypes"
   ]
  },
  {
   "cell_type": "markdown",
   "metadata": {},
   "source": [
    "# Data Cleaning"
   ]
  },
  {
   "cell_type": "code",
   "execution_count": 9,
   "metadata": {},
   "outputs": [
    {
     "data": {
      "text/plain": [
       "W      9780\n",
       "SE     9309\n",
       "E      9071\n",
       "N      9033\n",
       "SSE    8993\n",
       "S      8949\n",
       "WSW    8901\n",
       "SW     8797\n",
       "SSW    8610\n",
       "WNW    8066\n",
       "NW     8003\n",
       "ENE    7992\n",
       "ESE    7305\n",
       "NE     7060\n",
       "NNW    6561\n",
       "NNE    6433\n",
       "Name: WindGustDir, dtype: int64"
      ]
     },
     "execution_count": 9,
     "metadata": {},
     "output_type": "execute_result"
    }
   ],
   "source": [
    "weather['WindGustDir'].value_counts()"
   ]
  },
  {
   "cell_type": "code",
   "execution_count": 10,
   "metadata": {},
   "outputs": [],
   "source": [
    "weather['WindGustDir'].fillna('w',inplace = True )"
   ]
  },
  {
   "cell_type": "code",
   "execution_count": 11,
   "metadata": {},
   "outputs": [
    {
     "data": {
      "text/plain": [
       "N      11393\n",
       "SE      9162\n",
       "E       9024\n",
       "SSE     8966\n",
       "NW      8552\n",
       "S       8493\n",
       "W       8260\n",
       "SW      8237\n",
       "NNE     7948\n",
       "NNW     7840\n",
       "ENE     7735\n",
       "ESE     7558\n",
       "NE      7527\n",
       "SSW     7448\n",
       "WNW     7194\n",
       "WSW     6843\n",
       "Name: WindDir9am, dtype: int64"
      ]
     },
     "execution_count": 11,
     "metadata": {},
     "output_type": "execute_result"
    }
   ],
   "source": [
    "weather['WindDir9am'].value_counts()"
   ]
  },
  {
   "cell_type": "code",
   "execution_count": 67,
   "metadata": {},
   "outputs": [],
   "source": [
    "weather['WindDir9am'].fillna('N',inplace = True )"
   ]
  },
  {
   "cell_type": "code",
   "execution_count": 68,
   "metadata": {},
   "outputs": [
    {
     "data": {
      "text/plain": [
       "7     14441\n",
       "3      9911\n",
       "4      9598\n",
       "16     9329\n",
       "8      9182\n",
       "11     9142\n",
       "1      8667\n",
       "15     8656\n",
       "6      8468\n",
       "14     8382\n",
       "2      8342\n",
       "5      8164\n",
       "12     8010\n",
       "10     7733\n",
       "13     7724\n",
       "9      6444\n",
       "Name: WindDir3pm, dtype: int64"
      ]
     },
     "execution_count": 68,
     "metadata": {},
     "output_type": "execute_result"
    }
   ],
   "source": [
    "weather['WindDir3pm'].value_counts()"
   ]
  },
  {
   "cell_type": "code",
   "execution_count": 69,
   "metadata": {},
   "outputs": [],
   "source": [
    "weather['WindDir3pm'].fillna('SE',inplace = True )"
   ]
  },
  {
   "cell_type": "code",
   "execution_count": 70,
   "metadata": {
    "scrolled": true
   },
   "outputs": [
    {
     "data": {
      "text/plain": [
       "0    110738\n",
       "1     31455\n",
       "Name: RainToday, dtype: int64"
      ]
     },
     "execution_count": 70,
     "metadata": {},
     "output_type": "execute_result"
    }
   ],
   "source": [
    "weather['RainToday'].value_counts()"
   ]
  },
  {
   "cell_type": "code",
   "execution_count": 71,
   "metadata": {},
   "outputs": [],
   "source": [
    "weather['RainToday'].fillna('No',inplace = True )"
   ]
  },
  {
   "cell_type": "code",
   "execution_count": 72,
   "metadata": {},
   "outputs": [
    {
     "data": {
      "text/plain": [
       "0    110316\n",
       "1     31877\n",
       "Name: RainTomorrow, dtype: int64"
      ]
     },
     "execution_count": 72,
     "metadata": {},
     "output_type": "execute_result"
    }
   ],
   "source": [
    "weather['RainTomorrow'].value_counts()"
   ]
  },
  {
   "cell_type": "code",
   "execution_count": 73,
   "metadata": {},
   "outputs": [],
   "source": [
    "weather['RainTomorrow'].fillna('No',inplace = True )"
   ]
  },
  {
   "cell_type": "code",
   "execution_count": 74,
   "metadata": {},
   "outputs": [
    {
     "data": {
      "text/plain": [
       "Date             0\n",
       "Location         0\n",
       "MinTemp          0\n",
       "MaxTemp          0\n",
       "Rainfall         0\n",
       "Evaporation      0\n",
       "Sunshine         0\n",
       "WindGustDir      0\n",
       "WindGustSpeed    0\n",
       "WindDir9am       0\n",
       "WindDir3pm       0\n",
       "WindSpeed9am     0\n",
       "WindSpeed3pm     0\n",
       "Humidity9am      0\n",
       "Humidity3pm      0\n",
       "Pressure9am      0\n",
       "Pressure3pm      0\n",
       "Cloud9am         0\n",
       "Cloud3pm         0\n",
       "Temp9am          0\n",
       "Temp3pm          0\n",
       "RainToday        0\n",
       "RISK_MM          0\n",
       "RainTomorrow     0\n",
       "dtype: int64"
      ]
     },
     "execution_count": 74,
     "metadata": {},
     "output_type": "execute_result"
    }
   ],
   "source": [
    "weather.apply(lambda x:sum(x.isnull()),axis =0)"
   ]
  },
  {
   "cell_type": "code",
   "execution_count": 75,
   "metadata": {},
   "outputs": [],
   "source": [
    "from sklearn.preprocessing import Imputer"
   ]
  },
  {
   "cell_type": "code",
   "execution_count": 76,
   "metadata": {},
   "outputs": [
    {
     "name": "stderr",
     "output_type": "stream",
     "text": [
      "C:\\Users\\PERSANAL\\Anaconda3\\lib\\site-packages\\sklearn\\utils\\deprecation.py:58: DeprecationWarning: Class Imputer is deprecated; Imputer was deprecated in version 0.20 and will be removed in 0.22. Import impute.SimpleImputer from sklearn instead.\n",
      "  warnings.warn(msg, category=DeprecationWarning)\n"
     ]
    }
   ],
   "source": [
    "imputer = Imputer(missing_values ='NaN',strategy ='mean',axis = 0)"
   ]
  },
  {
   "cell_type": "code",
   "execution_count": 77,
   "metadata": {},
   "outputs": [
    {
     "data": {
      "text/html": [
       "<div>\n",
       "<style scoped>\n",
       "    .dataframe tbody tr th:only-of-type {\n",
       "        vertical-align: middle;\n",
       "    }\n",
       "\n",
       "    .dataframe tbody tr th {\n",
       "        vertical-align: top;\n",
       "    }\n",
       "\n",
       "    .dataframe thead th {\n",
       "        text-align: right;\n",
       "    }\n",
       "</style>\n",
       "<table border=\"1\" class=\"dataframe\">\n",
       "  <thead>\n",
       "    <tr style=\"text-align: right;\">\n",
       "      <th></th>\n",
       "      <th>MinTemp</th>\n",
       "      <th>MaxTemp</th>\n",
       "      <th>Rainfall</th>\n",
       "      <th>Evaporation</th>\n",
       "      <th>Sunshine</th>\n",
       "      <th>WindGustSpeed</th>\n",
       "      <th>WindDir9am</th>\n",
       "      <th>WindDir3pm</th>\n",
       "      <th>WindSpeed9am</th>\n",
       "      <th>WindSpeed3pm</th>\n",
       "      <th>...</th>\n",
       "      <th>Humidity3pm</th>\n",
       "      <th>Pressure9am</th>\n",
       "      <th>Pressure3pm</th>\n",
       "      <th>Cloud9am</th>\n",
       "      <th>Cloud3pm</th>\n",
       "      <th>Temp9am</th>\n",
       "      <th>Temp3pm</th>\n",
       "      <th>RainToday</th>\n",
       "      <th>RISK_MM</th>\n",
       "      <th>RainTomorrow</th>\n",
       "    </tr>\n",
       "  </thead>\n",
       "  <tbody>\n",
       "    <tr>\n",
       "      <th>count</th>\n",
       "      <td>142193.000000</td>\n",
       "      <td>142193.000000</td>\n",
       "      <td>142193.000000</td>\n",
       "      <td>142193.000000</td>\n",
       "      <td>142193.000000</td>\n",
       "      <td>142193.000000</td>\n",
       "      <td>142193.000000</td>\n",
       "      <td>142193.000000</td>\n",
       "      <td>142193.000000</td>\n",
       "      <td>142193.000000</td>\n",
       "      <td>...</td>\n",
       "      <td>142193.000000</td>\n",
       "      <td>142193.000000</td>\n",
       "      <td>142193.000000</td>\n",
       "      <td>142193.000000</td>\n",
       "      <td>142193.000000</td>\n",
       "      <td>142193.000000</td>\n",
       "      <td>142193.000000</td>\n",
       "      <td>142193.000000</td>\n",
       "      <td>142193.000000</td>\n",
       "      <td>142193.000000</td>\n",
       "    </tr>\n",
       "    <tr>\n",
       "      <th>mean</th>\n",
       "      <td>0.487887</td>\n",
       "      <td>0.529807</td>\n",
       "      <td>0.006334</td>\n",
       "      <td>0.037723</td>\n",
       "      <td>0.525852</td>\n",
       "      <td>0.263444</td>\n",
       "      <td>7.587448</td>\n",
       "      <td>8.358492</td>\n",
       "      <td>0.107708</td>\n",
       "      <td>0.214225</td>\n",
       "      <td>...</td>\n",
       "      <td>0.514826</td>\n",
       "      <td>0.614112</td>\n",
       "      <td>0.610531</td>\n",
       "      <td>0.493021</td>\n",
       "      <td>0.500352</td>\n",
       "      <td>0.510285</td>\n",
       "      <td>0.519909</td>\n",
       "      <td>0.221213</td>\n",
       "      <td>0.006363</td>\n",
       "      <td>0.224181</td>\n",
       "    </tr>\n",
       "    <tr>\n",
       "      <th>std</th>\n",
       "      <td>0.150682</td>\n",
       "      <td>0.134396</td>\n",
       "      <td>0.022704</td>\n",
       "      <td>0.021849</td>\n",
       "      <td>0.188616</td>\n",
       "      <td>0.101848</td>\n",
       "      <td>4.816123</td>\n",
       "      <td>4.588470</td>\n",
       "      <td>0.068085</td>\n",
       "      <td>0.100248</td>\n",
       "      <td>...</td>\n",
       "      <td>0.205321</td>\n",
       "      <td>0.111508</td>\n",
       "      <td>0.106909</td>\n",
       "      <td>0.253120</td>\n",
       "      <td>0.233857</td>\n",
       "      <td>0.136544</td>\n",
       "      <td>0.131877</td>\n",
       "      <td>0.415065</td>\n",
       "      <td>0.022852</td>\n",
       "      <td>0.417043</td>\n",
       "    </tr>\n",
       "    <tr>\n",
       "      <th>min</th>\n",
       "      <td>0.000000</td>\n",
       "      <td>0.000000</td>\n",
       "      <td>0.000000</td>\n",
       "      <td>0.000000</td>\n",
       "      <td>0.000000</td>\n",
       "      <td>0.000000</td>\n",
       "      <td>1.000000</td>\n",
       "      <td>1.000000</td>\n",
       "      <td>0.000000</td>\n",
       "      <td>0.000000</td>\n",
       "      <td>...</td>\n",
       "      <td>0.000000</td>\n",
       "      <td>0.000000</td>\n",
       "      <td>0.000000</td>\n",
       "      <td>0.000000</td>\n",
       "      <td>0.000000</td>\n",
       "      <td>0.000000</td>\n",
       "      <td>0.000000</td>\n",
       "      <td>0.000000</td>\n",
       "      <td>0.000000</td>\n",
       "      <td>0.000000</td>\n",
       "    </tr>\n",
       "    <tr>\n",
       "      <th>25%</th>\n",
       "      <td>0.379717</td>\n",
       "      <td>0.429112</td>\n",
       "      <td>0.000000</td>\n",
       "      <td>0.027586</td>\n",
       "      <td>0.525852</td>\n",
       "      <td>0.193798</td>\n",
       "      <td>3.000000</td>\n",
       "      <td>4.000000</td>\n",
       "      <td>0.053846</td>\n",
       "      <td>0.149425</td>\n",
       "      <td>...</td>\n",
       "      <td>0.370000</td>\n",
       "      <td>0.545455</td>\n",
       "      <td>0.542400</td>\n",
       "      <td>0.333333</td>\n",
       "      <td>0.444444</td>\n",
       "      <td>0.411392</td>\n",
       "      <td>0.424184</td>\n",
       "      <td>0.000000</td>\n",
       "      <td>0.000000</td>\n",
       "      <td>0.000000</td>\n",
       "    </tr>\n",
       "    <tr>\n",
       "      <th>50%</th>\n",
       "      <td>0.483491</td>\n",
       "      <td>0.519849</td>\n",
       "      <td>0.000000</td>\n",
       "      <td>0.037723</td>\n",
       "      <td>0.525852</td>\n",
       "      <td>0.255814</td>\n",
       "      <td>7.000000</td>\n",
       "      <td>8.000000</td>\n",
       "      <td>0.100000</td>\n",
       "      <td>0.214225</td>\n",
       "      <td>...</td>\n",
       "      <td>0.514826</td>\n",
       "      <td>0.614112</td>\n",
       "      <td>0.610531</td>\n",
       "      <td>0.493021</td>\n",
       "      <td>0.500352</td>\n",
       "      <td>0.506329</td>\n",
       "      <td>0.512476</td>\n",
       "      <td>0.000000</td>\n",
       "      <td>0.000000</td>\n",
       "      <td>0.000000</td>\n",
       "    </tr>\n",
       "    <tr>\n",
       "      <th>75%</th>\n",
       "      <td>0.596698</td>\n",
       "      <td>0.623819</td>\n",
       "      <td>0.002156</td>\n",
       "      <td>0.037723</td>\n",
       "      <td>0.600000</td>\n",
       "      <td>0.310078</td>\n",
       "      <td>12.000000</td>\n",
       "      <td>12.000000</td>\n",
       "      <td>0.146154</td>\n",
       "      <td>0.275862</td>\n",
       "      <td>...</td>\n",
       "      <td>0.650000</td>\n",
       "      <td>0.682645</td>\n",
       "      <td>0.676800</td>\n",
       "      <td>0.666667</td>\n",
       "      <td>0.666667</td>\n",
       "      <td>0.605485</td>\n",
       "      <td>0.608445</td>\n",
       "      <td>0.000000</td>\n",
       "      <td>0.002156</td>\n",
       "      <td>0.000000</td>\n",
       "    </tr>\n",
       "    <tr>\n",
       "      <th>max</th>\n",
       "      <td>1.000000</td>\n",
       "      <td>1.000000</td>\n",
       "      <td>1.000000</td>\n",
       "      <td>1.000000</td>\n",
       "      <td>1.000000</td>\n",
       "      <td>1.000000</td>\n",
       "      <td>16.000000</td>\n",
       "      <td>16.000000</td>\n",
       "      <td>1.000000</td>\n",
       "      <td>1.000000</td>\n",
       "      <td>...</td>\n",
       "      <td>1.000000</td>\n",
       "      <td>1.000000</td>\n",
       "      <td>1.000000</td>\n",
       "      <td>1.000000</td>\n",
       "      <td>1.000000</td>\n",
       "      <td>1.000000</td>\n",
       "      <td>1.000000</td>\n",
       "      <td>1.000000</td>\n",
       "      <td>1.000000</td>\n",
       "      <td>1.000000</td>\n",
       "    </tr>\n",
       "  </tbody>\n",
       "</table>\n",
       "<p>8 rows × 21 columns</p>\n",
       "</div>"
      ],
      "text/plain": [
       "             MinTemp        MaxTemp       Rainfall    Evaporation  \\\n",
       "count  142193.000000  142193.000000  142193.000000  142193.000000   \n",
       "mean        0.487887       0.529807       0.006334       0.037723   \n",
       "std         0.150682       0.134396       0.022704       0.021849   \n",
       "min         0.000000       0.000000       0.000000       0.000000   \n",
       "25%         0.379717       0.429112       0.000000       0.027586   \n",
       "50%         0.483491       0.519849       0.000000       0.037723   \n",
       "75%         0.596698       0.623819       0.002156       0.037723   \n",
       "max         1.000000       1.000000       1.000000       1.000000   \n",
       "\n",
       "            Sunshine  WindGustSpeed     WindDir9am     WindDir3pm  \\\n",
       "count  142193.000000  142193.000000  142193.000000  142193.000000   \n",
       "mean        0.525852       0.263444       7.587448       8.358492   \n",
       "std         0.188616       0.101848       4.816123       4.588470   \n",
       "min         0.000000       0.000000       1.000000       1.000000   \n",
       "25%         0.525852       0.193798       3.000000       4.000000   \n",
       "50%         0.525852       0.255814       7.000000       8.000000   \n",
       "75%         0.600000       0.310078      12.000000      12.000000   \n",
       "max         1.000000       1.000000      16.000000      16.000000   \n",
       "\n",
       "        WindSpeed9am   WindSpeed3pm  ...    Humidity3pm    Pressure9am  \\\n",
       "count  142193.000000  142193.000000  ...  142193.000000  142193.000000   \n",
       "mean        0.107708       0.214225  ...       0.514826       0.614112   \n",
       "std         0.068085       0.100248  ...       0.205321       0.111508   \n",
       "min         0.000000       0.000000  ...       0.000000       0.000000   \n",
       "25%         0.053846       0.149425  ...       0.370000       0.545455   \n",
       "50%         0.100000       0.214225  ...       0.514826       0.614112   \n",
       "75%         0.146154       0.275862  ...       0.650000       0.682645   \n",
       "max         1.000000       1.000000  ...       1.000000       1.000000   \n",
       "\n",
       "         Pressure3pm       Cloud9am       Cloud3pm        Temp9am  \\\n",
       "count  142193.000000  142193.000000  142193.000000  142193.000000   \n",
       "mean        0.610531       0.493021       0.500352       0.510285   \n",
       "std         0.106909       0.253120       0.233857       0.136544   \n",
       "min         0.000000       0.000000       0.000000       0.000000   \n",
       "25%         0.542400       0.333333       0.444444       0.411392   \n",
       "50%         0.610531       0.493021       0.500352       0.506329   \n",
       "75%         0.676800       0.666667       0.666667       0.605485   \n",
       "max         1.000000       1.000000       1.000000       1.000000   \n",
       "\n",
       "             Temp3pm      RainToday        RISK_MM   RainTomorrow  \n",
       "count  142193.000000  142193.000000  142193.000000  142193.000000  \n",
       "mean        0.519909       0.221213       0.006363       0.224181  \n",
       "std         0.131877       0.415065       0.022852       0.417043  \n",
       "min         0.000000       0.000000       0.000000       0.000000  \n",
       "25%         0.424184       0.000000       0.000000       0.000000  \n",
       "50%         0.512476       0.000000       0.000000       0.000000  \n",
       "75%         0.608445       0.000000       0.002156       0.000000  \n",
       "max         1.000000       1.000000       1.000000       1.000000  \n",
       "\n",
       "[8 rows x 21 columns]"
      ]
     },
     "execution_count": 77,
     "metadata": {},
     "output_type": "execute_result"
    }
   ],
   "source": [
    "weather.describe()"
   ]
  },
  {
   "cell_type": "code",
   "execution_count": 78,
   "metadata": {},
   "outputs": [
    {
     "data": {
      "text/plain": [
       "Imputer(axis=0, copy=True, missing_values='NaN', strategy='mean', verbose=0)"
      ]
     },
     "execution_count": 78,
     "metadata": {},
     "output_type": "execute_result"
    }
   ],
   "source": [
    "imputer.fit(weather.iloc[:,[2,3,4,5,6,8,11,12,13,14,15,16,17,18,19,20]])"
   ]
  },
  {
   "cell_type": "code",
   "execution_count": 79,
   "metadata": {},
   "outputs": [],
   "source": [
    "weather.iloc[:,[2,3,4,5,6,8,11,12,13,14,15,16,17,18,19,20]] = imputer.fit_transform(weather.iloc[:,[2,3,4,5,6,8,11,12,13,14,15,16,17,18,19,20]])"
   ]
  },
  {
   "cell_type": "code",
   "execution_count": 80,
   "metadata": {},
   "outputs": [
    {
     "data": {
      "text/plain": [
       "Date             0\n",
       "Location         0\n",
       "MinTemp          0\n",
       "MaxTemp          0\n",
       "Rainfall         0\n",
       "Evaporation      0\n",
       "Sunshine         0\n",
       "WindGustDir      0\n",
       "WindGustSpeed    0\n",
       "WindDir9am       0\n",
       "WindDir3pm       0\n",
       "WindSpeed9am     0\n",
       "WindSpeed3pm     0\n",
       "Humidity9am      0\n",
       "Humidity3pm      0\n",
       "Pressure9am      0\n",
       "Pressure3pm      0\n",
       "Cloud9am         0\n",
       "Cloud3pm         0\n",
       "Temp9am          0\n",
       "Temp3pm          0\n",
       "RainToday        0\n",
       "RISK_MM          0\n",
       "RainTomorrow     0\n",
       "dtype: int64"
      ]
     },
     "execution_count": 80,
     "metadata": {},
     "output_type": "execute_result"
    }
   ],
   "source": [
    "weather.apply(lambda x:sum(x.isnull()),axis =0)"
   ]
  },
  {
   "cell_type": "code",
   "execution_count": 81,
   "metadata": {},
   "outputs": [
    {
     "data": {
      "text/html": [
       "<div>\n",
       "<style scoped>\n",
       "    .dataframe tbody tr th:only-of-type {\n",
       "        vertical-align: middle;\n",
       "    }\n",
       "\n",
       "    .dataframe tbody tr th {\n",
       "        vertical-align: top;\n",
       "    }\n",
       "\n",
       "    .dataframe thead th {\n",
       "        text-align: right;\n",
       "    }\n",
       "</style>\n",
       "<table border=\"1\" class=\"dataframe\">\n",
       "  <thead>\n",
       "    <tr style=\"text-align: right;\">\n",
       "      <th></th>\n",
       "      <th>Date</th>\n",
       "      <th>Location</th>\n",
       "      <th>MinTemp</th>\n",
       "      <th>MaxTemp</th>\n",
       "      <th>Rainfall</th>\n",
       "      <th>Evaporation</th>\n",
       "      <th>Sunshine</th>\n",
       "      <th>WindGustDir</th>\n",
       "      <th>WindGustSpeed</th>\n",
       "      <th>WindDir9am</th>\n",
       "      <th>...</th>\n",
       "      <th>Humidity3pm</th>\n",
       "      <th>Pressure9am</th>\n",
       "      <th>Pressure3pm</th>\n",
       "      <th>Cloud9am</th>\n",
       "      <th>Cloud3pm</th>\n",
       "      <th>Temp9am</th>\n",
       "      <th>Temp3pm</th>\n",
       "      <th>RainToday</th>\n",
       "      <th>RISK_MM</th>\n",
       "      <th>RainTomorrow</th>\n",
       "    </tr>\n",
       "  </thead>\n",
       "  <tbody>\n",
       "    <tr>\n",
       "      <th>0</th>\n",
       "      <td>2008-12-01</td>\n",
       "      <td>Albury</td>\n",
       "      <td>0.516509</td>\n",
       "      <td>0.523629</td>\n",
       "      <td>0.001617</td>\n",
       "      <td>0.037723</td>\n",
       "      <td>0.525852</td>\n",
       "      <td>3</td>\n",
       "      <td>0.294574</td>\n",
       "      <td>3</td>\n",
       "      <td>...</td>\n",
       "      <td>0.22</td>\n",
       "      <td>0.449587</td>\n",
       "      <td>0.4800</td>\n",
       "      <td>0.888889</td>\n",
       "      <td>0.500352</td>\n",
       "      <td>0.508439</td>\n",
       "      <td>0.522073</td>\n",
       "      <td>0</td>\n",
       "      <td>0.000000</td>\n",
       "      <td>0</td>\n",
       "    </tr>\n",
       "    <tr>\n",
       "      <th>1</th>\n",
       "      <td>2008-12-02</td>\n",
       "      <td>Albury</td>\n",
       "      <td>0.375000</td>\n",
       "      <td>0.565217</td>\n",
       "      <td>0.000000</td>\n",
       "      <td>0.037723</td>\n",
       "      <td>0.525852</td>\n",
       "      <td>15</td>\n",
       "      <td>0.294574</td>\n",
       "      <td>10</td>\n",
       "      <td>...</td>\n",
       "      <td>0.25</td>\n",
       "      <td>0.497521</td>\n",
       "      <td>0.4912</td>\n",
       "      <td>0.493021</td>\n",
       "      <td>0.500352</td>\n",
       "      <td>0.514768</td>\n",
       "      <td>0.570058</td>\n",
       "      <td>0</td>\n",
       "      <td>0.000000</td>\n",
       "      <td>0</td>\n",
       "    </tr>\n",
       "    <tr>\n",
       "      <th>2</th>\n",
       "      <td>2008-12-03</td>\n",
       "      <td>Albury</td>\n",
       "      <td>0.504717</td>\n",
       "      <td>0.576560</td>\n",
       "      <td>0.000000</td>\n",
       "      <td>0.037723</td>\n",
       "      <td>0.525852</td>\n",
       "      <td>16</td>\n",
       "      <td>0.310078</td>\n",
       "      <td>3</td>\n",
       "      <td>...</td>\n",
       "      <td>0.30</td>\n",
       "      <td>0.447934</td>\n",
       "      <td>0.5056</td>\n",
       "      <td>0.493021</td>\n",
       "      <td>0.222222</td>\n",
       "      <td>0.594937</td>\n",
       "      <td>0.548944</td>\n",
       "      <td>0</td>\n",
       "      <td>0.000000</td>\n",
       "      <td>0</td>\n",
       "    </tr>\n",
       "    <tr>\n",
       "      <th>3</th>\n",
       "      <td>2008-12-04</td>\n",
       "      <td>Albury</td>\n",
       "      <td>0.417453</td>\n",
       "      <td>0.620038</td>\n",
       "      <td>0.000000</td>\n",
       "      <td>0.037723</td>\n",
       "      <td>0.525852</td>\n",
       "      <td>5</td>\n",
       "      <td>0.139535</td>\n",
       "      <td>7</td>\n",
       "      <td>...</td>\n",
       "      <td>0.16</td>\n",
       "      <td>0.613223</td>\n",
       "      <td>0.5712</td>\n",
       "      <td>0.493021</td>\n",
       "      <td>0.500352</td>\n",
       "      <td>0.533755</td>\n",
       "      <td>0.612284</td>\n",
       "      <td>0</td>\n",
       "      <td>0.002695</td>\n",
       "      <td>0</td>\n",
       "    </tr>\n",
       "    <tr>\n",
       "      <th>4</th>\n",
       "      <td>2008-12-05</td>\n",
       "      <td>Albury</td>\n",
       "      <td>0.613208</td>\n",
       "      <td>0.701323</td>\n",
       "      <td>0.002695</td>\n",
       "      <td>0.037723</td>\n",
       "      <td>0.525852</td>\n",
       "      <td>3</td>\n",
       "      <td>0.271318</td>\n",
       "      <td>13</td>\n",
       "      <td>...</td>\n",
       "      <td>0.33</td>\n",
       "      <td>0.500826</td>\n",
       "      <td>0.4624</td>\n",
       "      <td>0.777778</td>\n",
       "      <td>0.888889</td>\n",
       "      <td>0.527426</td>\n",
       "      <td>0.673704</td>\n",
       "      <td>0</td>\n",
       "      <td>0.000539</td>\n",
       "      <td>0</td>\n",
       "    </tr>\n",
       "    <tr>\n",
       "      <th>5</th>\n",
       "      <td>2008-12-06</td>\n",
       "      <td>Albury</td>\n",
       "      <td>0.544811</td>\n",
       "      <td>0.652174</td>\n",
       "      <td>0.000539</td>\n",
       "      <td>0.037723</td>\n",
       "      <td>0.525852</td>\n",
       "      <td>15</td>\n",
       "      <td>0.387597</td>\n",
       "      <td>3</td>\n",
       "      <td>...</td>\n",
       "      <td>0.23</td>\n",
       "      <td>0.474380</td>\n",
       "      <td>0.4528</td>\n",
       "      <td>0.493021</td>\n",
       "      <td>0.500352</td>\n",
       "      <td>0.586498</td>\n",
       "      <td>0.658349</td>\n",
       "      <td>0</td>\n",
       "      <td>0.000000</td>\n",
       "      <td>0</td>\n",
       "    </tr>\n",
       "    <tr>\n",
       "      <th>6</th>\n",
       "      <td>2008-12-07</td>\n",
       "      <td>Albury</td>\n",
       "      <td>0.537736</td>\n",
       "      <td>0.563327</td>\n",
       "      <td>0.000000</td>\n",
       "      <td>0.037723</td>\n",
       "      <td>0.525852</td>\n",
       "      <td>3</td>\n",
       "      <td>0.341085</td>\n",
       "      <td>8</td>\n",
       "      <td>...</td>\n",
       "      <td>0.19</td>\n",
       "      <td>0.480992</td>\n",
       "      <td>0.4976</td>\n",
       "      <td>0.111111</td>\n",
       "      <td>0.500352</td>\n",
       "      <td>0.533755</td>\n",
       "      <td>0.575816</td>\n",
       "      <td>0</td>\n",
       "      <td>0.000000</td>\n",
       "      <td>0</td>\n",
       "    </tr>\n",
       "    <tr>\n",
       "      <th>7</th>\n",
       "      <td>2008-12-08</td>\n",
       "      <td>Albury</td>\n",
       "      <td>0.382075</td>\n",
       "      <td>0.595463</td>\n",
       "      <td>0.000000</td>\n",
       "      <td>0.037723</td>\n",
       "      <td>0.525852</td>\n",
       "      <td>3</td>\n",
       "      <td>0.224806</td>\n",
       "      <td>11</td>\n",
       "      <td>...</td>\n",
       "      <td>0.19</td>\n",
       "      <td>0.543802</td>\n",
       "      <td>0.5280</td>\n",
       "      <td>0.493021</td>\n",
       "      <td>0.500352</td>\n",
       "      <td>0.495781</td>\n",
       "      <td>0.593090</td>\n",
       "      <td>0</td>\n",
       "      <td>0.000000</td>\n",
       "      <td>0</td>\n",
       "    </tr>\n",
       "    <tr>\n",
       "      <th>8</th>\n",
       "      <td>2008-12-09</td>\n",
       "      <td>Albury</td>\n",
       "      <td>0.429245</td>\n",
       "      <td>0.693762</td>\n",
       "      <td>0.000000</td>\n",
       "      <td>0.037723</td>\n",
       "      <td>0.525852</td>\n",
       "      <td>10</td>\n",
       "      <td>0.573643</td>\n",
       "      <td>7</td>\n",
       "      <td>...</td>\n",
       "      <td>0.09</td>\n",
       "      <td>0.469421</td>\n",
       "      <td>0.4240</td>\n",
       "      <td>0.493021</td>\n",
       "      <td>0.500352</td>\n",
       "      <td>0.537975</td>\n",
       "      <td>0.683301</td>\n",
       "      <td>0</td>\n",
       "      <td>0.003774</td>\n",
       "      <td>1</td>\n",
       "    </tr>\n",
       "    <tr>\n",
       "      <th>9</th>\n",
       "      <td>2008-12-10</td>\n",
       "      <td>Albury</td>\n",
       "      <td>0.509434</td>\n",
       "      <td>0.659735</td>\n",
       "      <td>0.003774</td>\n",
       "      <td>0.037723</td>\n",
       "      <td>0.525852</td>\n",
       "      <td>3</td>\n",
       "      <td>0.170543</td>\n",
       "      <td>4</td>\n",
       "      <td>...</td>\n",
       "      <td>0.27</td>\n",
       "      <td>0.438017</td>\n",
       "      <td>0.4576</td>\n",
       "      <td>0.493021</td>\n",
       "      <td>0.500352</td>\n",
       "      <td>0.575949</td>\n",
       "      <td>0.644914</td>\n",
       "      <td>1</td>\n",
       "      <td>0.000000</td>\n",
       "      <td>0</td>\n",
       "    </tr>\n",
       "    <tr>\n",
       "      <th>10</th>\n",
       "      <td>2008-12-11</td>\n",
       "      <td>Albury</td>\n",
       "      <td>0.516509</td>\n",
       "      <td>0.665406</td>\n",
       "      <td>0.000000</td>\n",
       "      <td>0.037723</td>\n",
       "      <td>0.525852</td>\n",
       "      <td>1</td>\n",
       "      <td>0.186047</td>\n",
       "      <td>11</td>\n",
       "      <td>...</td>\n",
       "      <td>0.22</td>\n",
       "      <td>0.517355</td>\n",
       "      <td>0.5056</td>\n",
       "      <td>0.493021</td>\n",
       "      <td>0.500352</td>\n",
       "      <td>0.582278</td>\n",
       "      <td>0.656430</td>\n",
       "      <td>0</td>\n",
       "      <td>0.005930</td>\n",
       "      <td>1</td>\n",
       "    </tr>\n",
       "    <tr>\n",
       "      <th>11</th>\n",
       "      <td>2008-12-12</td>\n",
       "      <td>Albury</td>\n",
       "      <td>0.575472</td>\n",
       "      <td>0.500945</td>\n",
       "      <td>0.005930</td>\n",
       "      <td>0.037723</td>\n",
       "      <td>0.525852</td>\n",
       "      <td>9</td>\n",
       "      <td>0.193798</td>\n",
       "      <td>5</td>\n",
       "      <td>...</td>\n",
       "      <td>0.91</td>\n",
       "      <td>0.495868</td>\n",
       "      <td>0.4336</td>\n",
       "      <td>0.888889</td>\n",
       "      <td>0.888889</td>\n",
       "      <td>0.487342</td>\n",
       "      <td>0.429942</td>\n",
       "      <td>1</td>\n",
       "      <td>0.042049</td>\n",
       "      <td>1</td>\n",
       "    </tr>\n",
       "    <tr>\n",
       "      <th>12</th>\n",
       "      <td>2008-12-13</td>\n",
       "      <td>Albury</td>\n",
       "      <td>0.575472</td>\n",
       "      <td>0.442344</td>\n",
       "      <td>0.042049</td>\n",
       "      <td>0.037723</td>\n",
       "      <td>0.525852</td>\n",
       "      <td>3</td>\n",
       "      <td>0.426357</td>\n",
       "      <td>10</td>\n",
       "      <td>...</td>\n",
       "      <td>0.93</td>\n",
       "      <td>0.228099</td>\n",
       "      <td>0.2544</td>\n",
       "      <td>0.888889</td>\n",
       "      <td>0.888889</td>\n",
       "      <td>0.518987</td>\n",
       "      <td>0.406910</td>\n",
       "      <td>1</td>\n",
       "      <td>0.009704</td>\n",
       "      <td>1</td>\n",
       "    </tr>\n",
       "    <tr>\n",
       "      <th>13</th>\n",
       "      <td>2008-12-14</td>\n",
       "      <td>Albury</td>\n",
       "      <td>0.497642</td>\n",
       "      <td>0.487713</td>\n",
       "      <td>0.009704</td>\n",
       "      <td>0.037723</td>\n",
       "      <td>0.525852</td>\n",
       "      <td>8</td>\n",
       "      <td>0.294574</td>\n",
       "      <td>3</td>\n",
       "      <td>...</td>\n",
       "      <td>0.43</td>\n",
       "      <td>0.342149</td>\n",
       "      <td>0.3952</td>\n",
       "      <td>0.493021</td>\n",
       "      <td>0.777778</td>\n",
       "      <td>0.485232</td>\n",
       "      <td>0.483685</td>\n",
       "      <td>1</td>\n",
       "      <td>0.000000</td>\n",
       "      <td>0</td>\n",
       "    </tr>\n",
       "    <tr>\n",
       "      <th>14</th>\n",
       "      <td>2008-12-16</td>\n",
       "      <td>Albury</td>\n",
       "      <td>0.431604</td>\n",
       "      <td>0.614367</td>\n",
       "      <td>0.006334</td>\n",
       "      <td>0.037723</td>\n",
       "      <td>0.525852</td>\n",
       "      <td>15</td>\n",
       "      <td>0.341085</td>\n",
       "      <td>1</td>\n",
       "      <td>...</td>\n",
       "      <td>0.28</td>\n",
       "      <td>0.543802</td>\n",
       "      <td>0.5312</td>\n",
       "      <td>0.000000</td>\n",
       "      <td>0.500352</td>\n",
       "      <td>0.516878</td>\n",
       "      <td>0.606526</td>\n",
       "      <td>0</td>\n",
       "      <td>0.000000</td>\n",
       "      <td>0</td>\n",
       "    </tr>\n",
       "    <tr>\n",
       "      <th>15</th>\n",
       "      <td>2008-12-17</td>\n",
       "      <td>Albury</td>\n",
       "      <td>0.533019</td>\n",
       "      <td>0.485822</td>\n",
       "      <td>0.000000</td>\n",
       "      <td>0.037723</td>\n",
       "      <td>0.525852</td>\n",
       "      <td>13</td>\n",
       "      <td>0.124031</td>\n",
       "      <td>12</td>\n",
       "      <td>...</td>\n",
       "      <td>0.82</td>\n",
       "      <td>0.523967</td>\n",
       "      <td>0.5328</td>\n",
       "      <td>0.888889</td>\n",
       "      <td>0.111111</td>\n",
       "      <td>0.514768</td>\n",
       "      <td>0.451056</td>\n",
       "      <td>0</td>\n",
       "      <td>0.045283</td>\n",
       "      <td>1</td>\n",
       "    </tr>\n",
       "    <tr>\n",
       "      <th>16</th>\n",
       "      <td>2008-12-18</td>\n",
       "      <td>Albury</td>\n",
       "      <td>0.518868</td>\n",
       "      <td>0.523629</td>\n",
       "      <td>0.045283</td>\n",
       "      <td>0.037723</td>\n",
       "      <td>0.525852</td>\n",
       "      <td>3</td>\n",
       "      <td>0.441860</td>\n",
       "      <td>1</td>\n",
       "      <td>...</td>\n",
       "      <td>0.65</td>\n",
       "      <td>0.418182</td>\n",
       "      <td>0.4016</td>\n",
       "      <td>0.888889</td>\n",
       "      <td>0.111111</td>\n",
       "      <td>0.531646</td>\n",
       "      <td>0.516315</td>\n",
       "      <td>1</td>\n",
       "      <td>0.028571</td>\n",
       "      <td>1</td>\n",
       "    </tr>\n",
       "    <tr>\n",
       "      <th>17</th>\n",
       "      <td>2008-12-19</td>\n",
       "      <td>Albury</td>\n",
       "      <td>0.464623</td>\n",
       "      <td>0.516068</td>\n",
       "      <td>0.028571</td>\n",
       "      <td>0.037723</td>\n",
       "      <td>0.525852</td>\n",
       "      <td>11</td>\n",
       "      <td>0.286822</td>\n",
       "      <td>16</td>\n",
       "      <td>...</td>\n",
       "      <td>0.32</td>\n",
       "      <td>0.477686</td>\n",
       "      <td>0.5216</td>\n",
       "      <td>0.493021</td>\n",
       "      <td>0.222222</td>\n",
       "      <td>0.478903</td>\n",
       "      <td>0.506718</td>\n",
       "      <td>1</td>\n",
       "      <td>0.000000</td>\n",
       "      <td>0</td>\n",
       "    </tr>\n",
       "    <tr>\n",
       "      <th>18</th>\n",
       "      <td>2008-12-20</td>\n",
       "      <td>Albury</td>\n",
       "      <td>0.431604</td>\n",
       "      <td>0.574669</td>\n",
       "      <td>0.000000</td>\n",
       "      <td>0.037723</td>\n",
       "      <td>0.525852</td>\n",
       "      <td>11</td>\n",
       "      <td>0.155039</td>\n",
       "      <td>7</td>\n",
       "      <td>...</td>\n",
       "      <td>0.26</td>\n",
       "      <td>0.639669</td>\n",
       "      <td>0.6400</td>\n",
       "      <td>0.493021</td>\n",
       "      <td>0.500352</td>\n",
       "      <td>0.485232</td>\n",
       "      <td>0.548944</td>\n",
       "      <td>0</td>\n",
       "      <td>0.000000</td>\n",
       "      <td>0</td>\n",
       "    </tr>\n",
       "    <tr>\n",
       "      <th>19</th>\n",
       "      <td>2008-12-21</td>\n",
       "      <td>Albury</td>\n",
       "      <td>0.471698</td>\n",
       "      <td>0.644612</td>\n",
       "      <td>0.000000</td>\n",
       "      <td>0.037723</td>\n",
       "      <td>0.525852</td>\n",
       "      <td>4</td>\n",
       "      <td>0.139535</td>\n",
       "      <td>7</td>\n",
       "      <td>...</td>\n",
       "      <td>0.28</td>\n",
       "      <td>0.641322</td>\n",
       "      <td>0.6032</td>\n",
       "      <td>0.493021</td>\n",
       "      <td>0.500352</td>\n",
       "      <td>0.554852</td>\n",
       "      <td>0.627639</td>\n",
       "      <td>0</td>\n",
       "      <td>0.000000</td>\n",
       "      <td>0</td>\n",
       "    </tr>\n",
       "    <tr>\n",
       "      <th>20</th>\n",
       "      <td>2008-12-22</td>\n",
       "      <td>Albury</td>\n",
       "      <td>0.603774</td>\n",
       "      <td>0.714556</td>\n",
       "      <td>0.000000</td>\n",
       "      <td>0.037723</td>\n",
       "      <td>0.525852</td>\n",
       "      <td>5</td>\n",
       "      <td>0.286822</td>\n",
       "      <td>5</td>\n",
       "      <td>...</td>\n",
       "      <td>0.28</td>\n",
       "      <td>0.547107</td>\n",
       "      <td>0.4960</td>\n",
       "      <td>0.493021</td>\n",
       "      <td>0.111111</td>\n",
       "      <td>0.668776</td>\n",
       "      <td>0.710173</td>\n",
       "      <td>0</td>\n",
       "      <td>0.000000</td>\n",
       "      <td>0</td>\n",
       "    </tr>\n",
       "    <tr>\n",
       "      <th>21</th>\n",
       "      <td>2008-12-23</td>\n",
       "      <td>Albury</td>\n",
       "      <td>0.683962</td>\n",
       "      <td>0.691871</td>\n",
       "      <td>0.000000</td>\n",
       "      <td>0.037723</td>\n",
       "      <td>0.525852</td>\n",
       "      <td>15</td>\n",
       "      <td>0.271318</td>\n",
       "      <td>3</td>\n",
       "      <td>...</td>\n",
       "      <td>0.24</td>\n",
       "      <td>0.451240</td>\n",
       "      <td>0.4576</td>\n",
       "      <td>0.493021</td>\n",
       "      <td>0.500352</td>\n",
       "      <td>0.654008</td>\n",
       "      <td>0.694818</td>\n",
       "      <td>0</td>\n",
       "      <td>0.000000</td>\n",
       "      <td>0</td>\n",
       "    </tr>\n",
       "    <tr>\n",
       "      <th>22</th>\n",
       "      <td>2008-12-24</td>\n",
       "      <td>Albury</td>\n",
       "      <td>0.561321</td>\n",
       "      <td>0.674858</td>\n",
       "      <td>0.000000</td>\n",
       "      <td>0.037723</td>\n",
       "      <td>0.525852</td>\n",
       "      <td>1</td>\n",
       "      <td>0.209302</td>\n",
       "      <td>14</td>\n",
       "      <td>...</td>\n",
       "      <td>0.23</td>\n",
       "      <td>0.504132</td>\n",
       "      <td>0.4976</td>\n",
       "      <td>0.555556</td>\n",
       "      <td>0.500352</td>\n",
       "      <td>0.592827</td>\n",
       "      <td>0.660269</td>\n",
       "      <td>0</td>\n",
       "      <td>0.000000</td>\n",
       "      <td>0</td>\n",
       "    </tr>\n",
       "    <tr>\n",
       "      <th>23</th>\n",
       "      <td>2008-12-25</td>\n",
       "      <td>Albury</td>\n",
       "      <td>0.497642</td>\n",
       "      <td>0.703214</td>\n",
       "      <td>0.000000</td>\n",
       "      <td>0.037723</td>\n",
       "      <td>0.525852</td>\n",
       "      <td>3</td>\n",
       "      <td>0.286822</td>\n",
       "      <td>2</td>\n",
       "      <td>...</td>\n",
       "      <td>0.17</td>\n",
       "      <td>0.535537</td>\n",
       "      <td>0.5280</td>\n",
       "      <td>0.493021</td>\n",
       "      <td>0.500352</td>\n",
       "      <td>0.605485</td>\n",
       "      <td>0.702495</td>\n",
       "      <td>0</td>\n",
       "      <td>0.000000</td>\n",
       "      <td>0</td>\n",
       "    </tr>\n",
       "    <tr>\n",
       "      <th>24</th>\n",
       "      <td>2008-12-26</td>\n",
       "      <td>Albury</td>\n",
       "      <td>0.582547</td>\n",
       "      <td>0.731569</td>\n",
       "      <td>0.000000</td>\n",
       "      <td>0.037723</td>\n",
       "      <td>0.525852</td>\n",
       "      <td>16</td>\n",
       "      <td>0.224806</td>\n",
       "      <td>7</td>\n",
       "      <td>...</td>\n",
       "      <td>0.19</td>\n",
       "      <td>0.502479</td>\n",
       "      <td>0.4880</td>\n",
       "      <td>0.493021</td>\n",
       "      <td>0.111111</td>\n",
       "      <td>0.641350</td>\n",
       "      <td>0.737044</td>\n",
       "      <td>0</td>\n",
       "      <td>0.000000</td>\n",
       "      <td>0</td>\n",
       "    </tr>\n",
       "    <tr>\n",
       "      <th>25</th>\n",
       "      <td>2008-12-27</td>\n",
       "      <td>Albury</td>\n",
       "      <td>0.599057</td>\n",
       "      <td>0.714556</td>\n",
       "      <td>0.000000</td>\n",
       "      <td>0.037723</td>\n",
       "      <td>0.525852</td>\n",
       "      <td>16</td>\n",
       "      <td>0.395349</td>\n",
       "      <td>1</td>\n",
       "      <td>...</td>\n",
       "      <td>0.28</td>\n",
       "      <td>0.434711</td>\n",
       "      <td>0.4240</td>\n",
       "      <td>0.493021</td>\n",
       "      <td>0.111111</td>\n",
       "      <td>0.713080</td>\n",
       "      <td>0.702495</td>\n",
       "      <td>0</td>\n",
       "      <td>0.000000</td>\n",
       "      <td>0</td>\n",
       "    </tr>\n",
       "    <tr>\n",
       "      <th>26</th>\n",
       "      <td>2008-12-28</td>\n",
       "      <td>Albury</td>\n",
       "      <td>0.674528</td>\n",
       "      <td>0.708885</td>\n",
       "      <td>0.000000</td>\n",
       "      <td>0.037723</td>\n",
       "      <td>0.525852</td>\n",
       "      <td>15</td>\n",
       "      <td>0.325581</td>\n",
       "      <td>1</td>\n",
       "      <td>...</td>\n",
       "      <td>0.15</td>\n",
       "      <td>0.408264</td>\n",
       "      <td>0.3936</td>\n",
       "      <td>0.493021</td>\n",
       "      <td>0.500352</td>\n",
       "      <td>0.670886</td>\n",
       "      <td>0.719770</td>\n",
       "      <td>0</td>\n",
       "      <td>0.000000</td>\n",
       "      <td>0</td>\n",
       "    </tr>\n",
       "    <tr>\n",
       "      <th>27</th>\n",
       "      <td>2008-12-29</td>\n",
       "      <td>Albury</td>\n",
       "      <td>0.665094</td>\n",
       "      <td>0.604915</td>\n",
       "      <td>0.000000</td>\n",
       "      <td>0.037723</td>\n",
       "      <td>0.525852</td>\n",
       "      <td>15</td>\n",
       "      <td>0.310078</td>\n",
       "      <td>6</td>\n",
       "      <td>...</td>\n",
       "      <td>0.22</td>\n",
       "      <td>0.401653</td>\n",
       "      <td>0.4336</td>\n",
       "      <td>0.493021</td>\n",
       "      <td>0.500352</td>\n",
       "      <td>0.607595</td>\n",
       "      <td>0.604607</td>\n",
       "      <td>0</td>\n",
       "      <td>0.003235</td>\n",
       "      <td>1</td>\n",
       "    </tr>\n",
       "    <tr>\n",
       "      <th>28</th>\n",
       "      <td>2008-12-30</td>\n",
       "      <td>Albury</td>\n",
       "      <td>0.495283</td>\n",
       "      <td>0.548204</td>\n",
       "      <td>0.003235</td>\n",
       "      <td>0.037723</td>\n",
       "      <td>0.525852</td>\n",
       "      <td>15</td>\n",
       "      <td>0.341085</td>\n",
       "      <td>16</td>\n",
       "      <td>...</td>\n",
       "      <td>0.70</td>\n",
       "      <td>0.414876</td>\n",
       "      <td>0.4208</td>\n",
       "      <td>0.888889</td>\n",
       "      <td>0.888889</td>\n",
       "      <td>0.415612</td>\n",
       "      <td>0.452975</td>\n",
       "      <td>1</td>\n",
       "      <td>0.002156</td>\n",
       "      <td>0</td>\n",
       "    </tr>\n",
       "    <tr>\n",
       "      <th>29</th>\n",
       "      <td>2008-12-31</td>\n",
       "      <td>Albury</td>\n",
       "      <td>0.483491</td>\n",
       "      <td>0.551985</td>\n",
       "      <td>0.002156</td>\n",
       "      <td>0.037723</td>\n",
       "      <td>0.525852</td>\n",
       "      <td>3</td>\n",
       "      <td>0.255814</td>\n",
       "      <td>15</td>\n",
       "      <td>...</td>\n",
       "      <td>0.28</td>\n",
       "      <td>0.423140</td>\n",
       "      <td>0.4480</td>\n",
       "      <td>0.111111</td>\n",
       "      <td>0.500352</td>\n",
       "      <td>0.508439</td>\n",
       "      <td>0.539347</td>\n",
       "      <td>0</td>\n",
       "      <td>0.000000</td>\n",
       "      <td>0</td>\n",
       "    </tr>\n",
       "    <tr>\n",
       "      <th>...</th>\n",
       "      <td>...</td>\n",
       "      <td>...</td>\n",
       "      <td>...</td>\n",
       "      <td>...</td>\n",
       "      <td>...</td>\n",
       "      <td>...</td>\n",
       "      <td>...</td>\n",
       "      <td>...</td>\n",
       "      <td>...</td>\n",
       "      <td>...</td>\n",
       "      <td>...</td>\n",
       "      <td>...</td>\n",
       "      <td>...</td>\n",
       "      <td>...</td>\n",
       "      <td>...</td>\n",
       "      <td>...</td>\n",
       "      <td>...</td>\n",
       "      <td>...</td>\n",
       "      <td>...</td>\n",
       "      <td>...</td>\n",
       "      <td>...</td>\n",
       "    </tr>\n",
       "    <tr>\n",
       "      <th>142163</th>\n",
       "      <td>2017-05-26</td>\n",
       "      <td>Uluru</td>\n",
       "      <td>0.537736</td>\n",
       "      <td>0.612476</td>\n",
       "      <td>0.001078</td>\n",
       "      <td>0.037723</td>\n",
       "      <td>0.525852</td>\n",
       "      <td>15</td>\n",
       "      <td>0.255814</td>\n",
       "      <td>1</td>\n",
       "      <td>...</td>\n",
       "      <td>0.27</td>\n",
       "      <td>0.661157</td>\n",
       "      <td>0.6240</td>\n",
       "      <td>0.444444</td>\n",
       "      <td>0.777778</td>\n",
       "      <td>0.491561</td>\n",
       "      <td>0.625720</td>\n",
       "      <td>0</td>\n",
       "      <td>0.000000</td>\n",
       "      <td>0</td>\n",
       "    </tr>\n",
       "    <tr>\n",
       "      <th>142164</th>\n",
       "      <td>2017-05-27</td>\n",
       "      <td>Uluru</td>\n",
       "      <td>0.419811</td>\n",
       "      <td>0.620038</td>\n",
       "      <td>0.000000</td>\n",
       "      <td>0.037723</td>\n",
       "      <td>0.525852</td>\n",
       "      <td>3</td>\n",
       "      <td>0.170543</td>\n",
       "      <td>12</td>\n",
       "      <td>...</td>\n",
       "      <td>0.16</td>\n",
       "      <td>0.651240</td>\n",
       "      <td>0.6368</td>\n",
       "      <td>0.493021</td>\n",
       "      <td>0.500352</td>\n",
       "      <td>0.502110</td>\n",
       "      <td>0.627639</td>\n",
       "      <td>0</td>\n",
       "      <td>0.000000</td>\n",
       "      <td>0</td>\n",
       "    </tr>\n",
       "    <tr>\n",
       "      <th>142165</th>\n",
       "      <td>2017-05-28</td>\n",
       "      <td>Uluru</td>\n",
       "      <td>0.389151</td>\n",
       "      <td>0.555766</td>\n",
       "      <td>0.000000</td>\n",
       "      <td>0.037723</td>\n",
       "      <td>0.525852</td>\n",
       "      <td>2</td>\n",
       "      <td>0.209302</td>\n",
       "      <td>7</td>\n",
       "      <td>...</td>\n",
       "      <td>0.25</td>\n",
       "      <td>0.680992</td>\n",
       "      <td>0.6672</td>\n",
       "      <td>0.444444</td>\n",
       "      <td>0.500352</td>\n",
       "      <td>0.443038</td>\n",
       "      <td>0.554702</td>\n",
       "      <td>0</td>\n",
       "      <td>0.000000</td>\n",
       "      <td>0</td>\n",
       "    </tr>\n",
       "    <tr>\n",
       "      <th>142166</th>\n",
       "      <td>2017-05-29</td>\n",
       "      <td>Uluru</td>\n",
       "      <td>0.500000</td>\n",
       "      <td>0.510397</td>\n",
       "      <td>0.000000</td>\n",
       "      <td>0.037723</td>\n",
       "      <td>0.525852</td>\n",
       "      <td>2</td>\n",
       "      <td>0.240310</td>\n",
       "      <td>2</td>\n",
       "      <td>...</td>\n",
       "      <td>0.34</td>\n",
       "      <td>0.723967</td>\n",
       "      <td>0.7136</td>\n",
       "      <td>0.888889</td>\n",
       "      <td>0.888889</td>\n",
       "      <td>0.445148</td>\n",
       "      <td>0.506718</td>\n",
       "      <td>0</td>\n",
       "      <td>0.000000</td>\n",
       "      <td>0</td>\n",
       "    </tr>\n",
       "    <tr>\n",
       "      <th>142167</th>\n",
       "      <td>2017-05-30</td>\n",
       "      <td>Uluru</td>\n",
       "      <td>0.422170</td>\n",
       "      <td>0.519849</td>\n",
       "      <td>0.000000</td>\n",
       "      <td>0.037723</td>\n",
       "      <td>0.525852</td>\n",
       "      <td>2</td>\n",
       "      <td>0.224806</td>\n",
       "      <td>7</td>\n",
       "      <td>...</td>\n",
       "      <td>0.32</td>\n",
       "      <td>0.761983</td>\n",
       "      <td>0.7440</td>\n",
       "      <td>0.888889</td>\n",
       "      <td>0.444444</td>\n",
       "      <td>0.400844</td>\n",
       "      <td>0.531670</td>\n",
       "      <td>0</td>\n",
       "      <td>0.000000</td>\n",
       "      <td>0</td>\n",
       "    </tr>\n",
       "    <tr>\n",
       "      <th>142168</th>\n",
       "      <td>2017-05-31</td>\n",
       "      <td>Uluru</td>\n",
       "      <td>0.327830</td>\n",
       "      <td>0.478261</td>\n",
       "      <td>0.000000</td>\n",
       "      <td>0.037723</td>\n",
       "      <td>0.525852</td>\n",
       "      <td>2</td>\n",
       "      <td>0.310078</td>\n",
       "      <td>2</td>\n",
       "      <td>...</td>\n",
       "      <td>0.32</td>\n",
       "      <td>0.804959</td>\n",
       "      <td>0.7712</td>\n",
       "      <td>0.493021</td>\n",
       "      <td>0.500352</td>\n",
       "      <td>0.386076</td>\n",
       "      <td>0.491363</td>\n",
       "      <td>0</td>\n",
       "      <td>0.000000</td>\n",
       "      <td>0</td>\n",
       "    </tr>\n",
       "    <tr>\n",
       "      <th>142169</th>\n",
       "      <td>2017-06-01</td>\n",
       "      <td>Uluru</td>\n",
       "      <td>0.332547</td>\n",
       "      <td>0.457467</td>\n",
       "      <td>0.000000</td>\n",
       "      <td>0.037723</td>\n",
       "      <td>0.525852</td>\n",
       "      <td>2</td>\n",
       "      <td>0.286822</td>\n",
       "      <td>2</td>\n",
       "      <td>...</td>\n",
       "      <td>0.22</td>\n",
       "      <td>0.811570</td>\n",
       "      <td>0.8000</td>\n",
       "      <td>0.493021</td>\n",
       "      <td>0.500352</td>\n",
       "      <td>0.356540</td>\n",
       "      <td>0.454894</td>\n",
       "      <td>0</td>\n",
       "      <td>0.000000</td>\n",
       "      <td>0</td>\n",
       "    </tr>\n",
       "    <tr>\n",
       "      <th>142170</th>\n",
       "      <td>2017-06-02</td>\n",
       "      <td>Uluru</td>\n",
       "      <td>0.235849</td>\n",
       "      <td>0.453686</td>\n",
       "      <td>0.000000</td>\n",
       "      <td>0.037723</td>\n",
       "      <td>0.525852</td>\n",
       "      <td>2</td>\n",
       "      <td>0.240310</td>\n",
       "      <td>14</td>\n",
       "      <td>...</td>\n",
       "      <td>0.18</td>\n",
       "      <td>0.829752</td>\n",
       "      <td>0.7936</td>\n",
       "      <td>0.493021</td>\n",
       "      <td>0.500352</td>\n",
       "      <td>0.295359</td>\n",
       "      <td>0.441459</td>\n",
       "      <td>0</td>\n",
       "      <td>0.000000</td>\n",
       "      <td>0</td>\n",
       "    </tr>\n",
       "    <tr>\n",
       "      <th>142171</th>\n",
       "      <td>2017-06-03</td>\n",
       "      <td>Uluru</td>\n",
       "      <td>0.290094</td>\n",
       "      <td>0.465028</td>\n",
       "      <td>0.000000</td>\n",
       "      <td>0.037723</td>\n",
       "      <td>0.525852</td>\n",
       "      <td>13</td>\n",
       "      <td>0.255814</td>\n",
       "      <td>14</td>\n",
       "      <td>...</td>\n",
       "      <td>0.22</td>\n",
       "      <td>0.796694</td>\n",
       "      <td>0.7520</td>\n",
       "      <td>0.493021</td>\n",
       "      <td>0.500352</td>\n",
       "      <td>0.333333</td>\n",
       "      <td>0.466411</td>\n",
       "      <td>0</td>\n",
       "      <td>0.000000</td>\n",
       "      <td>0</td>\n",
       "    </tr>\n",
       "    <tr>\n",
       "      <th>142172</th>\n",
       "      <td>2017-06-04</td>\n",
       "      <td>Uluru</td>\n",
       "      <td>0.306604</td>\n",
       "      <td>0.446125</td>\n",
       "      <td>0.000000</td>\n",
       "      <td>0.037723</td>\n",
       "      <td>0.525852</td>\n",
       "      <td>2</td>\n",
       "      <td>0.193798</td>\n",
       "      <td>14</td>\n",
       "      <td>...</td>\n",
       "      <td>0.26</td>\n",
       "      <td>0.766942</td>\n",
       "      <td>0.7248</td>\n",
       "      <td>0.493021</td>\n",
       "      <td>0.500352</td>\n",
       "      <td>0.352321</td>\n",
       "      <td>0.460653</td>\n",
       "      <td>0</td>\n",
       "      <td>0.000000</td>\n",
       "      <td>0</td>\n",
       "    </tr>\n",
       "    <tr>\n",
       "      <th>142173</th>\n",
       "      <td>2017-06-05</td>\n",
       "      <td>Uluru</td>\n",
       "      <td>0.316038</td>\n",
       "      <td>0.482042</td>\n",
       "      <td>0.000000</td>\n",
       "      <td>0.037723</td>\n",
       "      <td>0.525852</td>\n",
       "      <td>2</td>\n",
       "      <td>0.240310</td>\n",
       "      <td>14</td>\n",
       "      <td>...</td>\n",
       "      <td>0.11</td>\n",
       "      <td>0.770248</td>\n",
       "      <td>0.7488</td>\n",
       "      <td>0.493021</td>\n",
       "      <td>0.500352</td>\n",
       "      <td>0.369198</td>\n",
       "      <td>0.483685</td>\n",
       "      <td>0</td>\n",
       "      <td>0.000000</td>\n",
       "      <td>0</td>\n",
       "    </tr>\n",
       "    <tr>\n",
       "      <th>142174</th>\n",
       "      <td>2017-06-06</td>\n",
       "      <td>Uluru</td>\n",
       "      <td>0.228774</td>\n",
       "      <td>0.483932</td>\n",
       "      <td>0.000000</td>\n",
       "      <td>0.037723</td>\n",
       "      <td>0.525852</td>\n",
       "      <td>2</td>\n",
       "      <td>0.286822</td>\n",
       "      <td>14</td>\n",
       "      <td>...</td>\n",
       "      <td>0.06</td>\n",
       "      <td>0.814876</td>\n",
       "      <td>0.7808</td>\n",
       "      <td>0.493021</td>\n",
       "      <td>0.500352</td>\n",
       "      <td>0.318565</td>\n",
       "      <td>0.485605</td>\n",
       "      <td>0</td>\n",
       "      <td>0.000000</td>\n",
       "      <td>0</td>\n",
       "    </tr>\n",
       "    <tr>\n",
       "      <th>142175</th>\n",
       "      <td>2017-06-07</td>\n",
       "      <td>Uluru</td>\n",
       "      <td>0.212264</td>\n",
       "      <td>0.500945</td>\n",
       "      <td>0.000000</td>\n",
       "      <td>0.037723</td>\n",
       "      <td>0.525852</td>\n",
       "      <td>2</td>\n",
       "      <td>0.286822</td>\n",
       "      <td>14</td>\n",
       "      <td>...</td>\n",
       "      <td>0.19</td>\n",
       "      <td>0.801653</td>\n",
       "      <td>0.7664</td>\n",
       "      <td>0.493021</td>\n",
       "      <td>0.500352</td>\n",
       "      <td>0.352321</td>\n",
       "      <td>0.497121</td>\n",
       "      <td>0</td>\n",
       "      <td>0.000000</td>\n",
       "      <td>0</td>\n",
       "    </tr>\n",
       "    <tr>\n",
       "      <th>142176</th>\n",
       "      <td>2017-06-08</td>\n",
       "      <td>Uluru</td>\n",
       "      <td>0.294811</td>\n",
       "      <td>0.468809</td>\n",
       "      <td>0.000000</td>\n",
       "      <td>0.037723</td>\n",
       "      <td>0.525852</td>\n",
       "      <td>7</td>\n",
       "      <td>0.255814</td>\n",
       "      <td>14</td>\n",
       "      <td>...</td>\n",
       "      <td>0.26</td>\n",
       "      <td>0.821488</td>\n",
       "      <td>0.7936</td>\n",
       "      <td>0.493021</td>\n",
       "      <td>0.500352</td>\n",
       "      <td>0.343882</td>\n",
       "      <td>0.468330</td>\n",
       "      <td>0</td>\n",
       "      <td>0.000000</td>\n",
       "      <td>0</td>\n",
       "    </tr>\n",
       "    <tr>\n",
       "      <th>142177</th>\n",
       "      <td>2017-06-09</td>\n",
       "      <td>Uluru</td>\n",
       "      <td>0.280660</td>\n",
       "      <td>0.465028</td>\n",
       "      <td>0.000000</td>\n",
       "      <td>0.037723</td>\n",
       "      <td>0.525852</td>\n",
       "      <td>2</td>\n",
       "      <td>0.286822</td>\n",
       "      <td>14</td>\n",
       "      <td>...</td>\n",
       "      <td>0.23</td>\n",
       "      <td>0.847934</td>\n",
       "      <td>0.8096</td>\n",
       "      <td>0.493021</td>\n",
       "      <td>0.500352</td>\n",
       "      <td>0.335443</td>\n",
       "      <td>0.466411</td>\n",
       "      <td>0</td>\n",
       "      <td>0.000000</td>\n",
       "      <td>0</td>\n",
       "    </tr>\n",
       "    <tr>\n",
       "      <th>142178</th>\n",
       "      <td>2017-06-10</td>\n",
       "      <td>Uluru</td>\n",
       "      <td>0.275943</td>\n",
       "      <td>0.442344</td>\n",
       "      <td>0.000000</td>\n",
       "      <td>0.037723</td>\n",
       "      <td>0.525852</td>\n",
       "      <td>2</td>\n",
       "      <td>0.310078</td>\n",
       "      <td>14</td>\n",
       "      <td>...</td>\n",
       "      <td>0.29</td>\n",
       "      <td>0.834711</td>\n",
       "      <td>0.8016</td>\n",
       "      <td>0.493021</td>\n",
       "      <td>0.500352</td>\n",
       "      <td>0.324895</td>\n",
       "      <td>0.437620</td>\n",
       "      <td>0</td>\n",
       "      <td>0.000000</td>\n",
       "      <td>0</td>\n",
       "    </tr>\n",
       "    <tr>\n",
       "      <th>142179</th>\n",
       "      <td>2017-06-11</td>\n",
       "      <td>Uluru</td>\n",
       "      <td>0.257075</td>\n",
       "      <td>0.451796</td>\n",
       "      <td>0.000000</td>\n",
       "      <td>0.037723</td>\n",
       "      <td>0.525852</td>\n",
       "      <td>2</td>\n",
       "      <td>0.209302</td>\n",
       "      <td>7</td>\n",
       "      <td>...</td>\n",
       "      <td>0.24</td>\n",
       "      <td>0.818182</td>\n",
       "      <td>0.7856</td>\n",
       "      <td>0.493021</td>\n",
       "      <td>0.500352</td>\n",
       "      <td>0.320675</td>\n",
       "      <td>0.464491</td>\n",
       "      <td>0</td>\n",
       "      <td>0.000000</td>\n",
       "      <td>0</td>\n",
       "    </tr>\n",
       "    <tr>\n",
       "      <th>142180</th>\n",
       "      <td>2017-06-12</td>\n",
       "      <td>Uluru</td>\n",
       "      <td>0.320755</td>\n",
       "      <td>0.463138</td>\n",
       "      <td>0.000000</td>\n",
       "      <td>0.037723</td>\n",
       "      <td>0.525852</td>\n",
       "      <td>2</td>\n",
       "      <td>0.310078</td>\n",
       "      <td>14</td>\n",
       "      <td>...</td>\n",
       "      <td>0.29</td>\n",
       "      <td>0.793388</td>\n",
       "      <td>0.7792</td>\n",
       "      <td>0.493021</td>\n",
       "      <td>0.500352</td>\n",
       "      <td>0.331224</td>\n",
       "      <td>0.472169</td>\n",
       "      <td>0</td>\n",
       "      <td>0.000000</td>\n",
       "      <td>0</td>\n",
       "    </tr>\n",
       "    <tr>\n",
       "      <th>142181</th>\n",
       "      <td>2017-06-13</td>\n",
       "      <td>Uluru</td>\n",
       "      <td>0.259434</td>\n",
       "      <td>0.491493</td>\n",
       "      <td>0.000000</td>\n",
       "      <td>0.037723</td>\n",
       "      <td>0.525852</td>\n",
       "      <td>13</td>\n",
       "      <td>0.224806</td>\n",
       "      <td>14</td>\n",
       "      <td>...</td>\n",
       "      <td>0.32</td>\n",
       "      <td>0.771901</td>\n",
       "      <td>0.7344</td>\n",
       "      <td>0.493021</td>\n",
       "      <td>0.500352</td>\n",
       "      <td>0.369198</td>\n",
       "      <td>0.493282</td>\n",
       "      <td>0</td>\n",
       "      <td>0.000000</td>\n",
       "      <td>0</td>\n",
       "    </tr>\n",
       "    <tr>\n",
       "      <th>142182</th>\n",
       "      <td>2017-06-14</td>\n",
       "      <td>Uluru</td>\n",
       "      <td>0.254717</td>\n",
       "      <td>0.495274</td>\n",
       "      <td>0.000000</td>\n",
       "      <td>0.037723</td>\n",
       "      <td>0.525852</td>\n",
       "      <td>7</td>\n",
       "      <td>0.124031</td>\n",
       "      <td>7</td>\n",
       "      <td>...</td>\n",
       "      <td>0.28</td>\n",
       "      <td>0.766942</td>\n",
       "      <td>0.7312</td>\n",
       "      <td>0.493021</td>\n",
       "      <td>0.500352</td>\n",
       "      <td>0.339662</td>\n",
       "      <td>0.493282</td>\n",
       "      <td>0</td>\n",
       "      <td>0.000000</td>\n",
       "      <td>0</td>\n",
       "    </tr>\n",
       "    <tr>\n",
       "      <th>142183</th>\n",
       "      <td>2017-06-15</td>\n",
       "      <td>Uluru</td>\n",
       "      <td>0.261792</td>\n",
       "      <td>0.516068</td>\n",
       "      <td>0.000000</td>\n",
       "      <td>0.037723</td>\n",
       "      <td>0.525852</td>\n",
       "      <td>4</td>\n",
       "      <td>0.100775</td>\n",
       "      <td>4</td>\n",
       "      <td>...</td>\n",
       "      <td>0.24</td>\n",
       "      <td>0.735537</td>\n",
       "      <td>0.7088</td>\n",
       "      <td>0.493021</td>\n",
       "      <td>0.500352</td>\n",
       "      <td>0.337553</td>\n",
       "      <td>0.527831</td>\n",
       "      <td>0</td>\n",
       "      <td>0.000000</td>\n",
       "      <td>0</td>\n",
       "    </tr>\n",
       "    <tr>\n",
       "      <th>142184</th>\n",
       "      <td>2017-06-16</td>\n",
       "      <td>Uluru</td>\n",
       "      <td>0.323113</td>\n",
       "      <td>0.550095</td>\n",
       "      <td>0.000000</td>\n",
       "      <td>0.037723</td>\n",
       "      <td>0.525852</td>\n",
       "      <td>2</td>\n",
       "      <td>0.139535</td>\n",
       "      <td>7</td>\n",
       "      <td>...</td>\n",
       "      <td>0.24</td>\n",
       "      <td>0.715702</td>\n",
       "      <td>0.6864</td>\n",
       "      <td>0.493021</td>\n",
       "      <td>0.500352</td>\n",
       "      <td>0.411392</td>\n",
       "      <td>0.550864</td>\n",
       "      <td>0</td>\n",
       "      <td>0.000000</td>\n",
       "      <td>0</td>\n",
       "    </tr>\n",
       "    <tr>\n",
       "      <th>142185</th>\n",
       "      <td>2017-06-17</td>\n",
       "      <td>Uluru</td>\n",
       "      <td>0.351415</td>\n",
       "      <td>0.533081</td>\n",
       "      <td>0.000000</td>\n",
       "      <td>0.037723</td>\n",
       "      <td>0.525852</td>\n",
       "      <td>14</td>\n",
       "      <td>0.193798</td>\n",
       "      <td>4</td>\n",
       "      <td>...</td>\n",
       "      <td>0.25</td>\n",
       "      <td>0.748760</td>\n",
       "      <td>0.7344</td>\n",
       "      <td>0.493021</td>\n",
       "      <td>0.500352</td>\n",
       "      <td>0.388186</td>\n",
       "      <td>0.547025</td>\n",
       "      <td>0</td>\n",
       "      <td>0.000000</td>\n",
       "      <td>0</td>\n",
       "    </tr>\n",
       "    <tr>\n",
       "      <th>142186</th>\n",
       "      <td>2017-06-18</td>\n",
       "      <td>Uluru</td>\n",
       "      <td>0.389151</td>\n",
       "      <td>0.482042</td>\n",
       "      <td>0.000000</td>\n",
       "      <td>0.037723</td>\n",
       "      <td>0.525852</td>\n",
       "      <td>14</td>\n",
       "      <td>0.271318</td>\n",
       "      <td>7</td>\n",
       "      <td>...</td>\n",
       "      <td>0.32</td>\n",
       "      <td>0.786777</td>\n",
       "      <td>0.7552</td>\n",
       "      <td>0.493021</td>\n",
       "      <td>0.777778</td>\n",
       "      <td>0.396624</td>\n",
       "      <td>0.487524</td>\n",
       "      <td>0</td>\n",
       "      <td>0.000000</td>\n",
       "      <td>0</td>\n",
       "    </tr>\n",
       "    <tr>\n",
       "      <th>142187</th>\n",
       "      <td>2017-06-19</td>\n",
       "      <td>Uluru</td>\n",
       "      <td>0.375000</td>\n",
       "      <td>0.480151</td>\n",
       "      <td>0.000000</td>\n",
       "      <td>0.037723</td>\n",
       "      <td>0.525852</td>\n",
       "      <td>2</td>\n",
       "      <td>0.224806</td>\n",
       "      <td>14</td>\n",
       "      <td>...</td>\n",
       "      <td>0.33</td>\n",
       "      <td>0.771901</td>\n",
       "      <td>0.7392</td>\n",
       "      <td>0.493021</td>\n",
       "      <td>0.500352</td>\n",
       "      <td>0.383966</td>\n",
       "      <td>0.493282</td>\n",
       "      <td>0</td>\n",
       "      <td>0.000000</td>\n",
       "      <td>0</td>\n",
       "    </tr>\n",
       "    <tr>\n",
       "      <th>142188</th>\n",
       "      <td>2017-06-20</td>\n",
       "      <td>Uluru</td>\n",
       "      <td>0.283019</td>\n",
       "      <td>0.502836</td>\n",
       "      <td>0.000000</td>\n",
       "      <td>0.037723</td>\n",
       "      <td>0.525852</td>\n",
       "      <td>2</td>\n",
       "      <td>0.193798</td>\n",
       "      <td>14</td>\n",
       "      <td>...</td>\n",
       "      <td>0.27</td>\n",
       "      <td>0.730579</td>\n",
       "      <td>0.7056</td>\n",
       "      <td>0.493021</td>\n",
       "      <td>0.500352</td>\n",
       "      <td>0.350211</td>\n",
       "      <td>0.504798</td>\n",
       "      <td>0</td>\n",
       "      <td>0.000000</td>\n",
       "      <td>0</td>\n",
       "    </tr>\n",
       "    <tr>\n",
       "      <th>142189</th>\n",
       "      <td>2017-06-21</td>\n",
       "      <td>Uluru</td>\n",
       "      <td>0.266509</td>\n",
       "      <td>0.533081</td>\n",
       "      <td>0.000000</td>\n",
       "      <td>0.037723</td>\n",
       "      <td>0.525852</td>\n",
       "      <td>2</td>\n",
       "      <td>0.193798</td>\n",
       "      <td>7</td>\n",
       "      <td>...</td>\n",
       "      <td>0.24</td>\n",
       "      <td>0.728926</td>\n",
       "      <td>0.6912</td>\n",
       "      <td>0.493021</td>\n",
       "      <td>0.500352</td>\n",
       "      <td>0.364979</td>\n",
       "      <td>0.533589</td>\n",
       "      <td>0</td>\n",
       "      <td>0.000000</td>\n",
       "      <td>0</td>\n",
       "    </tr>\n",
       "    <tr>\n",
       "      <th>142190</th>\n",
       "      <td>2017-06-22</td>\n",
       "      <td>Uluru</td>\n",
       "      <td>0.285377</td>\n",
       "      <td>0.568998</td>\n",
       "      <td>0.000000</td>\n",
       "      <td>0.037723</td>\n",
       "      <td>0.525852</td>\n",
       "      <td>10</td>\n",
       "      <td>0.124031</td>\n",
       "      <td>7</td>\n",
       "      <td>...</td>\n",
       "      <td>0.21</td>\n",
       "      <td>0.710744</td>\n",
       "      <td>0.6720</td>\n",
       "      <td>0.493021</td>\n",
       "      <td>0.500352</td>\n",
       "      <td>0.381857</td>\n",
       "      <td>0.573896</td>\n",
       "      <td>0</td>\n",
       "      <td>0.000000</td>\n",
       "      <td>0</td>\n",
       "    </tr>\n",
       "    <tr>\n",
       "      <th>142191</th>\n",
       "      <td>2017-06-23</td>\n",
       "      <td>Uluru</td>\n",
       "      <td>0.327830</td>\n",
       "      <td>0.599244</td>\n",
       "      <td>0.000000</td>\n",
       "      <td>0.037723</td>\n",
       "      <td>0.525852</td>\n",
       "      <td>1</td>\n",
       "      <td>0.240310</td>\n",
       "      <td>7</td>\n",
       "      <td>...</td>\n",
       "      <td>0.24</td>\n",
       "      <td>0.669421</td>\n",
       "      <td>0.6352</td>\n",
       "      <td>0.493021</td>\n",
       "      <td>0.500352</td>\n",
       "      <td>0.415612</td>\n",
       "      <td>0.604607</td>\n",
       "      <td>0</td>\n",
       "      <td>0.000000</td>\n",
       "      <td>0</td>\n",
       "    </tr>\n",
       "    <tr>\n",
       "      <th>142192</th>\n",
       "      <td>2017-06-24</td>\n",
       "      <td>Uluru</td>\n",
       "      <td>0.384434</td>\n",
       "      <td>0.601134</td>\n",
       "      <td>0.000000</td>\n",
       "      <td>0.037723</td>\n",
       "      <td>0.525852</td>\n",
       "      <td>7</td>\n",
       "      <td>0.170543</td>\n",
       "      <td>11</td>\n",
       "      <td>...</td>\n",
       "      <td>0.24</td>\n",
       "      <td>0.642975</td>\n",
       "      <td>0.6304</td>\n",
       "      <td>0.333333</td>\n",
       "      <td>0.222222</td>\n",
       "      <td>0.470464</td>\n",
       "      <td>0.602687</td>\n",
       "      <td>0</td>\n",
       "      <td>0.000000</td>\n",
       "      <td>0</td>\n",
       "    </tr>\n",
       "  </tbody>\n",
       "</table>\n",
       "<p>142193 rows × 24 columns</p>\n",
       "</div>"
      ],
      "text/plain": [
       "              Date Location   MinTemp   MaxTemp  Rainfall  Evaporation  \\\n",
       "0       2008-12-01   Albury  0.516509  0.523629  0.001617     0.037723   \n",
       "1       2008-12-02   Albury  0.375000  0.565217  0.000000     0.037723   \n",
       "2       2008-12-03   Albury  0.504717  0.576560  0.000000     0.037723   \n",
       "3       2008-12-04   Albury  0.417453  0.620038  0.000000     0.037723   \n",
       "4       2008-12-05   Albury  0.613208  0.701323  0.002695     0.037723   \n",
       "5       2008-12-06   Albury  0.544811  0.652174  0.000539     0.037723   \n",
       "6       2008-12-07   Albury  0.537736  0.563327  0.000000     0.037723   \n",
       "7       2008-12-08   Albury  0.382075  0.595463  0.000000     0.037723   \n",
       "8       2008-12-09   Albury  0.429245  0.693762  0.000000     0.037723   \n",
       "9       2008-12-10   Albury  0.509434  0.659735  0.003774     0.037723   \n",
       "10      2008-12-11   Albury  0.516509  0.665406  0.000000     0.037723   \n",
       "11      2008-12-12   Albury  0.575472  0.500945  0.005930     0.037723   \n",
       "12      2008-12-13   Albury  0.575472  0.442344  0.042049     0.037723   \n",
       "13      2008-12-14   Albury  0.497642  0.487713  0.009704     0.037723   \n",
       "14      2008-12-16   Albury  0.431604  0.614367  0.006334     0.037723   \n",
       "15      2008-12-17   Albury  0.533019  0.485822  0.000000     0.037723   \n",
       "16      2008-12-18   Albury  0.518868  0.523629  0.045283     0.037723   \n",
       "17      2008-12-19   Albury  0.464623  0.516068  0.028571     0.037723   \n",
       "18      2008-12-20   Albury  0.431604  0.574669  0.000000     0.037723   \n",
       "19      2008-12-21   Albury  0.471698  0.644612  0.000000     0.037723   \n",
       "20      2008-12-22   Albury  0.603774  0.714556  0.000000     0.037723   \n",
       "21      2008-12-23   Albury  0.683962  0.691871  0.000000     0.037723   \n",
       "22      2008-12-24   Albury  0.561321  0.674858  0.000000     0.037723   \n",
       "23      2008-12-25   Albury  0.497642  0.703214  0.000000     0.037723   \n",
       "24      2008-12-26   Albury  0.582547  0.731569  0.000000     0.037723   \n",
       "25      2008-12-27   Albury  0.599057  0.714556  0.000000     0.037723   \n",
       "26      2008-12-28   Albury  0.674528  0.708885  0.000000     0.037723   \n",
       "27      2008-12-29   Albury  0.665094  0.604915  0.000000     0.037723   \n",
       "28      2008-12-30   Albury  0.495283  0.548204  0.003235     0.037723   \n",
       "29      2008-12-31   Albury  0.483491  0.551985  0.002156     0.037723   \n",
       "...            ...      ...       ...       ...       ...          ...   \n",
       "142163  2017-05-26    Uluru  0.537736  0.612476  0.001078     0.037723   \n",
       "142164  2017-05-27    Uluru  0.419811  0.620038  0.000000     0.037723   \n",
       "142165  2017-05-28    Uluru  0.389151  0.555766  0.000000     0.037723   \n",
       "142166  2017-05-29    Uluru  0.500000  0.510397  0.000000     0.037723   \n",
       "142167  2017-05-30    Uluru  0.422170  0.519849  0.000000     0.037723   \n",
       "142168  2017-05-31    Uluru  0.327830  0.478261  0.000000     0.037723   \n",
       "142169  2017-06-01    Uluru  0.332547  0.457467  0.000000     0.037723   \n",
       "142170  2017-06-02    Uluru  0.235849  0.453686  0.000000     0.037723   \n",
       "142171  2017-06-03    Uluru  0.290094  0.465028  0.000000     0.037723   \n",
       "142172  2017-06-04    Uluru  0.306604  0.446125  0.000000     0.037723   \n",
       "142173  2017-06-05    Uluru  0.316038  0.482042  0.000000     0.037723   \n",
       "142174  2017-06-06    Uluru  0.228774  0.483932  0.000000     0.037723   \n",
       "142175  2017-06-07    Uluru  0.212264  0.500945  0.000000     0.037723   \n",
       "142176  2017-06-08    Uluru  0.294811  0.468809  0.000000     0.037723   \n",
       "142177  2017-06-09    Uluru  0.280660  0.465028  0.000000     0.037723   \n",
       "142178  2017-06-10    Uluru  0.275943  0.442344  0.000000     0.037723   \n",
       "142179  2017-06-11    Uluru  0.257075  0.451796  0.000000     0.037723   \n",
       "142180  2017-06-12    Uluru  0.320755  0.463138  0.000000     0.037723   \n",
       "142181  2017-06-13    Uluru  0.259434  0.491493  0.000000     0.037723   \n",
       "142182  2017-06-14    Uluru  0.254717  0.495274  0.000000     0.037723   \n",
       "142183  2017-06-15    Uluru  0.261792  0.516068  0.000000     0.037723   \n",
       "142184  2017-06-16    Uluru  0.323113  0.550095  0.000000     0.037723   \n",
       "142185  2017-06-17    Uluru  0.351415  0.533081  0.000000     0.037723   \n",
       "142186  2017-06-18    Uluru  0.389151  0.482042  0.000000     0.037723   \n",
       "142187  2017-06-19    Uluru  0.375000  0.480151  0.000000     0.037723   \n",
       "142188  2017-06-20    Uluru  0.283019  0.502836  0.000000     0.037723   \n",
       "142189  2017-06-21    Uluru  0.266509  0.533081  0.000000     0.037723   \n",
       "142190  2017-06-22    Uluru  0.285377  0.568998  0.000000     0.037723   \n",
       "142191  2017-06-23    Uluru  0.327830  0.599244  0.000000     0.037723   \n",
       "142192  2017-06-24    Uluru  0.384434  0.601134  0.000000     0.037723   \n",
       "\n",
       "        Sunshine WindGustDir  WindGustSpeed  WindDir9am  ...  Humidity3pm  \\\n",
       "0       0.525852           3       0.294574           3  ...         0.22   \n",
       "1       0.525852          15       0.294574          10  ...         0.25   \n",
       "2       0.525852          16       0.310078           3  ...         0.30   \n",
       "3       0.525852           5       0.139535           7  ...         0.16   \n",
       "4       0.525852           3       0.271318          13  ...         0.33   \n",
       "5       0.525852          15       0.387597           3  ...         0.23   \n",
       "6       0.525852           3       0.341085           8  ...         0.19   \n",
       "7       0.525852           3       0.224806          11  ...         0.19   \n",
       "8       0.525852          10       0.573643           7  ...         0.09   \n",
       "9       0.525852           3       0.170543           4  ...         0.27   \n",
       "10      0.525852           1       0.186047          11  ...         0.22   \n",
       "11      0.525852           9       0.193798           5  ...         0.91   \n",
       "12      0.525852           3       0.426357          10  ...         0.93   \n",
       "13      0.525852           8       0.294574           3  ...         0.43   \n",
       "14      0.525852          15       0.341085           1  ...         0.28   \n",
       "15      0.525852          13       0.124031          12  ...         0.82   \n",
       "16      0.525852           3       0.441860           1  ...         0.65   \n",
       "17      0.525852          11       0.286822          16  ...         0.32   \n",
       "18      0.525852          11       0.155039           7  ...         0.26   \n",
       "19      0.525852           4       0.139535           7  ...         0.28   \n",
       "20      0.525852           5       0.286822           5  ...         0.28   \n",
       "21      0.525852          15       0.271318           3  ...         0.24   \n",
       "22      0.525852           1       0.209302          14  ...         0.23   \n",
       "23      0.525852           3       0.286822           2  ...         0.17   \n",
       "24      0.525852          16       0.224806           7  ...         0.19   \n",
       "25      0.525852          16       0.395349           1  ...         0.28   \n",
       "26      0.525852          15       0.325581           1  ...         0.15   \n",
       "27      0.525852          15       0.310078           6  ...         0.22   \n",
       "28      0.525852          15       0.341085          16  ...         0.70   \n",
       "29      0.525852           3       0.255814          15  ...         0.28   \n",
       "...          ...         ...            ...         ...  ...          ...   \n",
       "142163  0.525852          15       0.255814           1  ...         0.27   \n",
       "142164  0.525852           3       0.170543          12  ...         0.16   \n",
       "142165  0.525852           2       0.209302           7  ...         0.25   \n",
       "142166  0.525852           2       0.240310           2  ...         0.34   \n",
       "142167  0.525852           2       0.224806           7  ...         0.32   \n",
       "142168  0.525852           2       0.310078           2  ...         0.32   \n",
       "142169  0.525852           2       0.286822           2  ...         0.22   \n",
       "142170  0.525852           2       0.240310          14  ...         0.18   \n",
       "142171  0.525852          13       0.255814          14  ...         0.22   \n",
       "142172  0.525852           2       0.193798          14  ...         0.26   \n",
       "142173  0.525852           2       0.240310          14  ...         0.11   \n",
       "142174  0.525852           2       0.286822          14  ...         0.06   \n",
       "142175  0.525852           2       0.286822          14  ...         0.19   \n",
       "142176  0.525852           7       0.255814          14  ...         0.26   \n",
       "142177  0.525852           2       0.286822          14  ...         0.23   \n",
       "142178  0.525852           2       0.310078          14  ...         0.29   \n",
       "142179  0.525852           2       0.209302           7  ...         0.24   \n",
       "142180  0.525852           2       0.310078          14  ...         0.29   \n",
       "142181  0.525852          13       0.224806          14  ...         0.32   \n",
       "142182  0.525852           7       0.124031           7  ...         0.28   \n",
       "142183  0.525852           4       0.100775           4  ...         0.24   \n",
       "142184  0.525852           2       0.139535           7  ...         0.24   \n",
       "142185  0.525852          14       0.193798           4  ...         0.25   \n",
       "142186  0.525852          14       0.271318           7  ...         0.32   \n",
       "142187  0.525852           2       0.224806          14  ...         0.33   \n",
       "142188  0.525852           2       0.193798          14  ...         0.27   \n",
       "142189  0.525852           2       0.193798           7  ...         0.24   \n",
       "142190  0.525852          10       0.124031           7  ...         0.21   \n",
       "142191  0.525852           1       0.240310           7  ...         0.24   \n",
       "142192  0.525852           7       0.170543          11  ...         0.24   \n",
       "\n",
       "        Pressure9am  Pressure3pm  Cloud9am  Cloud3pm   Temp9am   Temp3pm  \\\n",
       "0          0.449587       0.4800  0.888889  0.500352  0.508439  0.522073   \n",
       "1          0.497521       0.4912  0.493021  0.500352  0.514768  0.570058   \n",
       "2          0.447934       0.5056  0.493021  0.222222  0.594937  0.548944   \n",
       "3          0.613223       0.5712  0.493021  0.500352  0.533755  0.612284   \n",
       "4          0.500826       0.4624  0.777778  0.888889  0.527426  0.673704   \n",
       "5          0.474380       0.4528  0.493021  0.500352  0.586498  0.658349   \n",
       "6          0.480992       0.4976  0.111111  0.500352  0.533755  0.575816   \n",
       "7          0.543802       0.5280  0.493021  0.500352  0.495781  0.593090   \n",
       "8          0.469421       0.4240  0.493021  0.500352  0.537975  0.683301   \n",
       "9          0.438017       0.4576  0.493021  0.500352  0.575949  0.644914   \n",
       "10         0.517355       0.5056  0.493021  0.500352  0.582278  0.656430   \n",
       "11         0.495868       0.4336  0.888889  0.888889  0.487342  0.429942   \n",
       "12         0.228099       0.2544  0.888889  0.888889  0.518987  0.406910   \n",
       "13         0.342149       0.3952  0.493021  0.777778  0.485232  0.483685   \n",
       "14         0.543802       0.5312  0.000000  0.500352  0.516878  0.606526   \n",
       "15         0.523967       0.5328  0.888889  0.111111  0.514768  0.451056   \n",
       "16         0.418182       0.4016  0.888889  0.111111  0.531646  0.516315   \n",
       "17         0.477686       0.5216  0.493021  0.222222  0.478903  0.506718   \n",
       "18         0.639669       0.6400  0.493021  0.500352  0.485232  0.548944   \n",
       "19         0.641322       0.6032  0.493021  0.500352  0.554852  0.627639   \n",
       "20         0.547107       0.4960  0.493021  0.111111  0.668776  0.710173   \n",
       "21         0.451240       0.4576  0.493021  0.500352  0.654008  0.694818   \n",
       "22         0.504132       0.4976  0.555556  0.500352  0.592827  0.660269   \n",
       "23         0.535537       0.5280  0.493021  0.500352  0.605485  0.702495   \n",
       "24         0.502479       0.4880  0.493021  0.111111  0.641350  0.737044   \n",
       "25         0.434711       0.4240  0.493021  0.111111  0.713080  0.702495   \n",
       "26         0.408264       0.3936  0.493021  0.500352  0.670886  0.719770   \n",
       "27         0.401653       0.4336  0.493021  0.500352  0.607595  0.604607   \n",
       "28         0.414876       0.4208  0.888889  0.888889  0.415612  0.452975   \n",
       "29         0.423140       0.4480  0.111111  0.500352  0.508439  0.539347   \n",
       "...             ...          ...       ...       ...       ...       ...   \n",
       "142163     0.661157       0.6240  0.444444  0.777778  0.491561  0.625720   \n",
       "142164     0.651240       0.6368  0.493021  0.500352  0.502110  0.627639   \n",
       "142165     0.680992       0.6672  0.444444  0.500352  0.443038  0.554702   \n",
       "142166     0.723967       0.7136  0.888889  0.888889  0.445148  0.506718   \n",
       "142167     0.761983       0.7440  0.888889  0.444444  0.400844  0.531670   \n",
       "142168     0.804959       0.7712  0.493021  0.500352  0.386076  0.491363   \n",
       "142169     0.811570       0.8000  0.493021  0.500352  0.356540  0.454894   \n",
       "142170     0.829752       0.7936  0.493021  0.500352  0.295359  0.441459   \n",
       "142171     0.796694       0.7520  0.493021  0.500352  0.333333  0.466411   \n",
       "142172     0.766942       0.7248  0.493021  0.500352  0.352321  0.460653   \n",
       "142173     0.770248       0.7488  0.493021  0.500352  0.369198  0.483685   \n",
       "142174     0.814876       0.7808  0.493021  0.500352  0.318565  0.485605   \n",
       "142175     0.801653       0.7664  0.493021  0.500352  0.352321  0.497121   \n",
       "142176     0.821488       0.7936  0.493021  0.500352  0.343882  0.468330   \n",
       "142177     0.847934       0.8096  0.493021  0.500352  0.335443  0.466411   \n",
       "142178     0.834711       0.8016  0.493021  0.500352  0.324895  0.437620   \n",
       "142179     0.818182       0.7856  0.493021  0.500352  0.320675  0.464491   \n",
       "142180     0.793388       0.7792  0.493021  0.500352  0.331224  0.472169   \n",
       "142181     0.771901       0.7344  0.493021  0.500352  0.369198  0.493282   \n",
       "142182     0.766942       0.7312  0.493021  0.500352  0.339662  0.493282   \n",
       "142183     0.735537       0.7088  0.493021  0.500352  0.337553  0.527831   \n",
       "142184     0.715702       0.6864  0.493021  0.500352  0.411392  0.550864   \n",
       "142185     0.748760       0.7344  0.493021  0.500352  0.388186  0.547025   \n",
       "142186     0.786777       0.7552  0.493021  0.777778  0.396624  0.487524   \n",
       "142187     0.771901       0.7392  0.493021  0.500352  0.383966  0.493282   \n",
       "142188     0.730579       0.7056  0.493021  0.500352  0.350211  0.504798   \n",
       "142189     0.728926       0.6912  0.493021  0.500352  0.364979  0.533589   \n",
       "142190     0.710744       0.6720  0.493021  0.500352  0.381857  0.573896   \n",
       "142191     0.669421       0.6352  0.493021  0.500352  0.415612  0.604607   \n",
       "142192     0.642975       0.6304  0.333333  0.222222  0.470464  0.602687   \n",
       "\n",
       "        RainToday   RISK_MM  RainTomorrow  \n",
       "0               0  0.000000             0  \n",
       "1               0  0.000000             0  \n",
       "2               0  0.000000             0  \n",
       "3               0  0.002695             0  \n",
       "4               0  0.000539             0  \n",
       "5               0  0.000000             0  \n",
       "6               0  0.000000             0  \n",
       "7               0  0.000000             0  \n",
       "8               0  0.003774             1  \n",
       "9               1  0.000000             0  \n",
       "10              0  0.005930             1  \n",
       "11              1  0.042049             1  \n",
       "12              1  0.009704             1  \n",
       "13              1  0.000000             0  \n",
       "14              0  0.000000             0  \n",
       "15              0  0.045283             1  \n",
       "16              1  0.028571             1  \n",
       "17              1  0.000000             0  \n",
       "18              0  0.000000             0  \n",
       "19              0  0.000000             0  \n",
       "20              0  0.000000             0  \n",
       "21              0  0.000000             0  \n",
       "22              0  0.000000             0  \n",
       "23              0  0.000000             0  \n",
       "24              0  0.000000             0  \n",
       "25              0  0.000000             0  \n",
       "26              0  0.000000             0  \n",
       "27              0  0.003235             1  \n",
       "28              1  0.002156             0  \n",
       "29              0  0.000000             0  \n",
       "...           ...       ...           ...  \n",
       "142163          0  0.000000             0  \n",
       "142164          0  0.000000             0  \n",
       "142165          0  0.000000             0  \n",
       "142166          0  0.000000             0  \n",
       "142167          0  0.000000             0  \n",
       "142168          0  0.000000             0  \n",
       "142169          0  0.000000             0  \n",
       "142170          0  0.000000             0  \n",
       "142171          0  0.000000             0  \n",
       "142172          0  0.000000             0  \n",
       "142173          0  0.000000             0  \n",
       "142174          0  0.000000             0  \n",
       "142175          0  0.000000             0  \n",
       "142176          0  0.000000             0  \n",
       "142177          0  0.000000             0  \n",
       "142178          0  0.000000             0  \n",
       "142179          0  0.000000             0  \n",
       "142180          0  0.000000             0  \n",
       "142181          0  0.000000             0  \n",
       "142182          0  0.000000             0  \n",
       "142183          0  0.000000             0  \n",
       "142184          0  0.000000             0  \n",
       "142185          0  0.000000             0  \n",
       "142186          0  0.000000             0  \n",
       "142187          0  0.000000             0  \n",
       "142188          0  0.000000             0  \n",
       "142189          0  0.000000             0  \n",
       "142190          0  0.000000             0  \n",
       "142191          0  0.000000             0  \n",
       "142192          0  0.000000             0  \n",
       "\n",
       "[142193 rows x 24 columns]"
      ]
     },
     "execution_count": 81,
     "metadata": {},
     "output_type": "execute_result"
    }
   ],
   "source": [
    "weather"
   ]
  },
  {
   "cell_type": "markdown",
   "metadata": {},
   "source": [
    "# Exploring the Data"
   ]
  },
  {
   "cell_type": "code",
   "execution_count": 82,
   "metadata": {},
   "outputs": [
    {
     "data": {
      "text/html": [
       "<div>\n",
       "<style scoped>\n",
       "    .dataframe tbody tr th:only-of-type {\n",
       "        vertical-align: middle;\n",
       "    }\n",
       "\n",
       "    .dataframe tbody tr th {\n",
       "        vertical-align: top;\n",
       "    }\n",
       "\n",
       "    .dataframe thead th {\n",
       "        text-align: right;\n",
       "    }\n",
       "</style>\n",
       "<table border=\"1\" class=\"dataframe\">\n",
       "  <thead>\n",
       "    <tr style=\"text-align: right;\">\n",
       "      <th></th>\n",
       "      <th>MinTemp</th>\n",
       "      <th>MaxTemp</th>\n",
       "      <th>Rainfall</th>\n",
       "      <th>Evaporation</th>\n",
       "      <th>Sunshine</th>\n",
       "      <th>WindGustSpeed</th>\n",
       "      <th>WindDir9am</th>\n",
       "      <th>WindDir3pm</th>\n",
       "      <th>WindSpeed9am</th>\n",
       "      <th>WindSpeed3pm</th>\n",
       "      <th>...</th>\n",
       "      <th>Humidity3pm</th>\n",
       "      <th>Pressure9am</th>\n",
       "      <th>Pressure3pm</th>\n",
       "      <th>Cloud9am</th>\n",
       "      <th>Cloud3pm</th>\n",
       "      <th>Temp9am</th>\n",
       "      <th>Temp3pm</th>\n",
       "      <th>RainToday</th>\n",
       "      <th>RISK_MM</th>\n",
       "      <th>RainTomorrow</th>\n",
       "    </tr>\n",
       "  </thead>\n",
       "  <tbody>\n",
       "    <tr>\n",
       "      <th>count</th>\n",
       "      <td>142193.000000</td>\n",
       "      <td>142193.000000</td>\n",
       "      <td>142193.000000</td>\n",
       "      <td>142193.000000</td>\n",
       "      <td>142193.000000</td>\n",
       "      <td>142193.000000</td>\n",
       "      <td>142193.000000</td>\n",
       "      <td>142193.000000</td>\n",
       "      <td>142193.000000</td>\n",
       "      <td>142193.000000</td>\n",
       "      <td>...</td>\n",
       "      <td>142193.000000</td>\n",
       "      <td>142193.000000</td>\n",
       "      <td>142193.000000</td>\n",
       "      <td>142193.000000</td>\n",
       "      <td>142193.000000</td>\n",
       "      <td>142193.000000</td>\n",
       "      <td>142193.000000</td>\n",
       "      <td>142193.000000</td>\n",
       "      <td>142193.000000</td>\n",
       "      <td>142193.000000</td>\n",
       "    </tr>\n",
       "    <tr>\n",
       "      <th>mean</th>\n",
       "      <td>0.487887</td>\n",
       "      <td>0.529807</td>\n",
       "      <td>0.006334</td>\n",
       "      <td>0.037723</td>\n",
       "      <td>0.525852</td>\n",
       "      <td>0.263444</td>\n",
       "      <td>7.587448</td>\n",
       "      <td>8.358492</td>\n",
       "      <td>0.107708</td>\n",
       "      <td>0.214225</td>\n",
       "      <td>...</td>\n",
       "      <td>0.514826</td>\n",
       "      <td>0.614112</td>\n",
       "      <td>0.610531</td>\n",
       "      <td>0.493021</td>\n",
       "      <td>0.500352</td>\n",
       "      <td>0.510285</td>\n",
       "      <td>0.519909</td>\n",
       "      <td>0.221213</td>\n",
       "      <td>0.006363</td>\n",
       "      <td>0.224181</td>\n",
       "    </tr>\n",
       "    <tr>\n",
       "      <th>std</th>\n",
       "      <td>0.150682</td>\n",
       "      <td>0.134396</td>\n",
       "      <td>0.022704</td>\n",
       "      <td>0.021849</td>\n",
       "      <td>0.188616</td>\n",
       "      <td>0.101848</td>\n",
       "      <td>4.816123</td>\n",
       "      <td>4.588470</td>\n",
       "      <td>0.068085</td>\n",
       "      <td>0.100248</td>\n",
       "      <td>...</td>\n",
       "      <td>0.205321</td>\n",
       "      <td>0.111508</td>\n",
       "      <td>0.106909</td>\n",
       "      <td>0.253120</td>\n",
       "      <td>0.233857</td>\n",
       "      <td>0.136544</td>\n",
       "      <td>0.131877</td>\n",
       "      <td>0.415065</td>\n",
       "      <td>0.022852</td>\n",
       "      <td>0.417043</td>\n",
       "    </tr>\n",
       "    <tr>\n",
       "      <th>min</th>\n",
       "      <td>0.000000</td>\n",
       "      <td>0.000000</td>\n",
       "      <td>0.000000</td>\n",
       "      <td>0.000000</td>\n",
       "      <td>0.000000</td>\n",
       "      <td>0.000000</td>\n",
       "      <td>1.000000</td>\n",
       "      <td>1.000000</td>\n",
       "      <td>0.000000</td>\n",
       "      <td>0.000000</td>\n",
       "      <td>...</td>\n",
       "      <td>0.000000</td>\n",
       "      <td>0.000000</td>\n",
       "      <td>0.000000</td>\n",
       "      <td>0.000000</td>\n",
       "      <td>0.000000</td>\n",
       "      <td>0.000000</td>\n",
       "      <td>0.000000</td>\n",
       "      <td>0.000000</td>\n",
       "      <td>0.000000</td>\n",
       "      <td>0.000000</td>\n",
       "    </tr>\n",
       "    <tr>\n",
       "      <th>25%</th>\n",
       "      <td>0.379717</td>\n",
       "      <td>0.429112</td>\n",
       "      <td>0.000000</td>\n",
       "      <td>0.027586</td>\n",
       "      <td>0.525852</td>\n",
       "      <td>0.193798</td>\n",
       "      <td>3.000000</td>\n",
       "      <td>4.000000</td>\n",
       "      <td>0.053846</td>\n",
       "      <td>0.149425</td>\n",
       "      <td>...</td>\n",
       "      <td>0.370000</td>\n",
       "      <td>0.545455</td>\n",
       "      <td>0.542400</td>\n",
       "      <td>0.333333</td>\n",
       "      <td>0.444444</td>\n",
       "      <td>0.411392</td>\n",
       "      <td>0.424184</td>\n",
       "      <td>0.000000</td>\n",
       "      <td>0.000000</td>\n",
       "      <td>0.000000</td>\n",
       "    </tr>\n",
       "    <tr>\n",
       "      <th>50%</th>\n",
       "      <td>0.483491</td>\n",
       "      <td>0.519849</td>\n",
       "      <td>0.000000</td>\n",
       "      <td>0.037723</td>\n",
       "      <td>0.525852</td>\n",
       "      <td>0.255814</td>\n",
       "      <td>7.000000</td>\n",
       "      <td>8.000000</td>\n",
       "      <td>0.100000</td>\n",
       "      <td>0.214225</td>\n",
       "      <td>...</td>\n",
       "      <td>0.514826</td>\n",
       "      <td>0.614112</td>\n",
       "      <td>0.610531</td>\n",
       "      <td>0.493021</td>\n",
       "      <td>0.500352</td>\n",
       "      <td>0.506329</td>\n",
       "      <td>0.512476</td>\n",
       "      <td>0.000000</td>\n",
       "      <td>0.000000</td>\n",
       "      <td>0.000000</td>\n",
       "    </tr>\n",
       "    <tr>\n",
       "      <th>75%</th>\n",
       "      <td>0.596698</td>\n",
       "      <td>0.623819</td>\n",
       "      <td>0.002156</td>\n",
       "      <td>0.037723</td>\n",
       "      <td>0.600000</td>\n",
       "      <td>0.310078</td>\n",
       "      <td>12.000000</td>\n",
       "      <td>12.000000</td>\n",
       "      <td>0.146154</td>\n",
       "      <td>0.275862</td>\n",
       "      <td>...</td>\n",
       "      <td>0.650000</td>\n",
       "      <td>0.682645</td>\n",
       "      <td>0.676800</td>\n",
       "      <td>0.666667</td>\n",
       "      <td>0.666667</td>\n",
       "      <td>0.605485</td>\n",
       "      <td>0.608445</td>\n",
       "      <td>0.000000</td>\n",
       "      <td>0.002156</td>\n",
       "      <td>0.000000</td>\n",
       "    </tr>\n",
       "    <tr>\n",
       "      <th>max</th>\n",
       "      <td>1.000000</td>\n",
       "      <td>1.000000</td>\n",
       "      <td>1.000000</td>\n",
       "      <td>1.000000</td>\n",
       "      <td>1.000000</td>\n",
       "      <td>1.000000</td>\n",
       "      <td>16.000000</td>\n",
       "      <td>16.000000</td>\n",
       "      <td>1.000000</td>\n",
       "      <td>1.000000</td>\n",
       "      <td>...</td>\n",
       "      <td>1.000000</td>\n",
       "      <td>1.000000</td>\n",
       "      <td>1.000000</td>\n",
       "      <td>1.000000</td>\n",
       "      <td>1.000000</td>\n",
       "      <td>1.000000</td>\n",
       "      <td>1.000000</td>\n",
       "      <td>1.000000</td>\n",
       "      <td>1.000000</td>\n",
       "      <td>1.000000</td>\n",
       "    </tr>\n",
       "  </tbody>\n",
       "</table>\n",
       "<p>8 rows × 21 columns</p>\n",
       "</div>"
      ],
      "text/plain": [
       "             MinTemp        MaxTemp       Rainfall    Evaporation  \\\n",
       "count  142193.000000  142193.000000  142193.000000  142193.000000   \n",
       "mean        0.487887       0.529807       0.006334       0.037723   \n",
       "std         0.150682       0.134396       0.022704       0.021849   \n",
       "min         0.000000       0.000000       0.000000       0.000000   \n",
       "25%         0.379717       0.429112       0.000000       0.027586   \n",
       "50%         0.483491       0.519849       0.000000       0.037723   \n",
       "75%         0.596698       0.623819       0.002156       0.037723   \n",
       "max         1.000000       1.000000       1.000000       1.000000   \n",
       "\n",
       "            Sunshine  WindGustSpeed     WindDir9am     WindDir3pm  \\\n",
       "count  142193.000000  142193.000000  142193.000000  142193.000000   \n",
       "mean        0.525852       0.263444       7.587448       8.358492   \n",
       "std         0.188616       0.101848       4.816123       4.588470   \n",
       "min         0.000000       0.000000       1.000000       1.000000   \n",
       "25%         0.525852       0.193798       3.000000       4.000000   \n",
       "50%         0.525852       0.255814       7.000000       8.000000   \n",
       "75%         0.600000       0.310078      12.000000      12.000000   \n",
       "max         1.000000       1.000000      16.000000      16.000000   \n",
       "\n",
       "        WindSpeed9am   WindSpeed3pm  ...    Humidity3pm    Pressure9am  \\\n",
       "count  142193.000000  142193.000000  ...  142193.000000  142193.000000   \n",
       "mean        0.107708       0.214225  ...       0.514826       0.614112   \n",
       "std         0.068085       0.100248  ...       0.205321       0.111508   \n",
       "min         0.000000       0.000000  ...       0.000000       0.000000   \n",
       "25%         0.053846       0.149425  ...       0.370000       0.545455   \n",
       "50%         0.100000       0.214225  ...       0.514826       0.614112   \n",
       "75%         0.146154       0.275862  ...       0.650000       0.682645   \n",
       "max         1.000000       1.000000  ...       1.000000       1.000000   \n",
       "\n",
       "         Pressure3pm       Cloud9am       Cloud3pm        Temp9am  \\\n",
       "count  142193.000000  142193.000000  142193.000000  142193.000000   \n",
       "mean        0.610531       0.493021       0.500352       0.510285   \n",
       "std         0.106909       0.253120       0.233857       0.136544   \n",
       "min         0.000000       0.000000       0.000000       0.000000   \n",
       "25%         0.542400       0.333333       0.444444       0.411392   \n",
       "50%         0.610531       0.493021       0.500352       0.506329   \n",
       "75%         0.676800       0.666667       0.666667       0.605485   \n",
       "max         1.000000       1.000000       1.000000       1.000000   \n",
       "\n",
       "             Temp3pm      RainToday        RISK_MM   RainTomorrow  \n",
       "count  142193.000000  142193.000000  142193.000000  142193.000000  \n",
       "mean        0.519909       0.221213       0.006363       0.224181  \n",
       "std         0.131877       0.415065       0.022852       0.417043  \n",
       "min         0.000000       0.000000       0.000000       0.000000  \n",
       "25%         0.424184       0.000000       0.000000       0.000000  \n",
       "50%         0.512476       0.000000       0.000000       0.000000  \n",
       "75%         0.608445       0.000000       0.002156       0.000000  \n",
       "max         1.000000       1.000000       1.000000       1.000000  \n",
       "\n",
       "[8 rows x 21 columns]"
      ]
     },
     "execution_count": 82,
     "metadata": {},
     "output_type": "execute_result"
    }
   ],
   "source": [
    "weather.describe()"
   ]
  },
  {
   "cell_type": "code",
   "execution_count": 83,
   "metadata": {},
   "outputs": [
    {
     "data": {
      "text/plain": [
       "<matplotlib.axes._subplots.AxesSubplot at 0x2212b101438>"
      ]
     },
     "execution_count": 83,
     "metadata": {},
     "output_type": "execute_result"
    },
    {
     "data": {
      "image/png": "[encoded data removed]",
      "text/plain": [
       "<Figure size 432x288 with 1 Axes>"
      ]
     },
     "metadata": {
      "needs_background": "light"
     },
     "output_type": "display_data"
    }
   ],
   "source": [
    "weather.boxplot(column ='MinTemp',by = 'RainTomorrow')"
   ]
  },
  {
   "cell_type": "markdown",
   "metadata": {},
   "source": [
    "The average \"MinTemp\" is same on both the day, the rain has fallen and the day, the rain has not fallen "
   ]
  },
  {
   "cell_type": "code",
   "execution_count": 84,
   "metadata": {},
   "outputs": [
    {
     "data": {
      "text/plain": [
       "<matplotlib.axes._subplots.AxesSubplot at 0x2212bac2080>"
      ]
     },
     "execution_count": 84,
     "metadata": {},
     "output_type": "execute_result"
    },
    {
     "data": {
      "image/png": "[encoded data removed]",
      "text/plain": [
       "<Figure size 432x288 with 1 Axes>"
      ]
     },
     "metadata": {
      "needs_background": "light"
     },
     "output_type": "display_data"
    }
   ],
   "source": [
    "weather.boxplot(column ='MaxTemp',by = 'RainTomorrow')"
   ]
  },
  {
   "cell_type": "markdown",
   "metadata": {},
   "source": [
    "The average \"MaxTemp\" is more on the day, the rain has not fallen than the day, the rain has fallen"
   ]
  },
  {
   "cell_type": "code",
   "execution_count": 85,
   "metadata": {},
   "outputs": [
    {
     "data": {
      "text/plain": [
       "<matplotlib.axes._subplots.AxesSubplot at 0x22137238b70>"
      ]
     },
     "execution_count": 85,
     "metadata": {},
     "output_type": "execute_result"
    },
    {
     "data": {
      "image/png": "[encoded data removed]",
      "text/plain": [
       "<Figure size 432x288 with 1 Axes>"
      ]
     },
     "metadata": {
      "needs_background": "light"
     },
     "output_type": "display_data"
    }
   ],
   "source": [
    "weather.boxplot(column ='Rainfall',by = 'RainTomorrow')"
   ]
  },
  {
   "cell_type": "markdown",
   "metadata": {},
   "source": [
    "The outliers are more in the data"
   ]
  },
  {
   "cell_type": "code",
   "execution_count": 86,
   "metadata": {},
   "outputs": [
    {
     "data": {
      "text/plain": [
       "<matplotlib.axes._subplots.AxesSubplot at 0x2212bb14d68>"
      ]
     },
     "execution_count": 86,
     "metadata": {},
     "output_type": "execute_result"
    },
    {
     "data": {
      "image/png": "[encoded data removed]",
      "text/plain": [
       "<Figure size 432x288 with 1 Axes>"
      ]
     },
     "metadata": {
      "needs_background": "light"
     },
     "output_type": "display_data"
    }
   ],
   "source": [
    "weather.boxplot(column ='Evaporation',by = 'RainTomorrow')"
   ]
  },
  {
   "cell_type": "markdown",
   "metadata": {},
   "source": [
    "The outliers are more in the data"
   ]
  },
  {
   "cell_type": "code",
   "execution_count": 87,
   "metadata": {},
   "outputs": [
    {
     "data": {
      "text/plain": [
       "<matplotlib.axes._subplots.AxesSubplot at 0x2212bb83f60>"
      ]
     },
     "execution_count": 87,
     "metadata": {},
     "output_type": "execute_result"
    },
    {
     "data": {
      "image/png": "[encoded data removed]",
      "text/plain": [
       "<Figure size 432x288 with 1 Axes>"
      ]
     },
     "metadata": {
      "needs_background": "light"
     },
     "output_type": "display_data"
    }
   ],
   "source": [
    "weather.boxplot(column ='Sunshine',by = 'RainTomorrow')"
   ]
  },
  {
   "cell_type": "markdown",
   "metadata": {},
   "source": [
    "The average\"Sunshine\"  is more on the day, the rain has not fallen than the day, rain has fallen"
   ]
  },
  {
   "cell_type": "code",
   "execution_count": 88,
   "metadata": {},
   "outputs": [
    {
     "data": {
      "text/plain": [
       "<matplotlib.axes._subplots.AxesSubplot at 0x2212bcebba8>"
      ]
     },
     "execution_count": 88,
     "metadata": {},
     "output_type": "execute_result"
    },
    {
     "data": {
      "image/png": "[encoded data removed]",
      "text/plain": [
       "<Figure size 432x288 with 1 Axes>"
      ]
     },
     "metadata": {
      "needs_background": "light"
     },
     "output_type": "display_data"
    }
   ],
   "source": [
    "weather.boxplot(column ='WindGustSpeed',by = 'RainTomorrow')"
   ]
  },
  {
   "cell_type": "markdown",
   "metadata": {},
   "source": [
    "The average \"WindGustSpeed\" is more on the day, the rain has fallen than the day, rain has not fallen"
   ]
  },
  {
   "cell_type": "code",
   "execution_count": 89,
   "metadata": {},
   "outputs": [
    {
     "data": {
      "text/plain": [
       "<matplotlib.axes._subplots.AxesSubplot at 0x2212bc0e828>"
      ]
     },
     "execution_count": 89,
     "metadata": {},
     "output_type": "execute_result"
    },
    {
     "data": {
      "image/png": "[encoded data removed]",
      "text/plain": [
       "<Figure size 432x288 with 1 Axes>"
      ]
     },
     "metadata": {
      "needs_background": "light"
     },
     "output_type": "display_data"
    }
   ],
   "source": [
    "weather.boxplot(column ='WindSpeed9am',by = 'RainTomorrow')"
   ]
  },
  {
   "cell_type": "markdown",
   "metadata": {},
   "source": [
    "The average \"WindSpeed9am\" is same on both the day, the rain has fallen and the day, the rain has not fallen"
   ]
  },
  {
   "cell_type": "code",
   "execution_count": 90,
   "metadata": {},
   "outputs": [
    {
     "data": {
      "text/plain": [
       "<matplotlib.axes._subplots.AxesSubplot at 0x2212bc73240>"
      ]
     },
     "execution_count": 90,
     "metadata": {},
     "output_type": "execute_result"
    },
    {
     "data": {
      "image/png": "[encoded data removed]",
      "text/plain": [
       "<Figure size 432x288 with 1 Axes>"
      ]
     },
     "metadata": {
      "needs_background": "light"
     },
     "output_type": "display_data"
    }
   ],
   "source": [
    "weather.boxplot(column ='WindSpeed3pm',by = 'RainTomorrow')"
   ]
  },
  {
   "cell_type": "markdown",
   "metadata": {},
   "source": [
    "The average \"WindSpeed3pm\" is more on the day, the rain has fallen than the day, the rain has not fallen"
   ]
  },
  {
   "cell_type": "code",
   "execution_count": 91,
   "metadata": {},
   "outputs": [
    {
     "data": {
      "text/plain": [
       "<matplotlib.axes._subplots.AxesSubplot at 0x2212be699e8>"
      ]
     },
     "execution_count": 91,
     "metadata": {},
     "output_type": "execute_result"
    },
    {
     "data": {
      "image/png": "[encoded data removed]",
      "text/plain": [
       "<Figure size 432x288 with 1 Axes>"
      ]
     },
     "metadata": {
      "needs_background": "light"
     },
     "output_type": "display_data"
    }
   ],
   "source": [
    "weather.boxplot(column ='Humidity9am',by = 'RainTomorrow')"
   ]
  },
  {
   "cell_type": "markdown",
   "metadata": {},
   "source": [
    "The average \"Humidity9am\" is more on the day, the rain has fallen than the day, the rain has not fallen"
   ]
  },
  {
   "cell_type": "code",
   "execution_count": 92,
   "metadata": {},
   "outputs": [
    {
     "data": {
      "text/plain": [
       "<matplotlib.axes._subplots.AxesSubplot at 0x2212bd6ed30>"
      ]
     },
     "execution_count": 92,
     "metadata": {},
     "output_type": "execute_result"
    },
    {
     "data": {
      "image/png": "[encoded data removed]",
      "text/plain": [
       "<Figure size 432x288 with 1 Axes>"
      ]
     },
     "metadata": {
      "needs_background": "light"
     },
     "output_type": "display_data"
    }
   ],
   "source": [
    "weather.boxplot(column ='Humidity3pm',by = 'RainTomorrow')"
   ]
  },
  {
   "cell_type": "markdown",
   "metadata": {},
   "source": [
    "The average \"Humidity3pm\" is more on the day, the rain has fallen than the day, the rain has not fallen"
   ]
  },
  {
   "cell_type": "code",
   "execution_count": 93,
   "metadata": {},
   "outputs": [
    {
     "data": {
      "text/plain": [
       "<matplotlib.axes._subplots.AxesSubplot at 0x2212bdd3a20>"
      ]
     },
     "execution_count": 93,
     "metadata": {},
     "output_type": "execute_result"
    },
    {
     "data": {
      "image/png": "[encoded data removed]",
      "text/plain": [
       "<Figure size 432x288 with 1 Axes>"
      ]
     },
     "metadata": {
      "needs_background": "light"
     },
     "output_type": "display_data"
    }
   ],
   "source": [
    "weather.boxplot(column ='Pressure9am',by = 'RainTomorrow')"
   ]
  },
  {
   "cell_type": "markdown",
   "metadata": {},
   "source": [
    "The average \"Pressure9am\" is slightly more on the day, the rain has not fallen than the day, the rain has fallen"
   ]
  },
  {
   "cell_type": "code",
   "execution_count": 94,
   "metadata": {},
   "outputs": [
    {
     "data": {
      "text/plain": [
       "<matplotlib.axes._subplots.AxesSubplot at 0x2212bfca3c8>"
      ]
     },
     "execution_count": 94,
     "metadata": {},
     "output_type": "execute_result"
    },
    {
     "data": {
      "image/png": "[encoded data removed]",
      "text/plain": [
       "<Figure size 432x288 with 1 Axes>"
      ]
     },
     "metadata": {
      "needs_background": "light"
     },
     "output_type": "display_data"
    }
   ],
   "source": [
    "weather.boxplot(column ='Pressure3pm',by = 'RainTomorrow')"
   ]
  },
  {
   "cell_type": "markdown",
   "metadata": {},
   "source": [
    "The average \"Pressure3pm\" is slightly more on the day, the rain has not fallen than the day, the rain has fallen"
   ]
  },
  {
   "cell_type": "code",
   "execution_count": 95,
   "metadata": {},
   "outputs": [
    {
     "data": {
      "text/plain": [
       "<matplotlib.axes._subplots.AxesSubplot at 0x2212bed0d68>"
      ]
     },
     "execution_count": 95,
     "metadata": {},
     "output_type": "execute_result"
    },
    {
     "data": {
      "image/png": "[encoded data removed]",
      "text/plain": [
       "<Figure size 432x288 with 1 Axes>"
      ]
     },
     "metadata": {
      "needs_background": "light"
     },
     "output_type": "display_data"
    }
   ],
   "source": [
    "weather.boxplot(column ='Cloud9am',by = 'RainTomorrow')"
   ]
  },
  {
   "cell_type": "markdown",
   "metadata": {},
   "source": [
    "* The average \"Cloud9am\" is same on both the day, the rain has fallen and the day, the rain has not fallen\n",
    "\n",
    "* But the minimum \"Cloud9am\" is very low  on the day, the rain has not fallen where as the minimum \"cloud9am\" is very high\n",
    "\n",
    "  on  the day the rain, the rain has fallen"
   ]
  },
  {
   "cell_type": "code",
   "execution_count": 96,
   "metadata": {},
   "outputs": [
    {
     "data": {
      "text/plain": [
       "<matplotlib.axes._subplots.AxesSubplot at 0x2212bf346d8>"
      ]
     },
     "execution_count": 96,
     "metadata": {},
     "output_type": "execute_result"
    },
    {
     "data": {
      "image/png": "[encoded data removed]",
      "text/plain": [
       "<Figure size 432x288 with 1 Axes>"
      ]
     },
     "metadata": {
      "needs_background": "light"
     },
     "output_type": "display_data"
    }
   ],
   "source": [
    "weather.boxplot(column ='Cloud3pm',by = 'RainTomorrow')"
   ]
  },
  {
   "cell_type": "markdown",
   "metadata": {},
   "source": [
    "* The average \"Cloud3pm\" is same on both the day, the rain has fallen and the day, the rain has not fallen\n",
    "\n",
    "* But the minimum \"Cloud3pm\" is very low on the day, the rain has not fallen where as the minimum \"cloud3pm\" is very high on\n",
    "\n",
    "  the day the rain, the rain has fallen"
   ]
  },
  {
   "cell_type": "code",
   "execution_count": 97,
   "metadata": {},
   "outputs": [
    {
     "data": {
      "text/plain": [
       "<matplotlib.axes._subplots.AxesSubplot at 0x2212c132208>"
      ]
     },
     "execution_count": 97,
     "metadata": {},
     "output_type": "execute_result"
    },
    {
     "data": {
      "image/png": "[encoded data removed]",
      "text/plain": [
       "<Figure size 432x288 with 1 Axes>"
      ]
     },
     "metadata": {
      "needs_background": "light"
     },
     "output_type": "display_data"
    }
   ],
   "source": [
    "weather.boxplot(column ='Temp9am',by = 'RainTomorrow')"
   ]
  },
  {
   "cell_type": "markdown",
   "metadata": {},
   "source": [
    "The average \"Temp9am\" is same on both the day, the rain has fallen and the day, the rain has not fallen"
   ]
  },
  {
   "cell_type": "code",
   "execution_count": 98,
   "metadata": {},
   "outputs": [
    {
     "data": {
      "text/plain": [
       "<matplotlib.axes._subplots.AxesSubplot at 0x2212c0452b0>"
      ]
     },
     "execution_count": 98,
     "metadata": {},
     "output_type": "execute_result"
    },
    {
     "data": {
      "image/png": "[encoded data removed]",
      "text/plain": [
       "<Figure size 432x288 with 1 Axes>"
      ]
     },
     "metadata": {
      "needs_background": "light"
     },
     "output_type": "display_data"
    }
   ],
   "source": [
    "weather.boxplot(column ='Temp3pm',by = 'RainTomorrow')"
   ]
  },
  {
   "cell_type": "markdown",
   "metadata": {},
   "source": [
    "The average \"Temp3pm\" is slightly more on the day, the rain has not fallen than the day, the rain has fallen"
   ]
  },
  {
   "cell_type": "code",
   "execution_count": 99,
   "metadata": {},
   "outputs": [
    {
     "data": {
      "text/plain": [
       "0         0\n",
       "1         0\n",
       "2         0\n",
       "3         0\n",
       "4         0\n",
       "5         0\n",
       "6         0\n",
       "7         0\n",
       "8         0\n",
       "9         1\n",
       "10        0\n",
       "11        1\n",
       "12        1\n",
       "13        1\n",
       "14        0\n",
       "15        0\n",
       "16        1\n",
       "17        1\n",
       "18        0\n",
       "19        0\n",
       "20        0\n",
       "21        0\n",
       "22        0\n",
       "23        0\n",
       "24        0\n",
       "25        0\n",
       "26        0\n",
       "27        0\n",
       "28        1\n",
       "29        0\n",
       "         ..\n",
       "142163    0\n",
       "142164    0\n",
       "142165    0\n",
       "142166    0\n",
       "142167    0\n",
       "142168    0\n",
       "142169    0\n",
       "142170    0\n",
       "142171    0\n",
       "142172    0\n",
       "142173    0\n",
       "142174    0\n",
       "142175    0\n",
       "142176    0\n",
       "142177    0\n",
       "142178    0\n",
       "142179    0\n",
       "142180    0\n",
       "142181    0\n",
       "142182    0\n",
       "142183    0\n",
       "142184    0\n",
       "142185    0\n",
       "142186    0\n",
       "142187    0\n",
       "142188    0\n",
       "142189    0\n",
       "142190    0\n",
       "142191    0\n",
       "142192    0\n",
       "Name: RainToday, Length: 142193, dtype: int64"
      ]
     },
     "execution_count": 99,
     "metadata": {},
     "output_type": "execute_result"
    }
   ],
   "source": [
    "weather['RainToday']"
   ]
  },
  {
   "cell_type": "code",
   "execution_count": 100,
   "metadata": {},
   "outputs": [
    {
     "data": {
      "text/plain": [
       "<matplotlib.axes._subplots.AxesSubplot at 0x2212c0b6208>"
      ]
     },
     "execution_count": 100,
     "metadata": {},
     "output_type": "execute_result"
    },
    {
     "data": {
      "image/png": "[encoded data removed]",
      "text/plain": [
       "<Figure size 432x288 with 1 Axes>"
      ]
     },
     "metadata": {
      "needs_background": "light"
     },
     "output_type": "display_data"
    }
   ],
   "source": [
    "weather.boxplot(column ='RISK_MM',by = 'RainTomorrow')"
   ]
  },
  {
   "cell_type": "code",
   "execution_count": 101,
   "metadata": {},
   "outputs": [
    {
     "data": {
      "text/plain": [
       "<matplotlib.collections.PathCollection at 0x2212c1da8d0>"
      ]
     },
     "execution_count": 101,
     "metadata": {},
     "output_type": "execute_result"
    },
    {
     "data": {
      "image/png": "[encoded data removed]",
      "text/plain": [
       "<Figure size 432x288 with 1 Axes>"
      ]
     },
     "metadata": {
      "needs_background": "light"
     },
     "output_type": "display_data"
    }
   ],
   "source": [
    "plt.scatter(weather['RainToday'],weather['RainTomorrow'])"
   ]
  },
  {
   "cell_type": "code",
   "execution_count": 102,
   "metadata": {},
   "outputs": [],
   "source": [
    "import seaborn as sns"
   ]
  },
  {
   "cell_type": "code",
   "execution_count": 103,
   "metadata": {},
   "outputs": [
    {
     "data": {
      "text/plain": [
       "<matplotlib.axes._subplots.AxesSubplot at 0x2212c214198>"
      ]
     },
     "execution_count": 103,
     "metadata": {},
     "output_type": "execute_result"
    },
    {
     "data": {
      "image/png": "[encoded data removed]",
      "text/plain": [
       "<Figure size 432x288 with 1 Axes>"
      ]
     },
     "metadata": {
      "needs_background": "light"
     },
     "output_type": "display_data"
    }
   ],
   "source": [
    "sns.distplot(weather['MaxTemp'])"
   ]
  },
  {
   "cell_type": "markdown",
   "metadata": {},
   "source": [
    "* \"MaxTemp\" is normalized"
   ]
  },
  {
   "cell_type": "code",
   "execution_count": 104,
   "metadata": {},
   "outputs": [
    {
     "data": {
      "text/plain": [
       "<matplotlib.axes._subplots.AxesSubplot at 0x2212c350b00>"
      ]
     },
     "execution_count": 104,
     "metadata": {},
     "output_type": "execute_result"
    },
    {
     "data": {
      "image/png": "[encoded data removed]",
      "text/plain": [
       "<Figure size 432x288 with 1 Axes>"
      ]
     },
     "metadata": {
      "needs_background": "light"
     },
     "output_type": "display_data"
    }
   ],
   "source": [
    "sns.distplot(weather['Sunshine'])"
   ]
  },
  {
   "cell_type": "markdown",
   "metadata": {},
   "source": [
    "* \"Sunshine\" is not normalized"
   ]
  },
  {
   "cell_type": "code",
   "execution_count": 105,
   "metadata": {},
   "outputs": [
    {
     "data": {
      "text/plain": [
       "<matplotlib.axes._subplots.AxesSubplot at 0x2212c332d68>"
      ]
     },
     "execution_count": 105,
     "metadata": {},
     "output_type": "execute_result"
    },
    {
     "data": {
      "image/png": "[encoded data removed]",
      "text/plain": [
       "<Figure size 432x288 with 1 Axes>"
      ]
     },
     "metadata": {
      "needs_background": "light"
     },
     "output_type": "display_data"
    }
   ],
   "source": [
    "sns.distplot(weather['WindGustSpeed'])"
   ]
  },
  {
   "cell_type": "markdown",
   "metadata": {},
   "source": [
    "* \"WindGustSpeed\" is not normalized"
   ]
  },
  {
   "cell_type": "code",
   "execution_count": 106,
   "metadata": {},
   "outputs": [
    {
     "data": {
      "text/plain": [
       "<matplotlib.axes._subplots.AxesSubplot at 0x2212e5eeb00>"
      ]
     },
     "execution_count": 106,
     "metadata": {},
     "output_type": "execute_result"
    },
    {
     "data": {
      "image/png": "[encoded data removed]",
      "text/plain": [
       "<Figure size 432x288 with 1 Axes>"
      ]
     },
     "metadata": {
      "needs_background": "light"
     },
     "output_type": "display_data"
    }
   ],
   "source": [
    "sns.distplot(weather['WindSpeed9am'])"
   ]
  },
  {
   "cell_type": "code",
   "execution_count": 107,
   "metadata": {},
   "outputs": [
    {
     "data": {
      "text/plain": [
       "<matplotlib.axes._subplots.AxesSubplot at 0x2212e54ff28>"
      ]
     },
     "execution_count": 107,
     "metadata": {},
     "output_type": "execute_result"
    },
    {
     "data": {
      "image/png": "[encoded data removed]",
      "text/plain": [
       "<Figure size 432x288 with 1 Axes>"
      ]
     },
     "metadata": {
      "needs_background": "light"
     },
     "output_type": "display_data"
    }
   ],
   "source": [
    "sns.distplot(weather['WindSpeed3pm'])"
   ]
  },
  {
   "cell_type": "markdown",
   "metadata": {},
   "source": [
    "* \"WindSpeed3pm\" is not normalized"
   ]
  },
  {
   "cell_type": "code",
   "execution_count": 108,
   "metadata": {},
   "outputs": [
    {
     "data": {
      "text/plain": [
       "<matplotlib.axes._subplots.AxesSubplot at 0x2212e68c278>"
      ]
     },
     "execution_count": 108,
     "metadata": {},
     "output_type": "execute_result"
    },
    {
     "data": {
      "image/png": "[encoded data removed]",
      "text/plain": [
       "<Figure size 432x288 with 1 Axes>"
      ]
     },
     "metadata": {
      "needs_background": "light"
     },
     "output_type": "display_data"
    }
   ],
   "source": [
    "sns.distplot(weather['Humidity9am'])"
   ]
  },
  {
   "cell_type": "markdown",
   "metadata": {},
   "source": [
    "* \"Humidity9am\" is not normalized"
   ]
  },
  {
   "cell_type": "code",
   "execution_count": 109,
   "metadata": {},
   "outputs": [
    {
     "data": {
      "text/plain": [
       "<matplotlib.axes._subplots.AxesSubplot at 0x2212e740eb8>"
      ]
     },
     "execution_count": 109,
     "metadata": {},
     "output_type": "execute_result"
    },
    {
     "data": {
      "image/png": "[encoded data removed]",
      "text/plain": [
       "<Figure size 432x288 with 1 Axes>"
      ]
     },
     "metadata": {
      "needs_background": "light"
     },
     "output_type": "display_data"
    }
   ],
   "source": [
    "sns.distplot(weather['Humidity3pm'])"
   ]
  },
  {
   "cell_type": "markdown",
   "metadata": {},
   "source": [
    "* \"Humidity3pm\" is normalized"
   ]
  },
  {
   "cell_type": "code",
   "execution_count": 110,
   "metadata": {},
   "outputs": [
    {
     "data": {
      "text/plain": [
       "<matplotlib.axes._subplots.AxesSubplot at 0x2212e789780>"
      ]
     },
     "execution_count": 110,
     "metadata": {},
     "output_type": "execute_result"
    },
    {
     "data": {
      "image/png": "[encoded data removed]",
      "text/plain": [
       "<Figure size 432x288 with 1 Axes>"
      ]
     },
     "metadata": {
      "needs_background": "light"
     },
     "output_type": "display_data"
    }
   ],
   "source": [
    "sns.distplot(weather['Pressure9am'])"
   ]
  },
  {
   "cell_type": "markdown",
   "metadata": {},
   "source": [
    "* \"Pressure9am\" is not normalized"
   ]
  },
  {
   "cell_type": "code",
   "execution_count": 111,
   "metadata": {},
   "outputs": [
    {
     "data": {
      "text/plain": [
       "<matplotlib.axes._subplots.AxesSubplot at 0x2212ec71390>"
      ]
     },
     "execution_count": 111,
     "metadata": {},
     "output_type": "execute_result"
    },
    {
     "data": {
      "image/png": "[encoded data removed]",
      "text/plain": [
       "<Figure size 432x288 with 1 Axes>"
      ]
     },
     "metadata": {
      "needs_background": "light"
     },
     "output_type": "display_data"
    }
   ],
   "source": [
    "sns.distplot(weather['Pressure3pm'])"
   ]
  },
  {
   "cell_type": "markdown",
   "metadata": {},
   "source": [
    "* \"Pressure3pm\" is normalized"
   ]
  },
  {
   "cell_type": "code",
   "execution_count": 112,
   "metadata": {},
   "outputs": [
    {
     "data": {
      "text/plain": [
       "<matplotlib.axes._subplots.AxesSubplot at 0x2212e740cc0>"
      ]
     },
     "execution_count": 112,
     "metadata": {},
     "output_type": "execute_result"
    },
    {
     "data": {
      "image/png": "[encoded data removed]",
      "text/plain": [
       "<Figure size 432x288 with 1 Axes>"
      ]
     },
     "metadata": {
      "needs_background": "light"
     },
     "output_type": "display_data"
    }
   ],
   "source": [
    "sns.distplot(weather['Cloud9am'])"
   ]
  },
  {
   "cell_type": "markdown",
   "metadata": {},
   "source": [
    "* \"Cloud9am\" is not normalized"
   ]
  },
  {
   "cell_type": "code",
   "execution_count": 113,
   "metadata": {
    "scrolled": true
   },
   "outputs": [
    {
     "data": {
      "text/plain": [
       "<matplotlib.axes._subplots.AxesSubplot at 0x221319a2ac8>"
      ]
     },
     "execution_count": 113,
     "metadata": {},
     "output_type": "execute_result"
    },
    {
     "data": {
      "image/png": "[encoded data removed]",
      "text/plain": [
       "<Figure size 432x288 with 1 Axes>"
      ]
     },
     "metadata": {
      "needs_background": "light"
     },
     "output_type": "display_data"
    }
   ],
   "source": [
    "sns.distplot(weather['Cloud3pm'])"
   ]
  },
  {
   "cell_type": "markdown",
   "metadata": {},
   "source": [
    "* \"Cloud3pm\" is not normalized"
   ]
  },
  {
   "cell_type": "code",
   "execution_count": 114,
   "metadata": {},
   "outputs": [
    {
     "data": {
      "text/plain": [
       "<matplotlib.axes._subplots.AxesSubplot at 0x22131b4d278>"
      ]
     },
     "execution_count": 114,
     "metadata": {},
     "output_type": "execute_result"
    },
    {
     "data": {
      "image/png": "[encoded data removed]",
      "text/plain": [
       "<Figure size 432x288 with 1 Axes>"
      ]
     },
     "metadata": {
      "needs_background": "light"
     },
     "output_type": "display_data"
    }
   ],
   "source": [
    "sns.distplot(weather['Temp3pm'])"
   ]
  },
  {
   "cell_type": "markdown",
   "metadata": {},
   "source": [
    "* \"Temp3pm\" is not normalized"
   ]
  },
  {
   "cell_type": "markdown",
   "metadata": {},
   "source": [
    "# Normalizing the data"
   ]
  },
  {
   "cell_type": "code",
   "execution_count": 115,
   "metadata": {},
   "outputs": [],
   "source": [
    "from  sklearn.preprocessing import MinMaxScaler\n",
    "minmax = MinMaxScaler(feature_range = (0,1))"
   ]
  },
  {
   "cell_type": "code",
   "execution_count": 116,
   "metadata": {},
   "outputs": [],
   "source": [
    "weather.iloc[:,[2,3,4,5,6,8,11,12,13,14,15,16,17,18,19,20,22]] = minmax.fit(weather.iloc[:,[2,3,4,5,6,8,11,12,13,14,15,16,17,18,19,20,22]]).transform(weather.iloc[:,[2,3,4,5,6,8,11,12,13,14,15,16,17,18,19,20,22]])"
   ]
  },
  {
   "cell_type": "code",
   "execution_count": 117,
   "metadata": {},
   "outputs": [
    {
     "ename": "TypeError",
     "evalue": "Cannot compare types 'ndarray(dtype=int64)' and 'str'",
     "output_type": "error",
     "traceback": [
      "\u001b[1;31m---------------------------------------------------------------------------\u001b[0m",
      "\u001b[1;31mTypeError\u001b[0m                                 Traceback (most recent call last)",
      "\u001b[1;32m<ipython-input-117-7c1e228b8c7c>\u001b[0m in \u001b[0;36m<module>\u001b[1;34m\u001b[0m\n\u001b[1;32m----> 1\u001b[1;33m \u001b[0mweather\u001b[0m\u001b[1;33m[\u001b[0m\u001b[1;34m'WindDir9am'\u001b[0m\u001b[1;33m]\u001b[0m\u001b[1;33m.\u001b[0m\u001b[0mreplace\u001b[0m\u001b[1;33m(\u001b[0m\u001b[1;33m[\u001b[0m\u001b[1;34m'N'\u001b[0m\u001b[1;33m,\u001b[0m\u001b[1;34m'E'\u001b[0m\u001b[1;33m,\u001b[0m\u001b[1;34m'W'\u001b[0m\u001b[1;33m,\u001b[0m\u001b[1;34m'S'\u001b[0m\u001b[1;33m,\u001b[0m\u001b[1;34m'NE'\u001b[0m\u001b[1;33m,\u001b[0m\u001b[1;34m'NW'\u001b[0m\u001b[1;33m,\u001b[0m\u001b[1;34m'SE'\u001b[0m\u001b[1;33m,\u001b[0m\u001b[1;34m'SW'\u001b[0m\u001b[1;33m,\u001b[0m\u001b[1;34m'NNE'\u001b[0m\u001b[1;33m,\u001b[0m\u001b[1;34m'NNW'\u001b[0m\u001b[1;33m,\u001b[0m\u001b[1;34m'SSE'\u001b[0m\u001b[1;33m,\u001b[0m\u001b[1;34m'SSW'\u001b[0m\u001b[1;33m,\u001b[0m\u001b[1;34m'ENE'\u001b[0m\u001b[1;33m,\u001b[0m\u001b[1;34m'ESE'\u001b[0m\u001b[1;33m,\u001b[0m\u001b[1;34m'WNW'\u001b[0m\u001b[1;33m,\u001b[0m\u001b[1;34m'WSW'\u001b[0m\u001b[1;33m]\u001b[0m\u001b[1;33m,\u001b[0m\u001b[1;33m[\u001b[0m\u001b[1;36m1\u001b[0m\u001b[1;33m,\u001b[0m\u001b[1;36m2\u001b[0m\u001b[1;33m,\u001b[0m\u001b[1;36m3\u001b[0m\u001b[1;33m,\u001b[0m\u001b[1;36m4\u001b[0m\u001b[1;33m,\u001b[0m\u001b[1;36m5\u001b[0m\u001b[1;33m,\u001b[0m\u001b[1;36m6\u001b[0m\u001b[1;33m,\u001b[0m\u001b[1;36m7\u001b[0m\u001b[1;33m,\u001b[0m\u001b[1;36m8\u001b[0m\u001b[1;33m,\u001b[0m\u001b[1;36m9\u001b[0m\u001b[1;33m,\u001b[0m\u001b[1;36m10\u001b[0m\u001b[1;33m,\u001b[0m\u001b[1;36m11\u001b[0m\u001b[1;33m,\u001b[0m\u001b[1;36m12\u001b[0m\u001b[1;33m,\u001b[0m\u001b[1;36m13\u001b[0m\u001b[1;33m,\u001b[0m\u001b[1;36m14\u001b[0m\u001b[1;33m,\u001b[0m\u001b[1;36m15\u001b[0m\u001b[1;33m,\u001b[0m\u001b[1;36m16\u001b[0m\u001b[1;33m]\u001b[0m\u001b[1;33m,\u001b[0m\u001b[0minplace\u001b[0m \u001b[1;33m=\u001b[0m \u001b[1;32mTrue\u001b[0m\u001b[1;33m)\u001b[0m\u001b[1;33m\u001b[0m\u001b[1;33m\u001b[0m\u001b[0m\n\u001b[0m",
      "\u001b[1;32m~\\Anaconda3\\lib\\site-packages\\pandas\\core\\series.py\u001b[0m in \u001b[0;36mreplace\u001b[1;34m(self, to_replace, value, inplace, limit, regex, method)\u001b[0m\n\u001b[0;32m   3843\u001b[0m         return super(Series, self).replace(to_replace=to_replace, value=value,\n\u001b[0;32m   3844\u001b[0m                                            \u001b[0minplace\u001b[0m\u001b[1;33m=\u001b[0m\u001b[0minplace\u001b[0m\u001b[1;33m,\u001b[0m \u001b[0mlimit\u001b[0m\u001b[1;33m=\u001b[0m\u001b[0mlimit\u001b[0m\u001b[1;33m,\u001b[0m\u001b[1;33m\u001b[0m\u001b[1;33m\u001b[0m\u001b[0m\n\u001b[1;32m-> 3845\u001b[1;33m                                            regex=regex, method=method)\n\u001b[0m\u001b[0;32m   3846\u001b[0m \u001b[1;33m\u001b[0m\u001b[0m\n\u001b[0;32m   3847\u001b[0m     \u001b[1;33m@\u001b[0m\u001b[0mAppender\u001b[0m\u001b[1;33m(\u001b[0m\u001b[0mgeneric\u001b[0m\u001b[1;33m.\u001b[0m\u001b[0m_shared_docs\u001b[0m\u001b[1;33m[\u001b[0m\u001b[1;34m'shift'\u001b[0m\u001b[1;33m]\u001b[0m \u001b[1;33m%\u001b[0m \u001b[0m_shared_doc_kwargs\u001b[0m\u001b[1;33m)\u001b[0m\u001b[1;33m\u001b[0m\u001b[1;33m\u001b[0m\u001b[0m\n",
      "\u001b[1;32m~\\Anaconda3\\lib\\site-packages\\pandas\\core\\generic.py\u001b[0m in \u001b[0;36mreplace\u001b[1;34m(self, to_replace, value, inplace, limit, regex, method)\u001b[0m\n\u001b[0;32m   6545\u001b[0m                                                        \u001b[0mdest_list\u001b[0m\u001b[1;33m=\u001b[0m\u001b[0mvalue\u001b[0m\u001b[1;33m,\u001b[0m\u001b[1;33m\u001b[0m\u001b[1;33m\u001b[0m\u001b[0m\n\u001b[0;32m   6546\u001b[0m                                                        \u001b[0minplace\u001b[0m\u001b[1;33m=\u001b[0m\u001b[0minplace\u001b[0m\u001b[1;33m,\u001b[0m\u001b[1;33m\u001b[0m\u001b[1;33m\u001b[0m\u001b[0m\n\u001b[1;32m-> 6547\u001b[1;33m                                                        regex=regex)\n\u001b[0m\u001b[0;32m   6548\u001b[0m \u001b[1;33m\u001b[0m\u001b[0m\n\u001b[0;32m   6549\u001b[0m                 \u001b[1;32melse\u001b[0m\u001b[1;33m:\u001b[0m  \u001b[1;31m# [NA, ''] -> 0\u001b[0m\u001b[1;33m\u001b[0m\u001b[1;33m\u001b[0m\u001b[0m\n",
      "\u001b[1;32m~\\Anaconda3\\lib\\site-packages\\pandas\\core\\internals\\managers.py\u001b[0m in \u001b[0;36mreplace_list\u001b[1;34m(self, src_list, dest_list, inplace, regex)\u001b[0m\n\u001b[0;32m    557\u001b[0m             \u001b[1;32mreturn\u001b[0m \u001b[0m_compare_or_regex_search\u001b[0m\u001b[1;33m(\u001b[0m\u001b[0mvalues\u001b[0m\u001b[1;33m,\u001b[0m \u001b[0ms\u001b[0m\u001b[1;33m,\u001b[0m \u001b[0mregex\u001b[0m\u001b[1;33m)\u001b[0m\u001b[1;33m\u001b[0m\u001b[1;33m\u001b[0m\u001b[0m\n\u001b[0;32m    558\u001b[0m \u001b[1;33m\u001b[0m\u001b[0m\n\u001b[1;32m--> 559\u001b[1;33m         \u001b[0mmasks\u001b[0m \u001b[1;33m=\u001b[0m \u001b[1;33m[\u001b[0m\u001b[0mcomp\u001b[0m\u001b[1;33m(\u001b[0m\u001b[0ms\u001b[0m\u001b[1;33m,\u001b[0m \u001b[0mregex\u001b[0m\u001b[1;33m)\u001b[0m \u001b[1;32mfor\u001b[0m \u001b[0mi\u001b[0m\u001b[1;33m,\u001b[0m \u001b[0ms\u001b[0m \u001b[1;32min\u001b[0m \u001b[0menumerate\u001b[0m\u001b[1;33m(\u001b[0m\u001b[0msrc_list\u001b[0m\u001b[1;33m)\u001b[0m\u001b[1;33m]\u001b[0m\u001b[1;33m\u001b[0m\u001b[1;33m\u001b[0m\u001b[0m\n\u001b[0m\u001b[0;32m    560\u001b[0m \u001b[1;33m\u001b[0m\u001b[0m\n\u001b[0;32m    561\u001b[0m         \u001b[0mresult_blocks\u001b[0m \u001b[1;33m=\u001b[0m \u001b[1;33m[\u001b[0m\u001b[1;33m]\u001b[0m\u001b[1;33m\u001b[0m\u001b[1;33m\u001b[0m\u001b[0m\n",
      "\u001b[1;32m~\\Anaconda3\\lib\\site-packages\\pandas\\core\\internals\\managers.py\u001b[0m in \u001b[0;36m<listcomp>\u001b[1;34m(.0)\u001b[0m\n\u001b[0;32m    557\u001b[0m             \u001b[1;32mreturn\u001b[0m \u001b[0m_compare_or_regex_search\u001b[0m\u001b[1;33m(\u001b[0m\u001b[0mvalues\u001b[0m\u001b[1;33m,\u001b[0m \u001b[0ms\u001b[0m\u001b[1;33m,\u001b[0m \u001b[0mregex\u001b[0m\u001b[1;33m)\u001b[0m\u001b[1;33m\u001b[0m\u001b[1;33m\u001b[0m\u001b[0m\n\u001b[0;32m    558\u001b[0m \u001b[1;33m\u001b[0m\u001b[0m\n\u001b[1;32m--> 559\u001b[1;33m         \u001b[0mmasks\u001b[0m \u001b[1;33m=\u001b[0m \u001b[1;33m[\u001b[0m\u001b[0mcomp\u001b[0m\u001b[1;33m(\u001b[0m\u001b[0ms\u001b[0m\u001b[1;33m,\u001b[0m \u001b[0mregex\u001b[0m\u001b[1;33m)\u001b[0m \u001b[1;32mfor\u001b[0m \u001b[0mi\u001b[0m\u001b[1;33m,\u001b[0m \u001b[0ms\u001b[0m \u001b[1;32min\u001b[0m \u001b[0menumerate\u001b[0m\u001b[1;33m(\u001b[0m\u001b[0msrc_list\u001b[0m\u001b[1;33m)\u001b[0m\u001b[1;33m]\u001b[0m\u001b[1;33m\u001b[0m\u001b[1;33m\u001b[0m\u001b[0m\n\u001b[0m\u001b[0;32m    560\u001b[0m \u001b[1;33m\u001b[0m\u001b[0m\n\u001b[0;32m    561\u001b[0m         \u001b[0mresult_blocks\u001b[0m \u001b[1;33m=\u001b[0m \u001b[1;33m[\u001b[0m\u001b[1;33m]\u001b[0m\u001b[1;33m\u001b[0m\u001b[1;33m\u001b[0m\u001b[0m\n",
      "\u001b[1;32m~\\Anaconda3\\lib\\site-packages\\pandas\\core\\internals\\managers.py\u001b[0m in \u001b[0;36mcomp\u001b[1;34m(s, regex)\u001b[0m\n\u001b[0;32m    555\u001b[0m                 return _compare_or_regex_search(maybe_convert_objects(values),\n\u001b[0;32m    556\u001b[0m                                                 getattr(s, 'asm8'), regex)\n\u001b[1;32m--> 557\u001b[1;33m             \u001b[1;32mreturn\u001b[0m \u001b[0m_compare_or_regex_search\u001b[0m\u001b[1;33m(\u001b[0m\u001b[0mvalues\u001b[0m\u001b[1;33m,\u001b[0m \u001b[0ms\u001b[0m\u001b[1;33m,\u001b[0m \u001b[0mregex\u001b[0m\u001b[1;33m)\u001b[0m\u001b[1;33m\u001b[0m\u001b[1;33m\u001b[0m\u001b[0m\n\u001b[0m\u001b[0;32m    558\u001b[0m \u001b[1;33m\u001b[0m\u001b[0m\n\u001b[0;32m    559\u001b[0m         \u001b[0mmasks\u001b[0m \u001b[1;33m=\u001b[0m \u001b[1;33m[\u001b[0m\u001b[0mcomp\u001b[0m\u001b[1;33m(\u001b[0m\u001b[0ms\u001b[0m\u001b[1;33m,\u001b[0m \u001b[0mregex\u001b[0m\u001b[1;33m)\u001b[0m \u001b[1;32mfor\u001b[0m \u001b[0mi\u001b[0m\u001b[1;33m,\u001b[0m \u001b[0ms\u001b[0m \u001b[1;32min\u001b[0m \u001b[0menumerate\u001b[0m\u001b[1;33m(\u001b[0m\u001b[0msrc_list\u001b[0m\u001b[1;33m)\u001b[0m\u001b[1;33m]\u001b[0m\u001b[1;33m\u001b[0m\u001b[1;33m\u001b[0m\u001b[0m\n",
      "\u001b[1;32m~\\Anaconda3\\lib\\site-packages\\pandas\\core\\internals\\managers.py\u001b[0m in \u001b[0;36m_compare_or_regex_search\u001b[1;34m(a, b, regex)\u001b[0m\n\u001b[0;32m   1949\u001b[0m         raise TypeError(\n\u001b[0;32m   1950\u001b[0m             \"Cannot compare types {a!r} and {b!r}\".format(a=type_names[0],\n\u001b[1;32m-> 1951\u001b[1;33m                                                           b=type_names[1]))\n\u001b[0m\u001b[0;32m   1952\u001b[0m     \u001b[1;32mreturn\u001b[0m \u001b[0mresult\u001b[0m\u001b[1;33m\u001b[0m\u001b[1;33m\u001b[0m\u001b[0m\n\u001b[0;32m   1953\u001b[0m \u001b[1;33m\u001b[0m\u001b[0m\n",
      "\u001b[1;31mTypeError\u001b[0m: Cannot compare types 'ndarray(dtype=int64)' and 'str'"
     ]
    }
   ],
   "source": [
    "weather['WindDir9am'].replace(['N','E','W','S','NE','NW','SE','SW','NNE','NNW','SSE','SSW','ENE','ESE','WNW','WSW'],[1,2,3,4,5,6,7,8,9,10,11,12,13,14,15,16],inplace = True)"
   ]
  },
  {
   "cell_type": "code",
   "execution_count": null,
   "metadata": {},
   "outputs": [],
   "source": [
    "weather['WindDir3pm'].replace(['N','E','W','S','NE','NW','SE','SW','NNE','NNW','SSE','SSW','ENE','ESE','WNW','WSW'],[1,2,3,4,5,6,7,8,9,10,11,12,13,14,15,16],inplace = True)"
   ]
  },
  {
   "cell_type": "code",
   "execution_count": null,
   "metadata": {},
   "outputs": [],
   "source": [
    "weather['WindGustDir'].replace(['N','E','W','S','NE','NW','SE','SW','NNE','NNW','SSE','SSW','ENE','ESE','WNW','WSW'],[1,2,3,4,5,6,7,8,9,10,11,12,13,14,15,16],inplace = True)"
   ]
  },
  {
   "cell_type": "code",
   "execution_count": null,
   "metadata": {},
   "outputs": [],
   "source": [
    "weather['RainToday'].replace(['Yes','No'],[1,0],inplace = True)"
   ]
  },
  {
   "cell_type": "code",
   "execution_count": null,
   "metadata": {},
   "outputs": [],
   "source": [
    "weather['RainTomorrow'].replace(['Yes','No'],[1,0],inplace = True)"
   ]
  },
  {
   "cell_type": "code",
   "execution_count": null,
   "metadata": {},
   "outputs": [],
   "source": [
    "'''from sklearn import preprocessing \n",
    "  \n",
    "# label_encoder object knows how to understand word labels.\n",
    "label_encoder = preprocessing.LabelEncoder() \n",
    "  \n",
    "# Encode labels in column 'species'. \n",
    "weather['WindGustDir']= label_encoder.fit_transform(weather['WindGustDir']) \n",
    "  \n",
    "weather['WindGustDir'].unique() '''"
   ]
  },
  {
   "cell_type": "code",
   "execution_count": null,
   "metadata": {},
   "outputs": [],
   "source": [
    "weather['WindGustDir'].value_counts()"
   ]
  },
  {
   "cell_type": "code",
   "execution_count": null,
   "metadata": {},
   "outputs": [],
   "source": [
    "weather['WindDir9am'].value_counts()"
   ]
  },
  {
   "cell_type": "code",
   "execution_count": null,
   "metadata": {},
   "outputs": [],
   "source": [
    "weather['WindDir3pm'].value_counts()"
   ]
  },
  {
   "cell_type": "code",
   "execution_count": null,
   "metadata": {},
   "outputs": [],
   "source": [
    "corr = weather.corr()"
   ]
  },
  {
   "cell_type": "code",
   "execution_count": null,
   "metadata": {},
   "outputs": [],
   "source": [
    "sns.heatmap(corr,xticklabels = corr.columns,yticklabels = corr.columns)"
   ]
  },
  {
   "cell_type": "markdown",
   "metadata": {},
   "source": [
    "* MinTemp is inversely proportional to pressure 9am and 3pm "
   ]
  },
  {
   "cell_type": "markdown",
   "metadata": {},
   "source": [
    "* MinTemp is directly proportional to Evaporation"
   ]
  },
  {
   "cell_type": "markdown",
   "metadata": {},
   "source": [
    "* There is no correlation between MinTemp and RainTomorrow"
   ]
  },
  {
   "cell_type": "markdown",
   "metadata": {},
   "source": [
    "* Evaporation is inversely proprtional to RainTomorrow  xxxxx"
   ]
  },
  {
   "cell_type": "markdown",
   "metadata": {},
   "source": [
    "* MaxTemp is inversely proportional to pressure RainTomorrow"
   ]
  },
  {
   "cell_type": "markdown",
   "metadata": {},
   "source": [
    "* Rainfall is partially correlated to RainTomorrow"
   ]
  },
  {
   "cell_type": "markdown",
   "metadata": {},
   "source": [
    "* Sunshine is inversly proportional to RainTomorrow"
   ]
  },
  {
   "cell_type": "markdown",
   "metadata": {},
   "source": [
    "* WindGustDir is slightly inversely proportional to RainTomorrow"
   ]
  },
  {
   "cell_type": "markdown",
   "metadata": {},
   "source": [
    "* WindGustSpeed is partially directly proportional to RainTomorrow "
   ]
  },
  {
   "cell_type": "markdown",
   "metadata": {},
   "source": [
    "* There is no correlation between WindDir9am, WindDir3pm and RainTomorrow"
   ]
  },
  {
   "cell_type": "markdown",
   "metadata": {},
   "source": [
    "* Humidity9am is partially correlated to RainTomorrow\n"
   ]
  },
  {
   "cell_type": "markdown",
   "metadata": {},
   "source": [
    "* Humidity3pm is significantly correlated to RainTomorrow"
   ]
  },
  {
   "cell_type": "markdown",
   "metadata": {},
   "source": [
    "*  pressure 9am and 3pm  is inversely proportional to RainTomorrow"
   ]
  },
  {
   "cell_type": "markdown",
   "metadata": {},
   "source": [
    "* Cloud9am is partially correlated to the RainTomorrow"
   ]
  },
  {
   "cell_type": "markdown",
   "metadata": {},
   "source": [
    "* Cloud3pm is significantly correlated to the RainTomorrow"
   ]
  },
  {
   "cell_type": "markdown",
   "metadata": {},
   "source": [
    "* Temp9am, Temp3pm is partially negatively correlated to the RainTomorrow"
   ]
  },
  {
   "cell_type": "markdown",
   "metadata": {},
   "source": [
    "* Raintoday is partially directly proportional to RainTomorrow"
   ]
  },
  {
   "cell_type": "markdown",
   "metadata": {},
   "source": [
    "The factors affecting  tomorrow's rain fall may be\n",
    "\n",
    "* MaxTemp\n",
    "* Humidity3pm\n",
    "* Rainfall\n",
    "* windGustSpeed\n",
    "* pressure3pm\n",
    "* Temp3pm \n",
    "* RainToday"
   ]
  },
  {
   "cell_type": "markdown",
   "metadata": {},
   "source": [
    "* 80%:20% ; 90%:10 ; \n",
    "        \n",
    "        \n",
    "* Logistic Regression\n",
    "* Decision Tree\n",
    "* RandomForest"
   ]
  },
  {
   "cell_type": "markdown",
   "metadata": {},
   "source": [
    "# Partitioning the data 80%, 20%"
   ]
  },
  {
   "cell_type": "code",
   "execution_count": 118,
   "metadata": {},
   "outputs": [],
   "source": [
    "X = weather[['MaxTemp','Humidity3pm','Rainfall','WindGustSpeed','Pressure3pm','Temp3pm','RainToday']]\n",
    "Y = weather['RainTomorrow']"
   ]
  },
  {
   "cell_type": "code",
   "execution_count": 119,
   "metadata": {},
   "outputs": [],
   "source": [
    "from sklearn.model_selection import train_test_split"
   ]
  },
  {
   "cell_type": "code",
   "execution_count": 120,
   "metadata": {},
   "outputs": [],
   "source": [
    "X_train,X_test,Y_train,Y_test = train_test_split(X,Y,test_size = 0.2,random_state = 1)"
   ]
  },
  {
   "cell_type": "code",
   "execution_count": 121,
   "metadata": {},
   "outputs": [],
   "source": [
    "X_train = X_train.values.reshape((-1,7))"
   ]
  },
  {
   "cell_type": "markdown",
   "metadata": {},
   "source": [
    "## Logistic Regression Model"
   ]
  },
  {
   "cell_type": "code",
   "execution_count": 122,
   "metadata": {},
   "outputs": [],
   "source": [
    "from sklearn.linear_model import LogisticRegression"
   ]
  },
  {
   "cell_type": "code",
   "execution_count": 123,
   "metadata": {},
   "outputs": [],
   "source": [
    "lr = LogisticRegression()"
   ]
  },
  {
   "cell_type": "code",
   "execution_count": 124,
   "metadata": {},
   "outputs": [
    {
     "name": "stderr",
     "output_type": "stream",
     "text": [
      "C:\\Users\\PERSANAL\\Anaconda3\\lib\\site-packages\\sklearn\\linear_model\\logistic.py:433: FutureWarning: Default solver will be changed to 'lbfgs' in 0.22. Specify a solver to silence this warning.\n",
      "  FutureWarning)\n"
     ]
    },
    {
     "data": {
      "text/plain": [
       "LogisticRegression(C=1.0, class_weight=None, dual=False, fit_intercept=True,\n",
       "          intercept_scaling=1, max_iter=100, multi_class='warn',\n",
       "          n_jobs=None, penalty='l2', random_state=None, solver='warn',\n",
       "          tol=0.0001, verbose=0, warm_start=False)"
      ]
     },
     "execution_count": 124,
     "metadata": {},
     "output_type": "execute_result"
    }
   ],
   "source": [
    "lr.fit(X_train,Y_train)"
   ]
  },
  {
   "cell_type": "code",
   "execution_count": 125,
   "metadata": {},
   "outputs": [],
   "source": [
    "X_test = X_test.values.reshape((-1,7))"
   ]
  },
  {
   "cell_type": "code",
   "execution_count": 126,
   "metadata": {},
   "outputs": [],
   "source": [
    "Y_predict1 = lr.predict(X_test)"
   ]
  },
  {
   "cell_type": "code",
   "execution_count": 127,
   "metadata": {},
   "outputs": [],
   "source": [
    "from sklearn.metrics import accuracy_score,recall_score,roc_auc_score,confusion_matrix"
   ]
  },
  {
   "cell_type": "code",
   "execution_count": 128,
   "metadata": {},
   "outputs": [
    {
     "name": "stdout",
     "output_type": "stream",
     "text": [
      "Accuracy_lr  84.11336544885545\n",
      "Recall_lr  47.283126787416585\n",
      "ROC_AUC_lr  70.93214817582616\n"
     ]
    },
    {
     "data": {
      "text/plain": [
       "array([[20945,  1200],\n",
       "       [ 3318,  2976]], dtype=int64)"
      ]
     },
     "execution_count": 128,
     "metadata": {},
     "output_type": "execute_result"
    }
   ],
   "source": [
    "print(\"Accuracy_lr \",(accuracy_score(Y_test,Y_predict1)*100))\n",
    "print(\"Recall_lr \",(recall_score(Y_test,Y_predict1)*100))\n",
    "print(\"ROC_AUC_lr \",(roc_auc_score(Y_test,Y_predict1)*100))\n",
    "cf_lr = confusion_matrix(Y_test,Y_predict1)\n",
    "cf_lr"
   ]
  },
  {
   "cell_type": "code",
   "execution_count": 129,
   "metadata": {},
   "outputs": [],
   "source": [
    "from sklearn.model_selection import cross_val_score,cross_val_predict"
   ]
  },
  {
   "cell_type": "code",
   "execution_count": 130,
   "metadata": {},
   "outputs": [],
   "source": [
    "X_train_std = minmax.fit_transform(X_train)"
   ]
  },
  {
   "cell_type": "code",
   "execution_count": 131,
   "metadata": {},
   "outputs": [],
   "source": [
    "lr_accu = cross_val_score(lr,X_train_std,Y_train,cv = 3,scoring ='accuracy',n_jobs = -1)"
   ]
  },
  {
   "cell_type": "code",
   "execution_count": 132,
   "metadata": {},
   "outputs": [
    {
     "name": "stderr",
     "output_type": "stream",
     "text": [
      "C:\\Users\\PERSANAL\\Anaconda3\\lib\\site-packages\\sklearn\\linear_model\\logistic.py:433: FutureWarning: Default solver will be changed to 'lbfgs' in 0.22. Specify a solver to silence this warning.\n",
      "  FutureWarning)\n",
      "C:\\Users\\PERSANAL\\Anaconda3\\lib\\site-packages\\sklearn\\linear_model\\logistic.py:433: FutureWarning: Default solver will be changed to 'lbfgs' in 0.22. Specify a solver to silence this warning.\n",
      "  FutureWarning)\n",
      "C:\\Users\\PERSANAL\\Anaconda3\\lib\\site-packages\\sklearn\\linear_model\\logistic.py:433: FutureWarning: Default solver will be changed to 'lbfgs' in 0.22. Specify a solver to silence this warning.\n",
      "  FutureWarning)\n"
     ]
    }
   ],
   "source": [
    "lr_proba = cross_val_predict(lr,X_train_std,Y_train,cv = 3,method = 'predict_proba')"
   ]
  },
  {
   "cell_type": "code",
   "execution_count": 133,
   "metadata": {},
   "outputs": [],
   "source": [
    "lr_scores = lr_proba[:,1]"
   ]
  },
  {
   "cell_type": "code",
   "execution_count": 134,
   "metadata": {},
   "outputs": [
    {
     "data": {
      "text/plain": [
       "array([0.83612437, 0.83764967, 0.83561463])"
      ]
     },
     "execution_count": 134,
     "metadata": {},
     "output_type": "execute_result"
    }
   ],
   "source": [
    "lr_accu"
   ]
  },
  {
   "cell_type": "code",
   "execution_count": 135,
   "metadata": {},
   "outputs": [
    {
     "name": "stdout",
     "output_type": "stream",
     "text": [
      "Sensitivity_lr/Recall_lr  0.8632485677780983\n",
      "Specificity_lr  0.7126436781609196\n",
      "Precision_lr  0.9458116956423572\n"
     ]
    }
   ],
   "source": [
    "print(\"Sensitivity_lr/Recall_lr \",cf_lr[0,0]/(cf_lr[0,0]+cf_lr[1,0]))\n",
    "print(\"Specificity_lr \",cf_lr[1,1]/(cf_lr[1,1]+cf_lr[0,1]))\n",
    "print(\"Precision_lr \",cf_lr[0,0]/(cf_lr[0,0]+cf_lr[0,1]))"
   ]
  },
  {
   "cell_type": "markdown",
   "metadata": {},
   "source": [
    "## Decision Tree Model"
   ]
  },
  {
   "cell_type": "code",
   "execution_count": 136,
   "metadata": {},
   "outputs": [],
   "source": [
    "from sklearn.tree import DecisionTreeClassifier"
   ]
  },
  {
   "cell_type": "code",
   "execution_count": 137,
   "metadata": {},
   "outputs": [],
   "source": [
    "dtc = DecisionTreeClassifier()"
   ]
  },
  {
   "cell_type": "code",
   "execution_count": 138,
   "metadata": {},
   "outputs": [
    {
     "data": {
      "text/plain": [
       "DecisionTreeClassifier(class_weight=None, criterion='gini', max_depth=None,\n",
       "            max_features=None, max_leaf_nodes=None,\n",
       "            min_impurity_decrease=0.0, min_impurity_split=None,\n",
       "            min_samples_leaf=1, min_samples_split=2,\n",
       "            min_weight_fraction_leaf=0.0, presort=False, random_state=None,\n",
       "            splitter='best')"
      ]
     },
     "execution_count": 138,
     "metadata": {},
     "output_type": "execute_result"
    }
   ],
   "source": [
    "dtc.fit(X_train,Y_train)"
   ]
  },
  {
   "cell_type": "code",
   "execution_count": 139,
   "metadata": {},
   "outputs": [],
   "source": [
    "Y_predict2 = dtc.predict(X_test)"
   ]
  },
  {
   "cell_type": "code",
   "execution_count": 140,
   "metadata": {},
   "outputs": [
    {
     "name": "stdout",
     "output_type": "stream",
     "text": [
      "Accuracy_dtc  77.23900277787546\n",
      "Recall_dtc  51.20749920559263\n",
      "ROC_AUC_dtc  67.92255746010045\n"
     ]
    },
    {
     "data": {
      "text/plain": [
       "array([[18743,  3402],\n",
       "       [ 3071,  3223]], dtype=int64)"
      ]
     },
     "execution_count": 140,
     "metadata": {},
     "output_type": "execute_result"
    }
   ],
   "source": [
    "print(\"Accuracy_dtc \",(accuracy_score(Y_test,Y_predict2)*100))\n",
    "print(\"Recall_dtc \",(recall_score(Y_test,Y_predict2)*100))\n",
    "print(\"ROC_AUC_dtc \",(roc_auc_score(Y_test,Y_predict2)*100))\n",
    "cf_dtc = confusion_matrix(Y_test,Y_predict2)\n",
    "cf_dtc"
   ]
  },
  {
   "cell_type": "code",
   "execution_count": 141,
   "metadata": {},
   "outputs": [],
   "source": [
    "dtc_accu = cross_val_score(dtc,X_train_std,Y_train,cv = 3,scoring ='accuracy',n_jobs = -1)\n",
    "dtc_proba = cross_val_predict(dtc,X_train_std,Y_train,cv = 3,method = 'predict_proba')"
   ]
  },
  {
   "cell_type": "code",
   "execution_count": 142,
   "metadata": {},
   "outputs": [
    {
     "data": {
      "text/plain": [
       "array([0.76819009, 0.76992457, 0.76867896])"
      ]
     },
     "execution_count": 142,
     "metadata": {},
     "output_type": "execute_result"
    }
   ],
   "source": [
    "dtc_scores = dtc_proba[:,1]\n",
    "dtc_accu"
   ]
  },
  {
   "cell_type": "code",
   "execution_count": 143,
   "metadata": {},
   "outputs": [
    {
     "name": "stdout",
     "output_type": "stream",
     "text": [
      "Sensitivity_dtc/Recall_dtc  0.859218850279637\n",
      "Specificity_dtc  0.4864905660377358\n",
      "Precision_dtc  0.8463761571460826\n"
     ]
    }
   ],
   "source": [
    "print(\"Sensitivity_dtc/Recall_dtc \",cf_dtc[0,0]/(cf_dtc[0,0]+cf_dtc[1,0]))\n",
    "print(\"Specificity_dtc \",cf_dtc[1,1]/(cf_dtc[1,1]+cf_dtc[0,1]))\n",
    "print(\"Precision_dtc \",cf_dtc[0,0]/(cf_dtc[0,0]+cf_dtc[0,1]))"
   ]
  },
  {
   "cell_type": "markdown",
   "metadata": {},
   "source": [
    "## RandomForest Model"
   ]
  },
  {
   "cell_type": "code",
   "execution_count": 144,
   "metadata": {},
   "outputs": [],
   "source": [
    "from sklearn.ensemble import RandomForestClassifier"
   ]
  },
  {
   "cell_type": "markdown",
   "metadata": {},
   "source": [
    "### maxdepth = 3"
   ]
  },
  {
   "cell_type": "code",
   "execution_count": 145,
   "metadata": {},
   "outputs": [],
   "source": [
    "rmf1 = RandomForestClassifier(max_depth = 3,random_state = 0 )"
   ]
  },
  {
   "cell_type": "code",
   "execution_count": 146,
   "metadata": {},
   "outputs": [
    {
     "name": "stderr",
     "output_type": "stream",
     "text": [
      "C:\\Users\\PERSANAL\\Anaconda3\\lib\\site-packages\\sklearn\\ensemble\\forest.py:246: FutureWarning: The default value of n_estimators will change from 10 in version 0.20 to 100 in 0.22.\n",
      "  \"10 in version 0.20 to 100 in 0.22.\", FutureWarning)\n"
     ]
    },
    {
     "data": {
      "text/plain": [
       "RandomForestClassifier(bootstrap=True, class_weight=None, criterion='gini',\n",
       "            max_depth=3, max_features='auto', max_leaf_nodes=None,\n",
       "            min_impurity_decrease=0.0, min_impurity_split=None,\n",
       "            min_samples_leaf=1, min_samples_split=2,\n",
       "            min_weight_fraction_leaf=0.0, n_estimators=10, n_jobs=None,\n",
       "            oob_score=False, random_state=0, verbose=0, warm_start=False)"
      ]
     },
     "execution_count": 146,
     "metadata": {},
     "output_type": "execute_result"
    }
   ],
   "source": [
    "rmf1.fit(X_train,Y_train)"
   ]
  },
  {
   "cell_type": "code",
   "execution_count": 147,
   "metadata": {},
   "outputs": [],
   "source": [
    "Y_predict3 = rmf1.predict(X_test)"
   ]
  },
  {
   "cell_type": "code",
   "execution_count": 148,
   "metadata": {},
   "outputs": [
    {
     "name": "stdout",
     "output_type": "stream",
     "text": [
      "Accuracy_rmf1  82.56619431062977\n",
      "Recall_rmf1  31.17254528122021\n",
      "ROC_AUC_rmf1  64.17286103528158\n"
     ]
    },
    {
     "data": {
      "text/plain": [
       "array([[21519,   626],\n",
       "       [ 4332,  1962]], dtype=int64)"
      ]
     },
     "execution_count": 148,
     "metadata": {},
     "output_type": "execute_result"
    }
   ],
   "source": [
    "print(\"Accuracy_rmf1 \",(accuracy_score(Y_test,Y_predict3)*100))\n",
    "print(\"Recall_rmf1 \",(recall_score(Y_test,Y_predict3)*100))\n",
    "print(\"ROC_AUC_rmf1 \",(roc_auc_score(Y_test,Y_predict3)*100))\n",
    "cf_rmf1 = confusion_matrix(Y_test,Y_predict3)\n",
    "cf_rmf1"
   ]
  },
  {
   "cell_type": "code",
   "execution_count": 149,
   "metadata": {},
   "outputs": [],
   "source": [
    "rmf1_accu = cross_val_score(rmf1,X_train_std,Y_train,cv = 3,scoring ='accuracy',n_jobs = -1)\n",
    "rmf1_proba = cross_val_predict(rmf1,X_train_std,Y_train,cv = 3,method = 'predict_proba')"
   ]
  },
  {
   "cell_type": "code",
   "execution_count": 150,
   "metadata": {},
   "outputs": [],
   "source": [
    "rmf1_scores = rmf1_proba[:,1]"
   ]
  },
  {
   "cell_type": "code",
   "execution_count": 151,
   "metadata": {},
   "outputs": [
    {
     "data": {
      "text/plain": [
       "array([0.82167251, 0.82106124, 0.82037081])"
      ]
     },
     "execution_count": 151,
     "metadata": {},
     "output_type": "execute_result"
    }
   ],
   "source": [
    "rmf1_accu"
   ]
  },
  {
   "cell_type": "code",
   "execution_count": 152,
   "metadata": {},
   "outputs": [
    {
     "name": "stdout",
     "output_type": "stream",
     "text": [
      "Sensitivity_rmf1/Recall_rmf1  0.8324242775908088\n",
      "Specificity_rmf1  0.7581143740340031\n",
      "Precision_rmf1  0.9717317678934296\n"
     ]
    }
   ],
   "source": [
    "print(\"Sensitivity_rmf1/Recall_rmf1 \",cf_rmf1[0,0]/(cf_rmf1[0,0]+cf_rmf1[1,0]))\n",
    "print(\"Specificity_rmf1 \",cf_rmf1[1,1]/(cf_rmf1[1,1]+cf_rmf1[0,1]))\n",
    "print(\"Precision_rmf1 \",cf_rmf1[0,0]/(cf_rmf1[0,0]+cf_rmf1[0,1]))"
   ]
  },
  {
   "cell_type": "markdown",
   "metadata": {},
   "source": [
    "### maxdepth = 4"
   ]
  },
  {
   "cell_type": "code",
   "execution_count": 153,
   "metadata": {},
   "outputs": [],
   "source": [
    "rmf2 = RandomForestClassifier(max_depth = 4,random_state = 0 )"
   ]
  },
  {
   "cell_type": "code",
   "execution_count": 154,
   "metadata": {},
   "outputs": [
    {
     "name": "stderr",
     "output_type": "stream",
     "text": [
      "C:\\Users\\PERSANAL\\Anaconda3\\lib\\site-packages\\sklearn\\ensemble\\forest.py:246: FutureWarning: The default value of n_estimators will change from 10 in version 0.20 to 100 in 0.22.\n",
      "  \"10 in version 0.20 to 100 in 0.22.\", FutureWarning)\n"
     ]
    },
    {
     "data": {
      "text/plain": [
       "RandomForestClassifier(bootstrap=True, class_weight=None, criterion='gini',\n",
       "            max_depth=4, max_features='auto', max_leaf_nodes=None,\n",
       "            min_impurity_decrease=0.0, min_impurity_split=None,\n",
       "            min_samples_leaf=1, min_samples_split=2,\n",
       "            min_weight_fraction_leaf=0.0, n_estimators=10, n_jobs=None,\n",
       "            oob_score=False, random_state=0, verbose=0, warm_start=False)"
      ]
     },
     "execution_count": 154,
     "metadata": {},
     "output_type": "execute_result"
    }
   ],
   "source": [
    "rmf2.fit(X_train,Y_train)"
   ]
  },
  {
   "cell_type": "code",
   "execution_count": 155,
   "metadata": {},
   "outputs": [],
   "source": [
    "Y_predict4 = rmf2.predict(X_test)"
   ]
  },
  {
   "cell_type": "code",
   "execution_count": 156,
   "metadata": {},
   "outputs": [
    {
     "name": "stdout",
     "output_type": "stream",
     "text": [
      "Accuracy_rmf2  83.57888814655931\n",
      "Recall_rmf2  36.66984429615507\n",
      "ROC_AUC_rmf2  66.79055547388472\n"
     ]
    },
    {
     "data": {
      "text/plain": [
       "array([[21461,   684],\n",
       "       [ 3986,  2308]], dtype=int64)"
      ]
     },
     "execution_count": 156,
     "metadata": {},
     "output_type": "execute_result"
    }
   ],
   "source": [
    "print(\"Accuracy_rmf2 \",(accuracy_score(Y_test,Y_predict4)*100))\n",
    "print(\"Recall_rmf2 \",(recall_score(Y_test,Y_predict4)*100))\n",
    "print(\"ROC_AUC_rmf2 \",(roc_auc_score(Y_test,Y_predict4)*100))\n",
    "cf_rmf2 = confusion_matrix(Y_test,Y_predict4)\n",
    "cf_rmf2"
   ]
  },
  {
   "cell_type": "code",
   "execution_count": 157,
   "metadata": {},
   "outputs": [],
   "source": [
    "rmf2_accu = cross_val_score(rmf2,X_train_std,Y_train,cv = 3,scoring ='accuracy',n_jobs = -1)\n",
    "rmf2_proba = cross_val_predict(rmf2,X_train_std,Y_train,cv = 3,method = 'predict_proba')"
   ]
  },
  {
   "cell_type": "code",
   "execution_count": 158,
   "metadata": {},
   "outputs": [],
   "source": [
    "rmf2_scores = rmf1_proba[:,1]"
   ]
  },
  {
   "cell_type": "code",
   "execution_count": 159,
   "metadata": {},
   "outputs": [
    {
     "data": {
      "text/plain": [
       "array([0.83293336, 0.83353552, 0.83194873])"
      ]
     },
     "execution_count": 159,
     "metadata": {},
     "output_type": "execute_result"
    }
   ],
   "source": [
    "rmf2_accu"
   ]
  },
  {
   "cell_type": "code",
   "execution_count": 160,
   "metadata": {},
   "outputs": [
    {
     "name": "stdout",
     "output_type": "stream",
     "text": [
      "Sensitivity_rmf2/Recall_rmf2  0.8433607104963257\n",
      "Specificity_rmf2  0.7713903743315508\n",
      "Precision_rmf2  0.9691126665161436\n"
     ]
    }
   ],
   "source": [
    "print(\"Sensitivity_rmf2/Recall_rmf2 \",cf_rmf2[0,0]/(cf_rmf2[0,0]+cf_rmf2[1,0]))\n",
    "print(\"Specificity_rmf2 \",cf_rmf2[1,1]/(cf_rmf2[1,1]+cf_rmf2[0,1]))\n",
    "print(\"Precision_rmf2 \",cf_rmf2[0,0]/(cf_rmf2[0,0]+cf_rmf2[0,1]))"
   ]
  },
  {
   "cell_type": "markdown",
   "metadata": {},
   "source": [
    "### maxdepth = 5"
   ]
  },
  {
   "cell_type": "code",
   "execution_count": 161,
   "metadata": {},
   "outputs": [],
   "source": [
    "rmf3 = RandomForestClassifier(max_depth = 5,random_state = 0 )"
   ]
  },
  {
   "cell_type": "code",
   "execution_count": 162,
   "metadata": {},
   "outputs": [
    {
     "name": "stderr",
     "output_type": "stream",
     "text": [
      "C:\\Users\\PERSANAL\\Anaconda3\\lib\\site-packages\\sklearn\\ensemble\\forest.py:246: FutureWarning: The default value of n_estimators will change from 10 in version 0.20 to 100 in 0.22.\n",
      "  \"10 in version 0.20 to 100 in 0.22.\", FutureWarning)\n"
     ]
    },
    {
     "data": {
      "text/plain": [
       "RandomForestClassifier(bootstrap=True, class_weight=None, criterion='gini',\n",
       "            max_depth=5, max_features='auto', max_leaf_nodes=None,\n",
       "            min_impurity_decrease=0.0, min_impurity_split=None,\n",
       "            min_samples_leaf=1, min_samples_split=2,\n",
       "            min_weight_fraction_leaf=0.0, n_estimators=10, n_jobs=None,\n",
       "            oob_score=False, random_state=0, verbose=0, warm_start=False)"
      ]
     },
     "execution_count": 162,
     "metadata": {},
     "output_type": "execute_result"
    }
   ],
   "source": [
    "rmf3.fit(X_train,Y_train)"
   ]
  },
  {
   "cell_type": "code",
   "execution_count": 163,
   "metadata": {},
   "outputs": [],
   "source": [
    "Y_predict5 = rmf3.predict(X_test)"
   ]
  },
  {
   "cell_type": "code",
   "execution_count": 164,
   "metadata": {},
   "outputs": [
    {
     "name": "stdout",
     "output_type": "stream",
     "text": [
      "Accuracy_rmf3  83.9305179507015\n",
      "Recall_rmf3  40.05401970130283\n",
      "ROC_AUC_rmf3  68.22750657677469\n"
     ]
    },
    {
     "data": {
      "text/plain": [
       "array([[21348,   797],\n",
       "       [ 3773,  2521]], dtype=int64)"
      ]
     },
     "execution_count": 164,
     "metadata": {},
     "output_type": "execute_result"
    }
   ],
   "source": [
    "print(\"Accuracy_rmf3 \",(accuracy_score(Y_test,Y_predict5)*100))\n",
    "print(\"Recall_rmf3 \",(recall_score(Y_test,Y_predict5)*100))\n",
    "print(\"ROC_AUC_rmf3 \",(roc_auc_score(Y_test,Y_predict5)*100))\n",
    "cf_rmf3 = confusion_matrix(Y_test,Y_predict5)\n",
    "cf_rmf3"
   ]
  },
  {
   "cell_type": "code",
   "execution_count": 165,
   "metadata": {},
   "outputs": [
    {
     "data": {
      "text/plain": [
       "array([0.83520135, 0.8369376 , 0.8352454 ])"
      ]
     },
     "execution_count": 165,
     "metadata": {},
     "output_type": "execute_result"
    }
   ],
   "source": [
    "rmf3_accu = cross_val_score(rmf3,X_train_std,Y_train,cv = 3,scoring ='accuracy',n_jobs = -1)\n",
    "rmf3_proba = cross_val_predict(rmf3,X_train_std,Y_train,cv = 3,method = 'predict_proba')\n",
    "rmf3_scores = rmf3_proba[:,1]\n",
    "rmf3_accu"
   ]
  },
  {
   "cell_type": "code",
   "execution_count": 166,
   "metadata": {},
   "outputs": [
    {
     "name": "stdout",
     "output_type": "stream",
     "text": [
      "Sensitivity_rmf3/Recall_rmf3  0.8498069344373234\n",
      "Specificity_rmf3  0.7597950572634117\n",
      "Precision_rmf3  0.9640099345224655\n"
     ]
    }
   ],
   "source": [
    "print(\"Sensitivity_rmf3/Recall_rmf3 \",cf_rmf3[0,0]/(cf_rmf3[0,0]+cf_rmf3[1,0]))\n",
    "print(\"Specificity_rmf3 \",cf_rmf3[1,1]/(cf_rmf3[1,1]+cf_rmf3[0,1]))\n",
    "print(\"Precision_rmf3 \",cf_rmf3[0,0]/(cf_rmf3[0,0]+cf_rmf3[0,1]))"
   ]
  },
  {
   "cell_type": "markdown",
   "metadata": {},
   "source": [
    "# maxdepth = 6"
   ]
  },
  {
   "cell_type": "code",
   "execution_count": 167,
   "metadata": {},
   "outputs": [],
   "source": [
    "rmf4 = RandomForestClassifier(max_depth = 6,random_state = 0 )"
   ]
  },
  {
   "cell_type": "code",
   "execution_count": 168,
   "metadata": {},
   "outputs": [
    {
     "name": "stderr",
     "output_type": "stream",
     "text": [
      "C:\\Users\\PERSANAL\\Anaconda3\\lib\\site-packages\\sklearn\\ensemble\\forest.py:246: FutureWarning: The default value of n_estimators will change from 10 in version 0.20 to 100 in 0.22.\n",
      "  \"10 in version 0.20 to 100 in 0.22.\", FutureWarning)\n"
     ]
    },
    {
     "data": {
      "text/plain": [
       "RandomForestClassifier(bootstrap=True, class_weight=None, criterion='gini',\n",
       "            max_depth=6, max_features='auto', max_leaf_nodes=None,\n",
       "            min_impurity_decrease=0.0, min_impurity_split=None,\n",
       "            min_samples_leaf=1, min_samples_split=2,\n",
       "            min_weight_fraction_leaf=0.0, n_estimators=10, n_jobs=None,\n",
       "            oob_score=False, random_state=0, verbose=0, warm_start=False)"
      ]
     },
     "execution_count": 168,
     "metadata": {},
     "output_type": "execute_result"
    }
   ],
   "source": [
    "rmf4.fit(X_train,Y_train)"
   ]
  },
  {
   "cell_type": "code",
   "execution_count": 169,
   "metadata": {},
   "outputs": [],
   "source": [
    "Y_predict6 = rmf4.predict(X_test)"
   ]
  },
  {
   "cell_type": "code",
   "execution_count": 170,
   "metadata": {},
   "outputs": [
    {
     "name": "stdout",
     "output_type": "stream",
     "text": [
      "Accuracy_rmf4  84.1696262175182\n",
      "Recall_rmf4  42.707340324118206\n",
      "ROC_AUC_rmf4  69.33064013270712\n"
     ]
    },
    {
     "data": {
      "text/plain": [
       "array([[21249,   896],\n",
       "       [ 3606,  2688]], dtype=int64)"
      ]
     },
     "execution_count": 170,
     "metadata": {},
     "output_type": "execute_result"
    }
   ],
   "source": [
    "print(\"Accuracy_rmf4 \",(accuracy_score(Y_test,Y_predict6)*100))\n",
    "print(\"Recall_rmf4 \",(recall_score(Y_test,Y_predict6)*100))\n",
    "print(\"ROC_AUC_rmf4 \",(roc_auc_score(Y_test,Y_predict6)*100))\n",
    "cf_rmf4 = confusion_matrix(Y_test,Y_predict6)\n",
    "cf_rmf4"
   ]
  },
  {
   "cell_type": "code",
   "execution_count": 171,
   "metadata": {},
   "outputs": [
    {
     "data": {
      "text/plain": [
       "array([0.83636172, 0.83770241, 0.83769813])"
      ]
     },
     "execution_count": 171,
     "metadata": {},
     "output_type": "execute_result"
    }
   ],
   "source": [
    "rmf4_accu = cross_val_score(rmf4,X_train_std,Y_train,cv = 3,scoring ='accuracy',n_jobs = -1)\n",
    "rmf4_proba = cross_val_predict(rmf4,X_train_std,Y_train,cv = 3,method = 'predict_proba')\n",
    "rmf4_scores = rmf4_proba[:,1]\n",
    "rmf4_accu"
   ]
  },
  {
   "cell_type": "code",
   "execution_count": 172,
   "metadata": {},
   "outputs": [
    {
     "name": "stdout",
     "output_type": "stream",
     "text": [
      "Sensitivity_rmf4/Recall_rmf4  0.8549185274592638\n",
      "Specificity_rmf4  0.75\n",
      "Precision_rmf4  0.9595393994129601\n"
     ]
    }
   ],
   "source": [
    "print(\"Sensitivity_rmf4/Recall_rmf4 \",cf_rmf4[0,0]/(cf_rmf4[0,0]+cf_rmf4[1,0]))\n",
    "print(\"Specificity_rmf4 \",cf_rmf4[1,1]/(cf_rmf4[1,1]+cf_rmf4[0,1]))\n",
    "print(\"Precision_rmf4 \",cf_rmf4[0,0]/(cf_rmf4[0,0]+cf_rmf4[0,1]))"
   ]
  },
  {
   "cell_type": "markdown",
   "metadata": {},
   "source": [
    "## K Nearest Neighbour Classifier"
   ]
  },
  {
   "cell_type": "code",
   "execution_count": 173,
   "metadata": {},
   "outputs": [],
   "source": [
    "from sklearn import model_selection,neighbors"
   ]
  },
  {
   "cell_type": "code",
   "execution_count": 174,
   "metadata": {},
   "outputs": [],
   "source": [
    "knn = neighbors.KNeighborsClassifier()"
   ]
  },
  {
   "cell_type": "code",
   "execution_count": 175,
   "metadata": {},
   "outputs": [
    {
     "data": {
      "text/plain": [
       "KNeighborsClassifier(algorithm='auto', leaf_size=30, metric='minkowski',\n",
       "           metric_params=None, n_jobs=None, n_neighbors=5, p=2,\n",
       "           weights='uniform')"
      ]
     },
     "execution_count": 175,
     "metadata": {},
     "output_type": "execute_result"
    }
   ],
   "source": [
    "knn.fit(X_train,Y_train)"
   ]
  },
  {
   "cell_type": "code",
   "execution_count": 176,
   "metadata": {},
   "outputs": [],
   "source": [
    "Y_predict7 = knn.predict(X_test)"
   ]
  },
  {
   "cell_type": "code",
   "execution_count": 177,
   "metadata": {},
   "outputs": [
    {
     "name": "stdout",
     "output_type": "stream",
     "text": [
      "Accuracy_knn  82.79123738528078\n",
      "Recall_knn  49.58690816650779\n",
      "ROC_AUC_knn  70.90770109160793\n"
     ]
    },
    {
     "data": {
      "text/plain": [
       "array([[20424,  1721],\n",
       "       [ 3173,  3121]], dtype=int64)"
      ]
     },
     "execution_count": 177,
     "metadata": {},
     "output_type": "execute_result"
    }
   ],
   "source": [
    "print(\"Accuracy_knn \",(accuracy_score(Y_test,Y_predict7)*100))\n",
    "print(\"Recall_knn \",(recall_score(Y_test,Y_predict7)*100))\n",
    "print(\"ROC_AUC_knn \",(roc_auc_score(Y_test,Y_predict7)*100))\n",
    "cf_knn = confusion_matrix(Y_test,Y_predict7)\n",
    "cf_knn"
   ]
  },
  {
   "cell_type": "code",
   "execution_count": 178,
   "metadata": {},
   "outputs": [
    {
     "data": {
      "text/plain": [
       "array([0.82404599, 0.82309194, 0.82646306])"
      ]
     },
     "execution_count": 178,
     "metadata": {},
     "output_type": "execute_result"
    }
   ],
   "source": [
    "knn_accu = cross_val_score(knn,X_train_std,Y_train,cv = 3,scoring ='accuracy',n_jobs = -1)\n",
    "knn_proba = cross_val_predict(knn,X_train_std,Y_train,cv = 3,method = 'predict_proba')\n",
    "knn_scores = knn_proba[:,1]\n",
    "knn_accu"
   ]
  },
  {
   "cell_type": "code",
   "execution_count": 179,
   "metadata": {},
   "outputs": [
    {
     "name": "stdout",
     "output_type": "stream",
     "text": [
      "Sensitivity_knn/Recall_knn  0.8655337542907997\n",
      "Specificity_knn  0.6445683601817431\n",
      "Precision_knn  0.9222849401670806\n"
     ]
    }
   ],
   "source": [
    "print(\"Sensitivity_knn/Recall_knn \",cf_knn[0,0]/(cf_knn[0,0]+cf_knn[1,0]))\n",
    "print(\"Specificity_knn \",cf_knn[1,1]/(cf_knn[1,1]+cf_knn[0,1]))\n",
    "print(\"Precision_knn \",cf_knn[0,0]/(cf_knn[0,0]+cf_knn[0,1]))"
   ]
  },
  {
   "cell_type": "code",
   "execution_count": 180,
   "metadata": {},
   "outputs": [],
   "source": [
    "from sklearn.metrics import roc_auc_score,roc_curve"
   ]
  },
  {
   "cell_type": "code",
   "execution_count": 181,
   "metadata": {},
   "outputs": [],
   "source": [
    "def ROC_curve(title,y_train,scores,label = None):\n",
    "    #calculate the ROC score\n",
    "    fpr,tpr,thresholds = roc_curve(y_train,scores)\n",
    "    print(\"AUC_score({}): (:,2f) \".format(title,roc_auc_score(y_train,scores)))\n",
    "    plt.figure(figsize=(8,6))\n",
    "    plt.plot(fpr,tpr,linewidth = 2,label = label,color = 'b' )\n",
    "    plt.xlabel('False Positive Rate',fontsize = 16)\n",
    "    plt.ylabel('True Positives Rate',fontsize = 16)\n",
    "    plt.title('ROC curve :{}'.format(title),fontsize = 16)\n",
    "    plt.show()"
   ]
  },
  {
   "cell_type": "code",
   "execution_count": 182,
   "metadata": {},
   "outputs": [
    {
     "name": "stdout",
     "output_type": "stream",
     "text": [
      "AUC_score(KNN): (:,2f) \n"
     ]
    },
    {
     "data": {
      "image/png": "[encoded data removed]",
      "text/plain": [
       "<Figure size 576x432 with 1 Axes>"
      ]
     },
     "metadata": {
      "needs_background": "light"
     },
     "output_type": "display_data"
    },
    {
     "name": "stdout",
     "output_type": "stream",
     "text": [
      "AUC_score(Logistic Regression): (:,2f) \n"
     ]
    },
    {
     "data": {
      "image/png": "[encoded data removed]",
      "text/plain": [
       "<Figure size 576x432 with 1 Axes>"
      ]
     },
     "metadata": {
      "needs_background": "light"
     },
     "output_type": "display_data"
    },
    {
     "name": "stdout",
     "output_type": "stream",
     "text": [
      "AUC_score(Decision Tree Classifier): (:,2f) \n"
     ]
    },
    {
     "data": {
      "image/png": "[encoded data removed]",
      "text/plain": [
       "<Figure size 576x432 with 1 Axes>"
      ]
     },
     "metadata": {
      "needs_background": "light"
     },
     "output_type": "display_data"
    },
    {
     "name": "stdout",
     "output_type": "stream",
     "text": [
      "AUC_score(Random Forest Classifer_3): (:,2f) \n"
     ]
    },
    {
     "data": {
      "image/png": "[encoded data removed]",
      "text/plain": [
       "<Figure size 576x432 with 1 Axes>"
      ]
     },
     "metadata": {
      "needs_background": "light"
     },
     "output_type": "display_data"
    },
    {
     "name": "stdout",
     "output_type": "stream",
     "text": [
      "AUC_score(Random Forest Classifer_4): (:,2f) \n"
     ]
    },
    {
     "data": {
      "image/png": "[encoded data removed]",
      "text/plain": [
       "<Figure size 576x432 with 1 Axes>"
      ]
     },
     "metadata": {
      "needs_background": "light"
     },
     "output_type": "display_data"
    },
    {
     "name": "stdout",
     "output_type": "stream",
     "text": [
      "AUC_score(Random Forest Classifer_5): (:,2f) \n"
     ]
    },
    {
     "data": {
      "image/png": "[encoded data removed]",
      "text/plain": [
       "<Figure size 576x432 with 1 Axes>"
      ]
     },
     "metadata": {
      "needs_background": "light"
     },
     "output_type": "display_data"
    },
    {
     "name": "stdout",
     "output_type": "stream",
     "text": [
      "AUC_score(Random Forest Classifer_6): (:,2f) \n"
     ]
    },
    {
     "data": {
      "image/png": "[encoded data removed]",
      "text/plain": [
       "<Figure size 576x432 with 1 Axes>"
      ]
     },
     "metadata": {
      "needs_background": "light"
     },
     "output_type": "display_data"
    }
   ],
   "source": [
    "ROC_curve('KNN',Y_train,knn_scores)\n",
    "ROC_curve('Logistic Regression',Y_train,lr_scores)\n",
    "#ROC_curve('Support Vector Classification',Y_train,svc_scores)\n",
    "ROC_curve('Decision Tree Classifier',Y_train,dtc_scores)\n",
    "ROC_curve('Random Forest Classifer_3',Y_train,rmf1_scores)\n",
    "ROC_curve('Random Forest Classifer_4',Y_train,rmf2_scores)\n",
    "ROC_curve('Random Forest Classifer_5',Y_train,rmf3_scores)\n",
    "ROC_curve('Random Forest Classifer_6',Y_train,rmf4_scores)"
   ]
  },
  {
   "cell_type": "code",
   "execution_count": 183,
   "metadata": {},
   "outputs": [
    {
     "name": "stdout",
     "output_type": "stream",
     "text": [
      "AUC_score(Logistic Regression): (:,2f) \n"
     ]
    },
    {
     "data": {
      "image/png": "[encoded data removed]",
      "text/plain": [
       "<Figure size 576x432 with 1 Axes>"
      ]
     },
     "metadata": {
      "needs_background": "light"
     },
     "output_type": "display_data"
    }
   ],
   "source": [
    "ROC_curve('Logistic Regression',Y_train,lr_scores)"
   ]
  },
  {
   "cell_type": "code",
   "execution_count": 184,
   "metadata": {},
   "outputs": [
    {
     "name": "stdout",
     "output_type": "stream",
     "text": [
      "AUC_score(Random Forest Classifer_6): (:,2f) \n"
     ]
    },
    {
     "data": {
      "image/png": "[encoded data removed]",
      "text/plain": [
       "<Figure size 576x432 with 1 Axes>"
      ]
     },
     "metadata": {
      "needs_background": "light"
     },
     "output_type": "display_data"
    }
   ],
   "source": [
    "ROC_curve('Random Forest Classifer_6',Y_train,rmf4_scores)"
   ]
  },
  {
   "cell_type": "code",
   "execution_count": null,
   "metadata": {},
   "outputs": [],
   "source": []
  },
  {
   "cell_type": "code",
   "execution_count": null,
   "metadata": {},
   "outputs": [],
   "source": []
  }
 ],
 "metadata": {
  "kernelspec": {
   "display_name": "Python 3",
   "language": "python",
   "name": "python3"
  },
  "language_info": {
   "codemirror_mode": {
    "name": "ipython",
    "version": 3
   },
   "file_extension": ".py",
   "mimetype": "text/x-python",
   "name": "python",
   "nbconvert_exporter": "python",
   "pygments_lexer": "ipython3",
   "version": "3.7.3"
  }
 },
 "nbformat": 4,
 "nbformat_minor": 2
}
